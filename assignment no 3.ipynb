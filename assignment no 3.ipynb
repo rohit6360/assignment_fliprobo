{
 "cells": [
  {
   "cell_type": "code",
   "execution_count": 1,
   "id": "e6a16599",
   "metadata": {},
   "outputs": [
    {
     "name": "stdout",
     "output_type": "stream",
     "text": [
      "Requirement already satisfied: selenium in c:\\users\\rohit\\anaconda3\\lib\\site-packages (4.9.1)\n",
      "Requirement already satisfied: trio~=0.17 in c:\\users\\rohit\\anaconda3\\lib\\site-packages (from selenium) (0.22.0)\n",
      "Requirement already satisfied: trio-websocket~=0.9 in c:\\users\\rohit\\anaconda3\\lib\\site-packages (from selenium) (0.10.2)\n",
      "Requirement already satisfied: urllib3[socks]<3,>=1.26 in c:\\users\\rohit\\anaconda3\\lib\\site-packages (from selenium) (1.26.11)\n",
      "Requirement already satisfied: certifi>=2021.10.8 in c:\\users\\rohit\\anaconda3\\lib\\site-packages (from selenium) (2022.6.15)\n",
      "Requirement already satisfied: outcome in c:\\users\\rohit\\anaconda3\\lib\\site-packages (from trio~=0.17->selenium) (1.2.0)\n",
      "Requirement already satisfied: sniffio in c:\\users\\rohit\\anaconda3\\lib\\site-packages (from trio~=0.17->selenium) (1.2.0)\n",
      "Requirement already satisfied: attrs>=19.2.0 in c:\\users\\rohit\\anaconda3\\lib\\site-packages (from trio~=0.17->selenium) (21.4.0)\n",
      "Requirement already satisfied: cffi>=1.14 in c:\\users\\rohit\\anaconda3\\lib\\site-packages (from trio~=0.17->selenium) (1.15.1)\n",
      "Requirement already satisfied: exceptiongroup>=1.0.0rc9 in c:\\users\\rohit\\anaconda3\\lib\\site-packages (from trio~=0.17->selenium) (1.1.1)\n",
      "Requirement already satisfied: sortedcontainers in c:\\users\\rohit\\anaconda3\\lib\\site-packages (from trio~=0.17->selenium) (2.4.0)\n",
      "Requirement already satisfied: idna in c:\\users\\rohit\\anaconda3\\lib\\site-packages (from trio~=0.17->selenium) (3.3)\n",
      "Requirement already satisfied: async-generator>=1.9 in c:\\users\\rohit\\anaconda3\\lib\\site-packages (from trio~=0.17->selenium) (1.10)\n",
      "Requirement already satisfied: wsproto>=0.14 in c:\\users\\rohit\\anaconda3\\lib\\site-packages (from trio-websocket~=0.9->selenium) (1.2.0)\n",
      "Requirement already satisfied: PySocks!=1.5.7,<2.0,>=1.5.6 in c:\\users\\rohit\\anaconda3\\lib\\site-packages (from urllib3[socks]<3,>=1.26->selenium) (1.7.1)\n",
      "Requirement already satisfied: pycparser in c:\\users\\rohit\\anaconda3\\lib\\site-packages (from cffi>=1.14->trio~=0.17->selenium) (2.21)\n",
      "Requirement already satisfied: h11<1,>=0.9.0 in c:\\users\\rohit\\anaconda3\\lib\\site-packages (from wsproto>=0.14->trio-websocket~=0.9->selenium) (0.14.0)\n"
     ]
    }
   ],
   "source": [
    "!Pip install selenium"
   ]
  },
  {
   "cell_type": "code",
   "execution_count": 2,
   "id": "4c07e8e2",
   "metadata": {},
   "outputs": [],
   "source": [
    "import selenium\n",
    "from selenium import webdriver\n",
    "import pandas as pd\n",
    "from selenium.webdriver.common.by import By\n",
    "from selenium.common.exceptions import NoSuchElementException,StaleElementReferenceException\n",
    "import time\n",
    "\n",
    "import warnings\n",
    "warnings.filterwarnings('ignore')"
   ]
  },
  {
   "cell_type": "code",
   "execution_count": 23,
   "id": "9fc97d7f",
   "metadata": {},
   "outputs": [],
   "source": [
    "driver = webdriver.Chrome(r'chromedriver.exe')"
   ]
  },
  {
   "cell_type": "code",
   "execution_count": 24,
   "id": "3fe82432",
   "metadata": {},
   "outputs": [],
   "source": [
    "driver.get('https://www.forbes.com')"
   ]
  },
  {
   "cell_type": "code",
   "execution_count": 25,
   "id": "a3392e8c",
   "metadata": {},
   "outputs": [],
   "source": [
    "import re\n",
    "from selenium.common.exceptions import NoSuchElementException, StaleElementReferenceException\n",
    "from selenium.webdriver.support.ui import WebDriverWait"
   ]
  },
  {
   "cell_type": "code",
   "execution_count": 26,
   "id": "fb351dac",
   "metadata": {},
   "outputs": [],
   "source": [
    "#let's get option button from the page\n",
    "opt_btn = driver.find_element(By.XPATH,\"//div[@class='_69hVhdY4']\")\n",
    "opt_btn.click()\n",
    "time.sleep(3)"
   ]
  },
  {
   "cell_type": "code",
   "execution_count": 28,
   "id": "0664c441",
   "metadata": {},
   "outputs": [],
   "source": [
    "\n",
    "opt_btn = driver.find_element(By.XPATH,\"/html/body/div[1]/header/nav/div[1]/div[1]/div/div[2]/ul/li[2]/div[1]\")\n",
    "opt_btn.click()\n",
    "time.sleep(3)"
   ]
  },
  {
   "cell_type": "code",
   "execution_count": 29,
   "id": "68e5670b",
   "metadata": {},
   "outputs": [],
   "source": [
    "opt_btn = driver.find_element(By.XPATH,\"/html/body/div[1]/header/nav/div[1]/div[1]/div/div[2]/ul/li[2]/div[2]/div[3]/ul/li[1]/a\")\n",
    "opt_btn.click()\n",
    "time.sleep(3)"
   ]
  },
  {
   "cell_type": "code",
   "execution_count": 30,
   "id": "83efc159",
   "metadata": {},
   "outputs": [],
   "source": [
    "# creating empty lists\n",
    "Rank = []\n",
    "Person_Name = []\n",
    "Net_worth = []\n",
    "Age = []\n",
    "Citizenship = []\n",
    "Source = []\n",
    "Industry = []"
   ]
  },
  {
   "cell_type": "code",
   "execution_count": 34,
   "id": "e4fa2908",
   "metadata": {},
   "outputs": [],
   "source": [
    "while(True):\n",
    "    \n",
    "    # scraping the data of rank of the billionaires\n",
    "    rank_tag = driver.find_elements(By.XPATH,\"/html/body/div[1]/div[2]/div[3]/div[2]/div[2]/div[2]/div[1]/div[1]/div[1]/div[2]/div[1]/div[1]/div[1]/div\")\n",
    "    for rank in rank_tag:\n",
    "        Rank.append(rank.text)\n",
    "    time.sleep(1)\n",
    "    \n",
    "    \n",
    " \n",
    "    # scraping the data  of names of the billionaires\n",
    "    name_tag = driver.find_elements(By.XPATH,\"/html/body/div[1]/div[2]/div[3]/div[2]/div[2]/div[2]/div[1]/div[1]/div[1]/div[2]/div[1]/div[1]/div[2]/div\")\n",
    "    for name in name_tag:\n",
    "        Person_Name.append(name.text)\n",
    "    time.sleep(1)\n",
    "    \n",
    "    \n",
    "    # scraping the data of age of the billionaires\n",
    "    age_tag = driver.find_elements(By.XPATH,\"/html/body/div[1]/div[2]/div[3]/div[2]/div[2]/div[2]/div[1]/div[1]/div[1]/div[2]/div[1]/div[1]/div[4]/div\")\n",
    "    for age in age_tag:\n",
    "        Age.append(age.text)\n",
    "    time.sleep(1)\n",
    "    \n",
    "    \n",
    "    # scraping the data of citizenship of the billionaires\n",
    "    cit_tag = driver.find_elements(By.XPATH,\"/html/body/div[1]/div[2]/div[3]/div[2]/div[2]/div[2]/div[1]/div[1]/div[1]/div[2]/div[1]/div[1]/div[5]\")\n",
    "    for cit in cit_tag:\n",
    "        Citizenship.append(cit.text)\n",
    "    time.sleep(1)\n",
    "    \n",
    "    \n",
    "    # scraping the data of source of income of the billionaires\n",
    "    sour_tag = driver.find_elements(By.XPATH,\"/html/body/div[1]/div[2]/div[3]/div[2]/div[2]/div[2]/div[1]/div[1]/div[1]/div[2]/div[1]/div[1]/div[6]/div/span\")\n",
    "    for sour in sour_tag:\n",
    "        Source.append(sour.text)\n",
    "    time.sleep(1)\n",
    "    \n",
    "    \n",
    "    # scraping data of industry of the billionaires\n",
    "    ind_tag = driver.find_elements(By.XPATH,\"/html/body/div[1]/div[2]/div[3]/div[2]/div[2]/div[2]/div[1]/div[1]/div[1]/div[2]/div[1]/div[1]/div[7]\")\n",
    "    for ind in ind_tag:\n",
    "        Industry.append(ind.text)\n",
    "    time.sleep(1)\n",
    "    \n",
    "    \n",
    "    # scraping data of net_worth of billionaires\n",
    "    net_tag = driver.find_elements(By.XPATH,\"/html/body/div[1]/div[2]/div[3]/div[2]/div[2]/div[2]/div[1]/div[1]/div[1]/div[2]/div[1]/div[1]/div[3]\")\n",
    "    for net in net_tag:\n",
    "        Net_worth.append(net.text)\n",
    "    time.sleep(1)\n",
    "    \n",
    "    \n",
    "    # clicking on next button\n",
    "    try:\n",
    "        next_button = driver.find_element(By.XPATH,\"/html/body/div[1]/div[2]/div[3]/div[2]/div[2]/div[2]/div[2]/div[2]/div[1]/button[2]/div/span[1]\")\n",
    "        next_button.click()\n",
    "    except:\n",
    "        break"
   ]
  },
  {
   "cell_type": "code",
   "execution_count": 35,
   "id": "e4a00ab7",
   "metadata": {},
   "outputs": [],
   "source": [
    "import pandas as pd\n",
    "forbes=pd.DataFrame({\"Rank\":Rank,\"Person_Name\":Person_Name,\"Net_worth\":Net_worth,\"Age\":Age,\"Citizenship\":Citizenship,\"Source\":Source,\"Industry\":Industry })\n"
   ]
  },
  {
   "cell_type": "code",
   "execution_count": 36,
   "id": "7779ec3b",
   "metadata": {},
   "outputs": [
    {
     "data": {
      "text/html": [
       "<div>\n",
       "<style scoped>\n",
       "    .dataframe tbody tr th:only-of-type {\n",
       "        vertical-align: middle;\n",
       "    }\n",
       "\n",
       "    .dataframe tbody tr th {\n",
       "        vertical-align: top;\n",
       "    }\n",
       "\n",
       "    .dataframe thead th {\n",
       "        text-align: right;\n",
       "    }\n",
       "</style>\n",
       "<table border=\"1\" class=\"dataframe\">\n",
       "  <thead>\n",
       "    <tr style=\"text-align: right;\">\n",
       "      <th></th>\n",
       "      <th>Rank</th>\n",
       "      <th>Person_Name</th>\n",
       "      <th>Net_worth</th>\n",
       "      <th>Age</th>\n",
       "      <th>Citizenship</th>\n",
       "      <th>Source</th>\n",
       "      <th>Industry</th>\n",
       "    </tr>\n",
       "  </thead>\n",
       "  <tbody>\n",
       "    <tr>\n",
       "      <th>0</th>\n",
       "      <td>1</td>\n",
       "      <td>Bernard Arnault &amp; family</td>\n",
       "      <td>$211 B</td>\n",
       "      <td>74</td>\n",
       "      <td>France</td>\n",
       "      <td>LVMH</td>\n",
       "      <td>Fashion &amp; Retail</td>\n",
       "    </tr>\n",
       "    <tr>\n",
       "      <th>1</th>\n",
       "      <td>195</td>\n",
       "      <td>Victoria Mars</td>\n",
       "      <td>$9.6 B</td>\n",
       "      <td>66</td>\n",
       "      <td>United States</td>\n",
       "      <td>Candy, pet food</td>\n",
       "      <td>Food &amp; Beverage</td>\n",
       "    </tr>\n",
       "    <tr>\n",
       "      <th>2</th>\n",
       "      <td>397</td>\n",
       "      <td>Alexei Kuzmichev</td>\n",
       "      <td>$6.4 B</td>\n",
       "      <td>60</td>\n",
       "      <td>Russia</td>\n",
       "      <td>Oil, banking, telecom</td>\n",
       "      <td>Energy</td>\n",
       "    </tr>\n",
       "    <tr>\n",
       "      <th>3</th>\n",
       "      <td>591</td>\n",
       "      <td>Richard Li</td>\n",
       "      <td>$4.6 B</td>\n",
       "      <td>56</td>\n",
       "      <td>Hong Kong</td>\n",
       "      <td>Telecom</td>\n",
       "      <td>Telecom</td>\n",
       "    </tr>\n",
       "    <tr>\n",
       "      <th>4</th>\n",
       "      <td>787</td>\n",
       "      <td>Samuel Tak Lee</td>\n",
       "      <td>$3.6 B</td>\n",
       "      <td>83</td>\n",
       "      <td>Hong Kong</td>\n",
       "      <td>Real estate</td>\n",
       "      <td>Real Estate</td>\n",
       "    </tr>\n",
       "    <tr>\n",
       "      <th>5</th>\n",
       "      <td>982</td>\n",
       "      <td>Carlos Hank Rhon</td>\n",
       "      <td>$3 B</td>\n",
       "      <td>75</td>\n",
       "      <td>Mexico</td>\n",
       "      <td>Banking</td>\n",
       "      <td>Diversified</td>\n",
       "    </tr>\n",
       "    <tr>\n",
       "      <th>6</th>\n",
       "      <td>1164</td>\n",
       "      <td>James Packer</td>\n",
       "      <td>$2.6 B</td>\n",
       "      <td>55</td>\n",
       "      <td>Australia</td>\n",
       "      <td>Investments</td>\n",
       "      <td>Finance &amp; Investments</td>\n",
       "    </tr>\n",
       "    <tr>\n",
       "      <th>7</th>\n",
       "      <td>1368</td>\n",
       "      <td>Thi Phuong Thao Nguyen</td>\n",
       "      <td>$2.2 B</td>\n",
       "      <td>52</td>\n",
       "      <td>Vietnam</td>\n",
       "      <td>Airlines</td>\n",
       "      <td>Diversified</td>\n",
       "    </tr>\n",
       "    <tr>\n",
       "      <th>8</th>\n",
       "      <td>1575</td>\n",
       "      <td>Caroline Hagen Kjos</td>\n",
       "      <td>$1.9 B</td>\n",
       "      <td>39</td>\n",
       "      <td>Norway</td>\n",
       "      <td>Conglomerate</td>\n",
       "      <td>Diversified</td>\n",
       "    </tr>\n",
       "    <tr>\n",
       "      <th>9</th>\n",
       "      <td>1725</td>\n",
       "      <td>Zhang Xiaojuan</td>\n",
       "      <td>$1.7 B</td>\n",
       "      <td>53</td>\n",
       "      <td>China</td>\n",
       "      <td>Logistics</td>\n",
       "      <td>Logistics</td>\n",
       "    </tr>\n",
       "    <tr>\n",
       "      <th>10</th>\n",
       "      <td>1905</td>\n",
       "      <td>Yuequn Tao</td>\n",
       "      <td>$1.5 B</td>\n",
       "      <td>63</td>\n",
       "      <td>China</td>\n",
       "      <td>Contact Lens</td>\n",
       "      <td>Fashion &amp; Retail</td>\n",
       "    </tr>\n",
       "    <tr>\n",
       "      <th>11</th>\n",
       "      <td>2133</td>\n",
       "      <td>Lv Jianming</td>\n",
       "      <td>$1.3 B</td>\n",
       "      <td>58</td>\n",
       "      <td>Hong Kong</td>\n",
       "      <td>Medical equipment</td>\n",
       "      <td>Healthcare</td>\n",
       "    </tr>\n",
       "    <tr>\n",
       "      <th>12</th>\n",
       "      <td>2259</td>\n",
       "      <td>Zhang Yin</td>\n",
       "      <td>$1.2 B</td>\n",
       "      <td>66</td>\n",
       "      <td>China</td>\n",
       "      <td>Paper manufacturing</td>\n",
       "      <td>Manufacturing</td>\n",
       "    </tr>\n",
       "    <tr>\n",
       "      <th>13</th>\n",
       "      <td>2540</td>\n",
       "      <td>Lu Yonghua &amp; family</td>\n",
       "      <td>$1 B</td>\n",
       "      <td>59</td>\n",
       "      <td>China</td>\n",
       "      <td>Electronics</td>\n",
       "      <td>Technology</td>\n",
       "    </tr>\n",
       "  </tbody>\n",
       "</table>\n",
       "</div>"
      ],
      "text/plain": [
       "    Rank               Person_Name Net_worth Age    Citizenship   \n",
       "0      1  Bernard Arnault & family    $211 B  74         France  \\\n",
       "1    195             Victoria Mars    $9.6 B  66  United States   \n",
       "2    397          Alexei Kuzmichev    $6.4 B  60         Russia   \n",
       "3    591                Richard Li    $4.6 B  56      Hong Kong   \n",
       "4    787            Samuel Tak Lee    $3.6 B  83      Hong Kong   \n",
       "5    982          Carlos Hank Rhon      $3 B  75         Mexico   \n",
       "6   1164              James Packer    $2.6 B  55      Australia   \n",
       "7   1368    Thi Phuong Thao Nguyen    $2.2 B  52        Vietnam   \n",
       "8   1575       Caroline Hagen Kjos    $1.9 B  39         Norway   \n",
       "9   1725            Zhang Xiaojuan    $1.7 B  53          China   \n",
       "10  1905                Yuequn Tao    $1.5 B  63          China   \n",
       "11  2133               Lv Jianming    $1.3 B  58      Hong Kong   \n",
       "12  2259                 Zhang Yin    $1.2 B  66          China   \n",
       "13  2540       Lu Yonghua & family      $1 B  59          China   \n",
       "\n",
       "                   Source               Industry  \n",
       "0                    LVMH       Fashion & Retail  \n",
       "1         Candy, pet food        Food & Beverage  \n",
       "2   Oil, banking, telecom                 Energy  \n",
       "3                 Telecom                Telecom  \n",
       "4             Real estate            Real Estate  \n",
       "5                 Banking            Diversified  \n",
       "6             Investments  Finance & Investments  \n",
       "7                Airlines            Diversified  \n",
       "8            Conglomerate            Diversified  \n",
       "9               Logistics              Logistics  \n",
       "10           Contact Lens       Fashion & Retail  \n",
       "11      Medical equipment             Healthcare  \n",
       "12    Paper manufacturing          Manufacturing  \n",
       "13            Electronics             Technology  "
      ]
     },
     "execution_count": 36,
     "metadata": {},
     "output_type": "execute_result"
    }
   ],
   "source": [
    "forbes"
   ]
  },
  {
   "cell_type": "code",
   "execution_count": 37,
   "id": "bd148a1b",
   "metadata": {},
   "outputs": [],
   "source": [
    "driver.close()"
   ]
  },
  {
   "cell_type": "code",
   "execution_count": 38,
   "id": "76264047",
   "metadata": {},
   "outputs": [],
   "source": [
    "driver = webdriver.Chrome(r'chromedriver.exe')"
   ]
  },
  {
   "cell_type": "code",
   "execution_count": 39,
   "id": "8d999c6a",
   "metadata": {},
   "outputs": [],
   "source": [
    "import re\n",
    "from selenium.common.exceptions import NoSuchElementException, StaleElementReferenceException\n",
    "from selenium.webdriver.support.ui import WebDriverWait"
   ]
  },
  {
   "cell_type": "code",
   "execution_count": 40,
   "id": "9c3daac2",
   "metadata": {},
   "outputs": [],
   "source": [
    "url =\"https://www.youtube.com/\"\n",
    "driver.get(url)"
   ]
  },
  {
   "cell_type": "code",
   "execution_count": 41,
   "id": "f5976855",
   "metadata": {},
   "outputs": [
    {
     "name": "stdout",
     "output_type": "stream",
     "text": [
      "Search What You Want see you again\n"
     ]
    },
    {
     "data": {
      "text/plain": [
       "'see you again'"
      ]
     },
     "execution_count": 41,
     "metadata": {},
     "output_type": "execute_result"
    }
   ],
   "source": [
    "user_input=input(\"Search What You Want \")\n",
    "user_input"
   ]
  },
  {
   "cell_type": "code",
   "execution_count": 42,
   "id": "f5aae1f8",
   "metadata": {},
   "outputs": [],
   "source": [
    "search_job=driver.find_element(By.XPATH,\"//input[@id='search']\")\n",
    "search_job.send_keys(user_input)"
   ]
  },
  {
   "cell_type": "code",
   "execution_count": 43,
   "id": "21a6f142",
   "metadata": {},
   "outputs": [],
   "source": [
    "search_btn=driver.find_element(By.XPATH,\"//button[@id='search-icon-legacy']\")\n",
    "search_btn.click()"
   ]
  },
  {
   "cell_type": "code",
   "execution_count": 44,
   "id": "f8105308",
   "metadata": {},
   "outputs": [],
   "source": [
    "search_btn=driver.find_element(By.XPATH,\"//a[@id='video-title']\")\n",
    "search_btn.click()"
   ]
  },
  {
   "cell_type": "code",
   "execution_count": 45,
   "id": "9a2d3083",
   "metadata": {},
   "outputs": [],
   "source": [
    "for _ in range(1500):\n",
    "    driver.execute_script(\"window.scrollBy(0,10000)\")"
   ]
  },
  {
   "cell_type": "code",
   "execution_count": 46,
   "id": "ea11e5b7",
   "metadata": {},
   "outputs": [],
   "source": [
    "cmt = []\n",
    "upvt = []\n",
    "cmttime = []"
   ]
  },
  {
   "cell_type": "code",
   "execution_count": 51,
   "id": "b8a31c98",
   "metadata": {},
   "outputs": [],
   "source": [
    "cmt_tag = driver.find_elements(By.XPATH,\"//yt-formatted-string[@id='content-text']\")\n",
    "for i in cmt_tag:\n",
    "    cmt.append(i.text.replace(\"\\n\",''))\n",
    "\n",
    "upvt_tag = driver.find_elements(By.XPATH,\"//span[@class='style-scope ytd-comment-action-buttons-renderer']\")\n",
    "for j in upvt_tag:\n",
    "    try: \n",
    "        upvt.append(j.text)\n",
    "    except:\n",
    "        upvt.append('-')\n",
    "cmttime_tag = driver.find_elements(By.XPATH,\"//a[contains(text(),'ago')]\")\n",
    "for k in cmttime_tag:\n",
    "    try: \n",
    "        cmttime.append(k.text)\n",
    "    except:\n",
    "        cmttime.append('-')"
   ]
  },
  {
   "cell_type": "code",
   "execution_count": 52,
   "id": "f80ee6a3",
   "metadata": {},
   "outputs": [
    {
     "data": {
      "text/plain": [
       "500"
      ]
     },
     "execution_count": 52,
     "metadata": {},
     "output_type": "execute_result"
    }
   ],
   "source": [
    "cmt=cmt[0:500]\n",
    "len(cmt)"
   ]
  },
  {
   "cell_type": "code",
   "execution_count": 55,
   "id": "1710c86d",
   "metadata": {},
   "outputs": [
    {
     "data": {
      "text/plain": [
       "500"
      ]
     },
     "execution_count": 55,
     "metadata": {},
     "output_type": "execute_result"
    }
   ],
   "source": [
    "cmttime=cmttime[0:500]\n",
    "len(cmttime)"
   ]
  },
  {
   "cell_type": "code",
   "execution_count": 56,
   "id": "c6e6a7f6",
   "metadata": {},
   "outputs": [
    {
     "data": {
      "text/plain": [
       "500"
      ]
     },
     "execution_count": 56,
     "metadata": {},
     "output_type": "execute_result"
    }
   ],
   "source": [
    "upvt=upvt[0:500]\n",
    "len(upvt)"
   ]
  },
  {
   "cell_type": "code",
   "execution_count": 57,
   "id": "26cf6eb3",
   "metadata": {},
   "outputs": [
    {
     "data": {
      "text/html": [
       "<div>\n",
       "<style scoped>\n",
       "    .dataframe tbody tr th:only-of-type {\n",
       "        vertical-align: middle;\n",
       "    }\n",
       "\n",
       "    .dataframe tbody tr th {\n",
       "        vertical-align: top;\n",
       "    }\n",
       "\n",
       "    .dataframe thead th {\n",
       "        text-align: right;\n",
       "    }\n",
       "</style>\n",
       "<table border=\"1\" class=\"dataframe\">\n",
       "  <thead>\n",
       "    <tr style=\"text-align: right;\">\n",
       "      <th></th>\n",
       "      <th>Comments</th>\n",
       "      <th>Comment upvote</th>\n",
       "      <th>time</th>\n",
       "    </tr>\n",
       "  </thead>\n",
       "  <tbody>\n",
       "    <tr>\n",
       "      <th>0</th>\n",
       "      <td>we love paul walker</td>\n",
       "      <td></td>\n",
       "      <td>4 years ago</td>\n",
       "    </tr>\n",
       "    <tr>\n",
       "      <th>1</th>\n",
       "      <td>No matter of what era of music we're in it'll ...</td>\n",
       "      <td>138K</td>\n",
       "      <td>2 days ago</td>\n",
       "    </tr>\n",
       "    <tr>\n",
       "      <th>2</th>\n",
       "      <td>my love for this song never ends. masterpiece.</td>\n",
       "      <td></td>\n",
       "      <td>2 days ago</td>\n",
       "    </tr>\n",
       "    <tr>\n",
       "      <th>3</th>\n",
       "      <td>This song brings tears to my eyes evetime I li...</td>\n",
       "      <td>295</td>\n",
       "      <td>1 day ago</td>\n",
       "    </tr>\n",
       "    <tr>\n",
       "      <th>4</th>\n",
       "      <td>It's been a long day without you, my friendAnd...</td>\n",
       "      <td></td>\n",
       "      <td>5 days ago (edited)</td>\n",
       "    </tr>\n",
       "    <tr>\n",
       "      <th>...</th>\n",
       "      <td>...</td>\n",
       "      <td>...</td>\n",
       "      <td>...</td>\n",
       "    </tr>\n",
       "    <tr>\n",
       "      <th>495</th>\n",
       "      <td>Timeless Masterpiece!</td>\n",
       "      <td>137</td>\n",
       "      <td>2 days ago</td>\n",
       "    </tr>\n",
       "    <tr>\n",
       "      <th>496</th>\n",
       "      <td>we love paul walker</td>\n",
       "      <td></td>\n",
       "      <td>2 years ago</td>\n",
       "    </tr>\n",
       "    <tr>\n",
       "      <th>497</th>\n",
       "      <td>No matter of what era of music we're in it'll ...</td>\n",
       "      <td>70</td>\n",
       "      <td>3 days ago</td>\n",
       "    </tr>\n",
       "    <tr>\n",
       "      <th>498</th>\n",
       "      <td>my love for this song never ends. masterpiece.</td>\n",
       "      <td></td>\n",
       "      <td>5 days ago</td>\n",
       "    </tr>\n",
       "    <tr>\n",
       "      <th>499</th>\n",
       "      <td>This song brings tears to my eyes evetime I li...</td>\n",
       "      <td>42</td>\n",
       "      <td>15 hours ago</td>\n",
       "    </tr>\n",
       "  </tbody>\n",
       "</table>\n",
       "<p>500 rows × 3 columns</p>\n",
       "</div>"
      ],
      "text/plain": [
       "                                              Comments  Comment upvote   \n",
       "0                                  we love paul walker                  \\\n",
       "1    No matter of what era of music we're in it'll ...            138K   \n",
       "2       my love for this song never ends. masterpiece.                   \n",
       "3    This song brings tears to my eyes evetime I li...             295   \n",
       "4    It's been a long day without you, my friendAnd...                   \n",
       "..                                                 ...             ...   \n",
       "495                              Timeless Masterpiece!             137   \n",
       "496                                we love paul walker                   \n",
       "497  No matter of what era of music we're in it'll ...              70   \n",
       "498     my love for this song never ends. masterpiece.                   \n",
       "499  This song brings tears to my eyes evetime I li...              42   \n",
       "\n",
       "                    time  \n",
       "0            4 years ago  \n",
       "1             2 days ago  \n",
       "2             2 days ago  \n",
       "3              1 day ago  \n",
       "4    5 days ago (edited)  \n",
       "..                   ...  \n",
       "495           2 days ago  \n",
       "496          2 years ago  \n",
       "497           3 days ago  \n",
       "498           5 days ago  \n",
       "499         15 hours ago  \n",
       "\n",
       "[500 rows x 3 columns]"
      ]
     },
     "execution_count": 57,
     "metadata": {},
     "output_type": "execute_result"
    }
   ],
   "source": [
    "import pandas as pd\n",
    "df1 =pd.DataFrame({\"Comments\":cmt,\" Comment upvote\":upvt,\"time\":cmttime})\n",
    "df1"
   ]
  },
  {
   "cell_type": "code",
   "execution_count": 58,
   "id": "bd55ebb2",
   "metadata": {},
   "outputs": [],
   "source": [
    "driver.close()"
   ]
  },
  {
   "cell_type": "code",
   "execution_count": 148,
   "id": "01941696",
   "metadata": {},
   "outputs": [],
   "source": [
    "import re\n",
    "from selenium.common.exceptions import NoSuchElementException, StaleElementReferenceException\n",
    "from selenium.webdriver.support.ui import WebDriverWait"
   ]
  },
  {
   "cell_type": "code",
   "execution_count": 149,
   "id": "547f4686",
   "metadata": {},
   "outputs": [],
   "source": [
    "driver = webdriver.Chrome(r'chromedriver.exe')\n"
   ]
  },
  {
   "cell_type": "code",
   "execution_count": 150,
   "id": "28288dd8",
   "metadata": {},
   "outputs": [],
   "source": [
    "url = \"https://www.hostelworld.com/s?q=London, England&country=England&city=London&type=city&id=3&from=2022-11-25&to=2022-11-28&guests=2&page=1\"\n",
    "driver.get(url)"
   ]
  },
  {
   "cell_type": "code",
   "execution_count": 151,
   "id": "34680fca",
   "metadata": {},
   "outputs": [],
   "source": [
    "# creating empty list & find required data\n",
    "hostel_name = []\n",
    "distance = []\n",
    "pvt_prices = []\n",
    "dorms_price = []\n",
    "rating = []\n",
    "reviews = []\n",
    "over_all = []\n",
    "facilities = []\n",
    "description = []"
   ]
  },
  {
   "cell_type": "code",
   "execution_count": 152,
   "id": "923c26a2",
   "metadata": {},
   "outputs": [],
   "source": [
    "# scraping  hostel name\n",
    "try:\n",
    "    name = driver.find_elements(By.XPATH,\"//h2[@class='title title-6']\")\n",
    "    for i in name:\n",
    "        hostel_name.append(i.text)\n",
    "except NoSuchElementException:\n",
    "    hostel_name.append('-')"
   ]
  },
  {
   "cell_type": "code",
   "execution_count": 153,
   "id": "c87a7a48",
   "metadata": {},
   "outputs": [
    {
     "data": {
      "text/plain": [
       "30"
      ]
     },
     "execution_count": 153,
     "metadata": {},
     "output_type": "execute_result"
    }
   ],
   "source": [
    "len(hostel_name)"
   ]
  },
  {
   "cell_type": "code",
   "execution_count": 183,
   "id": "184807e9",
   "metadata": {},
   "outputs": [
    {
     "data": {
      "text/plain": [
       "[\"St Christopher's Village\",\n",
       " 'Urbany Hostel London',\n",
       " 'Generator London',\n",
       " 'NX London Hostel',\n",
       " 'Safestay London Elephant & Castle',\n",
       " 'Phoenix Hostel',\n",
       " 'Clink261',\n",
       " 'Safestay London Kensington Holland Park',\n",
       " 'London Backpackers',\n",
       " \"St Christopher's Hammersmith\",\n",
       " \"St Christopher's Camden\",\n",
       " 'International Students House',\n",
       " 'PubLove @ The Steam Engine, Waterloo',\n",
       " 'Bell House Hostel',\n",
       " \"St Christopher's Greenwich\",\n",
       " 'YHA London Oxford Street',\n",
       " 'Saint James Backpackers',\n",
       " 'The Backpackshack',\n",
       " 'Selina Camden',\n",
       " 'Kensal Green Backpackers',\n",
       " 'PubLove @ The Crown, Battersea',\n",
       " 'Book a Bed Hostels',\n",
       " 'PubLove @ The White Ferry, Victoria',\n",
       " 'Hostelle London',\n",
       " 'Hootananny Hostel',\n",
       " 'PubLove @ The Rose & Crown',\n",
       " 'Elmwood Hotel',\n",
       " \"Tony's House Hotel\",\n",
       " 'PubLove @ The Exmouth Arms, Euston',\n",
       " 'City Hotel Carlton']"
      ]
     },
     "execution_count": 183,
     "metadata": {},
     "output_type": "execute_result"
    }
   ],
   "source": [
    "hostel_name"
   ]
  },
  {
   "cell_type": "code",
   "execution_count": 154,
   "id": "7b87342f",
   "metadata": {},
   "outputs": [],
   "source": [
    "# scraping distance from city centre\n",
    "try:\n",
    "    dist = driver.find_elements(By.XPATH,\"//div[@class='subtitle body-3']/a/span[1]\")\n",
    "    for i in dist:\n",
    "        distance.append(i.text.replace(\"Hostel -\",\"\"))\n",
    "except NoSuchElementException:\n",
    "    distance.append('-')"
   ]
  },
  {
   "cell_type": "code",
   "execution_count": 155,
   "id": "0c38e878",
   "metadata": {},
   "outputs": [
    {
     "data": {
      "text/plain": [
       "30"
      ]
     },
     "execution_count": 155,
     "metadata": {},
     "output_type": "execute_result"
    }
   ],
   "source": [
    "len(distance)"
   ]
  },
  {
   "cell_type": "code",
   "execution_count": 184,
   "id": "b67745e0",
   "metadata": {},
   "outputs": [
    {
     "data": {
      "text/plain": [
       "[' 1.8km from city centre',\n",
       " ' 5.4km from city centre',\n",
       " ' 3km from city centre',\n",
       " ' 6.1km from city centre',\n",
       " ' 1.7km from city centre',\n",
       " ' 4.2km from city centre',\n",
       " ' 3.2km from city centre',\n",
       " ' 5.8km from city centre',\n",
       " ' 11.9km from city centre',\n",
       " ' 7.5km from city centre',\n",
       " ' 4.3km from city centre',\n",
       " ' 3.3km from city centre',\n",
       " ' 0.5km from city centre',\n",
       " ' 4.2km from city centre',\n",
       " ' 7.6km from city centre',\n",
       " ' 2.1km from city centre',\n",
       " ' 5.5km from city centre',\n",
       " ' 10.9km from city centre',\n",
       " ' 5.5km from city centre',\n",
       " ' 8.2km from city centre',\n",
       " ' 4.7km from city centre',\n",
       " ' 6.9km from city centre',\n",
       " ' 2.4km from city centre',\n",
       " ' 5.1km from city centre',\n",
       " ' 5km from city centre',\n",
       " ' 1.6km from city centre',\n",
       " 'Hotel - 3.2km from city centre',\n",
       " 'Hotel - 4.3km from city centre',\n",
       " ' 3.4km from city centre',\n",
       " 'Hotel - 1.8km from city centre']"
      ]
     },
     "execution_count": 184,
     "metadata": {},
     "output_type": "execute_result"
    }
   ],
   "source": [
    "distance"
   ]
  },
  {
   "cell_type": "code",
   "execution_count": 156,
   "id": "719f7b52",
   "metadata": {},
   "outputs": [],
   "source": [
    "try:\n",
    "    dorms = driver.find_elements(By.XPATH,\"//a[@class='prices']/div[2]\")\n",
    "    for i in dorms:\n",
    "        dorms_price.append(i.text)\n",
    "except NoSuchElementException:\n",
    "    dorms_price.append('-')"
   ]
  },
  {
   "cell_type": "code",
   "execution_count": 157,
   "id": "334184f6",
   "metadata": {},
   "outputs": [
    {
     "data": {
      "text/plain": [
       "30"
      ]
     },
     "execution_count": 157,
     "metadata": {},
     "output_type": "execute_result"
    }
   ],
   "source": [
    "len(dorms_price)"
   ]
  },
  {
   "cell_type": "code",
   "execution_count": 185,
   "id": "fcb130d2",
   "metadata": {},
   "outputs": [
    {
     "data": {
      "text/plain": [
       "['Dorms From\\nRs3955.54 Rs3560',\n",
       " 'Dorms From\\nRs8329',\n",
       " 'Dorms From\\nRs3320',\n",
       " 'Dorms From\\nRs2596',\n",
       " 'Dorms From\\nRs2594',\n",
       " 'Dorms From\\nRs2377.64 Rs2259',\n",
       " 'Dorms From\\nRs5494',\n",
       " 'Dorms From\\nRs2674',\n",
       " 'No Dorms Available',\n",
       " 'Dorms From\\nRs1912.96 Rs1722',\n",
       " 'Dorms From\\nRs2391.78 Rs2153',\n",
       " 'No Dorms Available',\n",
       " 'Dorms From\\nRs5255',\n",
       " 'Dorms From\\nRs2838',\n",
       " 'Dorms From\\nRs2204.92 Rs1984',\n",
       " 'No Dorms Available',\n",
       " 'Dorms From\\nRs4099',\n",
       " 'No Dorms Available',\n",
       " 'Dorms From\\nRs11225',\n",
       " 'Dorms From\\nRs1892',\n",
       " 'Dorms From\\nRs3469',\n",
       " 'Dorms From\\nRs2199',\n",
       " 'Dorms From\\nRs4730',\n",
       " 'Dorms From\\nRs6516.67 Rs5539',\n",
       " 'Dorms From\\nRs2796',\n",
       " 'Dorms From\\nRs6412',\n",
       " 'No Dorms Available',\n",
       " 'No Dorms Available',\n",
       " 'Dorms From\\nRs4099',\n",
       " 'No Dorms Available']"
      ]
     },
     "execution_count": 185,
     "metadata": {},
     "output_type": "execute_result"
    }
   ],
   "source": [
    "dorms_price"
   ]
  },
  {
   "cell_type": "code",
   "execution_count": 176,
   "id": "40e35745",
   "metadata": {},
   "outputs": [],
   "source": [
    "try:\n",
    "    pvt = driver.find_elements(By.XPATH,\"//a[@class='prices']/div[1]\")\n",
    "    for i in pvt:\n",
    "        pvt_prices.append(i.text)\n",
    "except NoSuchElementException:\n",
    "    pvt_prices .append('-')"
   ]
  },
  {
   "cell_type": "code",
   "execution_count": 177,
   "id": "1ee91d57",
   "metadata": {},
   "outputs": [
    {
     "data": {
      "text/plain": [
       "30"
      ]
     },
     "execution_count": 177,
     "metadata": {},
     "output_type": "execute_result"
    }
   ],
   "source": [
    "pvt_prices=pvt_prices[0:30]\n",
    "len(pvt_prices)"
   ]
  },
  {
   "cell_type": "code",
   "execution_count": 186,
   "id": "e6ff7b1a",
   "metadata": {},
   "outputs": [
    {
     "data": {
      "text/plain": [
       "['No Privates Available',\n",
       " 'Privates From\\nRs16809',\n",
       " 'No Privates Available',\n",
       " 'No Privates Available',\n",
       " 'Privates From\\nRs19458',\n",
       " 'No Privates Available',\n",
       " 'No Privates Available',\n",
       " 'Privates From\\nRs9569',\n",
       " 'Privates From\\nRs6384',\n",
       " 'No Privates Available',\n",
       " 'No Privates Available',\n",
       " 'Privates From\\nRs6937',\n",
       " 'No Privates Available',\n",
       " 'No Privates Available',\n",
       " 'No Privates Available',\n",
       " 'Privates From\\nRs14715',\n",
       " 'No Privates Available',\n",
       " 'Privates From\\nRs9460',\n",
       " 'Privates From\\nRs28253',\n",
       " 'Privates From\\nRs9261',\n",
       " 'Privates From\\nRs11982',\n",
       " 'Privates From\\nRs6306',\n",
       " 'No Privates Available',\n",
       " 'No Privates Available',\n",
       " 'No Privates Available',\n",
       " 'No Privates Available',\n",
       " 'Privates From\\nRs15766',\n",
       " 'Privates From\\nRs24070',\n",
       " 'No Privates Available',\n",
       " 'Privates From\\nRs18919']"
      ]
     },
     "execution_count": 186,
     "metadata": {},
     "output_type": "execute_result"
    }
   ],
   "source": [
    "pvt_prices"
   ]
  },
  {
   "cell_type": "code",
   "execution_count": 178,
   "id": "c7b01c14",
   "metadata": {},
   "outputs": [],
   "source": [
    "try:\n",
    "    rat = driver.find_elements(By.XPATH,\"//div[@class='score orange big'or @class='score gray big'or @class='summary gray']\")\n",
    "    for i in rat:\n",
    "        rating.append(i.text)\n",
    "except NoSuchElementException:\n",
    "    rating.append('-')"
   ]
  },
  {
   "cell_type": "code",
   "execution_count": 179,
   "id": "f2d50fc9",
   "metadata": {},
   "outputs": [
    {
     "data": {
      "text/plain": [
       "30"
      ]
     },
     "execution_count": 179,
     "metadata": {},
     "output_type": "execute_result"
    }
   ],
   "source": [
    "rating = rating[0:30]\n",
    "len(rating)"
   ]
  },
  {
   "cell_type": "code",
   "execution_count": 187,
   "id": "55dbc8ef",
   "metadata": {},
   "outputs": [
    {
     "data": {
      "text/plain": [
       "['9.4',\n",
       " '7.5',\n",
       " '8.3',\n",
       " '7.5',\n",
       " '7.6',\n",
       " '8.3',\n",
       " '7.1',\n",
       " '7.9',\n",
       " '7.7',\n",
       " '7.0',\n",
       " '9.3',\n",
       " '8.0',\n",
       " '7.6',\n",
       " '7.5',\n",
       " '8.8',\n",
       " '7.5',\n",
       " '9.1',\n",
       " '8.9',\n",
       " '5.0',\n",
       " 'Rating\\n3710 Total Reviews',\n",
       " '7.5',\n",
       " '7.4',\n",
       " '7.3',\n",
       " '8.7',\n",
       " '7.6',\n",
       " '7.5',\n",
       " '7.7',\n",
       " '8.2',\n",
       " '6.7',\n",
       " '7.3']"
      ]
     },
     "execution_count": 187,
     "metadata": {},
     "output_type": "execute_result"
    }
   ],
   "source": [
    "rating"
   ]
  },
  {
   "cell_type": "code",
   "execution_count": 162,
   "id": "cecbd81e",
   "metadata": {},
   "outputs": [],
   "source": [
    "try:\n",
    "    rev= driver.find_elements(By.XPATH,\"//div[@class='reviews']\")\n",
    "    for i in rev:\n",
    "        reviews.append(i.text)\n",
    "except NoSuchElementException:\n",
    "    reviews.append('-')"
   ]
  },
  {
   "cell_type": "code",
   "execution_count": 163,
   "id": "211ab32f",
   "metadata": {},
   "outputs": [
    {
     "data": {
      "text/plain": [
       "30"
      ]
     },
     "execution_count": 163,
     "metadata": {},
     "output_type": "execute_result"
    }
   ],
   "source": [
    "len(reviews)"
   ]
  },
  {
   "cell_type": "code",
   "execution_count": 188,
   "id": "018238a6",
   "metadata": {},
   "outputs": [
    {
     "data": {
      "text/plain": [
       "['12155 Total Reviews',\n",
       " '780 Total Reviews',\n",
       " '7500 Total Reviews',\n",
       " '1885 Total Reviews',\n",
       " '4957 Total Reviews',\n",
       " '4126 Total Reviews',\n",
       " '267 Total Reviews',\n",
       " '1528 Total Reviews',\n",
       " '4468 Total Reviews',\n",
       " '4243 Total Reviews',\n",
       " '4035 Total Reviews',\n",
       " '1035 Total Reviews',\n",
       " '394 Total Reviews',\n",
       " '60 Total Reviews',\n",
       " '3350 Total Reviews',\n",
       " '4631 Total Reviews',\n",
       " '1884 Total Reviews',\n",
       " '764 Total Reviews',\n",
       " '50 Total Reviews',\n",
       " '3710 Total Reviews',\n",
       " '301 Total Reviews',\n",
       " '1255 Total Reviews',\n",
       " '338 Total Reviews',\n",
       " '11 Total Reviews',\n",
       " '1511 Total Reviews',\n",
       " '189 Total Reviews',\n",
       " '128 Total Reviews',\n",
       " '422 Total Reviews',\n",
       " '1078 Total Reviews',\n",
       " '49 Total Reviews']"
      ]
     },
     "execution_count": 188,
     "metadata": {},
     "output_type": "execute_result"
    }
   ],
   "source": [
    "reviews"
   ]
  },
  {
   "cell_type": "code",
   "execution_count": 164,
   "id": "413ead2e",
   "metadata": {},
   "outputs": [],
   "source": [
    "try:\n",
    "    over= driver.find_elements(By.XPATH,\"//div[@class='summary orange']/div[1]/span\")\n",
    "    for i in over:\n",
    "        over_all.append(i.text)\n",
    "except NoSuchElementException:\n",
    "    over_all.append('-')"
   ]
  },
  {
   "cell_type": "code",
   "execution_count": 165,
   "id": "48553441",
   "metadata": {},
   "outputs": [
    {
     "data": {
      "text/plain": [
       "30"
      ]
     },
     "execution_count": 165,
     "metadata": {},
     "output_type": "execute_result"
    }
   ],
   "source": [
    "len(over_all)"
   ]
  },
  {
   "cell_type": "code",
   "execution_count": 189,
   "id": "870a56b2",
   "metadata": {},
   "outputs": [
    {
     "data": {
      "text/plain": [
       "['Very Good',\n",
       " 'Very Good',\n",
       " 'Superb',\n",
       " 'Very Good',\n",
       " 'Fabulous',\n",
       " 'Very Good',\n",
       " 'Very Good',\n",
       " 'Fabulous',\n",
       " 'Very Good',\n",
       " 'Very Good',\n",
       " 'Very Good',\n",
       " 'Very Good',\n",
       " 'Superb',\n",
       " 'Fabulous',\n",
       " 'Very Good',\n",
       " 'Very Good',\n",
       " 'Fabulous',\n",
       " 'Very Good',\n",
       " 'Superb',\n",
       " 'Fabulous',\n",
       " 'Very Good',\n",
       " 'Very Good',\n",
       " 'Very Good',\n",
       " 'Fabulous',\n",
       " 'Very Good',\n",
       " 'Very Good',\n",
       " 'Very Good',\n",
       " 'Fabulous',\n",
       " 'Good',\n",
       " 'Very Good']"
      ]
     },
     "execution_count": 189,
     "metadata": {},
     "output_type": "execute_result"
    }
   ],
   "source": [
    "over_all"
   ]
  },
  {
   "cell_type": "code",
   "execution_count": 180,
   "id": "95cdffc0",
   "metadata": {},
   "outputs": [],
   "source": [
    "try:\n",
    "    fac1 =driver.find_elements(By.XPATH,\"//div[@class='has-wifi']\")\n",
    "    fac2 =driver.find_elements(By.XPATH,\"//div[@class='has-sanitation']\")\n",
    "    \n",
    "    for i in fac1:\n",
    "        for j in fac2:\n",
    "            \n",
    "            facilities.append(i.text +', '+ j.text)\n",
    "except NoSuchElementException:\n",
    "     facilities.append('-')\n",
    "     "
   ]
  },
  {
   "cell_type": "code",
   "execution_count": 181,
   "id": "a6c3f420",
   "metadata": {},
   "outputs": [
    {
     "data": {
      "text/plain": [
       "30"
      ]
     },
     "execution_count": 181,
     "metadata": {},
     "output_type": "execute_result"
    }
   ],
   "source": [
    "facilities=facilities[0:30]\n",
    "len(facilities)"
   ]
  },
  {
   "cell_type": "code",
   "execution_count": 190,
   "id": "87affe37",
   "metadata": {},
   "outputs": [
    {
     "data": {
      "text/plain": [
       "['Free WiFi, Follows Covid-19 sanitation guidance',\n",
       " 'Free WiFi, Follows Covid-19 sanitation guidance',\n",
       " 'Free WiFi, Follows Covid-19 sanitation guidance',\n",
       " 'Free WiFi, Follows Covid-19 sanitation guidance',\n",
       " 'Free WiFi, Follows Covid-19 sanitation guidance',\n",
       " 'Free WiFi, Follows Covid-19 sanitation guidance',\n",
       " 'Free WiFi, Follows Covid-19 sanitation guidance',\n",
       " 'Free WiFi, Follows Covid-19 sanitation guidance',\n",
       " 'Free WiFi, Follows Covid-19 sanitation guidance',\n",
       " 'Free WiFi, Follows Covid-19 sanitation guidance',\n",
       " 'Free WiFi, Follows Covid-19 sanitation guidance',\n",
       " 'Free WiFi, Follows Covid-19 sanitation guidance',\n",
       " 'Free WiFi, Follows Covid-19 sanitation guidance',\n",
       " 'Free WiFi, Follows Covid-19 sanitation guidance',\n",
       " 'Free WiFi, Follows Covid-19 sanitation guidance',\n",
       " 'Free WiFi, Follows Covid-19 sanitation guidance',\n",
       " 'Free WiFi, Follows Covid-19 sanitation guidance',\n",
       " 'Free WiFi, Follows Covid-19 sanitation guidance',\n",
       " 'Free WiFi, Follows Covid-19 sanitation guidance',\n",
       " 'Free WiFi, Follows Covid-19 sanitation guidance',\n",
       " 'Free WiFi, Follows Covid-19 sanitation guidance',\n",
       " 'Free WiFi, Follows Covid-19 sanitation guidance',\n",
       " 'Free WiFi, Follows Covid-19 sanitation guidance',\n",
       " 'Free WiFi, Follows Covid-19 sanitation guidance',\n",
       " 'Free WiFi, Follows Covid-19 sanitation guidance',\n",
       " 'Free WiFi, Follows Covid-19 sanitation guidance',\n",
       " 'Free WiFi, Follows Covid-19 sanitation guidance',\n",
       " 'Free WiFi, Follows Covid-19 sanitation guidance',\n",
       " 'Free WiFi, Follows Covid-19 sanitation guidance',\n",
       " 'Free WiFi, Follows Covid-19 sanitation guidance']"
      ]
     },
     "execution_count": 190,
     "metadata": {},
     "output_type": "execute_result"
    }
   ],
   "source": [
    "facilities"
   ]
  },
  {
   "cell_type": "code",
   "execution_count": 168,
   "id": "b3d114c3",
   "metadata": {},
   "outputs": [],
   "source": [
    "#Fetching url to open each page\n",
    "urls=[]\n",
    "url=driver.find_elements(By.XPATH,\"//h2[@class='title title-6']/a\")\n",
    "for i in url:\n",
    "    urls.append(i.get_attribute('href'))"
   ]
  },
  {
   "cell_type": "code",
   "execution_count": 169,
   "id": "cfa5300c",
   "metadata": {},
   "outputs": [
    {
     "data": {
      "text/plain": [
       "30"
      ]
     },
     "execution_count": 169,
     "metadata": {},
     "output_type": "execute_result"
    }
   ],
   "source": [
    "len(urls)"
   ]
  },
  {
   "cell_type": "code",
   "execution_count": 191,
   "id": "92e9b940",
   "metadata": {},
   "outputs": [
    {
     "data": {
      "text/plain": [
       "['https://www.hostelworld.com/pwa/hosteldetails.php/St-Christopher-s-Village/London/502?from=2023-06-20&to=2023-06-21&guests=2',\n",
       " 'https://www.hostelworld.com/pwa/hosteldetails.php/Urbany-Hostel-London/London/303427?from=2023-06-20&to=2023-06-21&guests=2',\n",
       " 'https://www.hostelworld.com/pwa/hosteldetails.php/Generator-London/London/510?from=2023-06-20&to=2023-06-21&guests=2',\n",
       " 'https://www.hostelworld.com/pwa/hosteldetails.php/NX-London-Hostel/London/15204?from=2023-06-20&to=2023-06-21&guests=2',\n",
       " 'https://www.hostelworld.com/pwa/hosteldetails.php/Safestay-London-Elephant-Castle/London/55551?from=2023-06-20&to=2023-06-21&guests=2',\n",
       " 'https://www.hostelworld.com/pwa/hosteldetails.php/Phoenix-Hostel/London/48221?from=2023-06-20&to=2023-06-21&guests=2',\n",
       " 'https://www.hostelworld.com/pwa/hosteldetails.php/Clink261/London/516?from=2023-06-20&to=2023-06-21&guests=2',\n",
       " 'https://www.hostelworld.com/pwa/hosteldetails.php/Safestay-London-Kensington-Holland-Park/London/93920?from=2023-06-20&to=2023-06-21&guests=2',\n",
       " 'https://www.hostelworld.com/pwa/hosteldetails.php/London-Backpackers/London/527?from=2023-06-20&to=2023-06-21&guests=2',\n",
       " 'https://www.hostelworld.com/pwa/hosteldetails.php/St-Christopher-s-Hammersmith/London/20976?from=2023-06-20&to=2023-06-21&guests=2',\n",
       " 'https://www.hostelworld.com/pwa/hosteldetails.php/St-Christopher-s-Camden/London/505?from=2023-06-20&to=2023-06-21&guests=2',\n",
       " 'https://www.hostelworld.com/pwa/hosteldetails.php/International-Students-House/London/515?from=2023-06-20&to=2023-06-21&guests=2',\n",
       " 'https://www.hostelworld.com/pwa/hosteldetails.php/PubLove-The-Steam-Engine-Waterloo/London/29389?from=2023-06-20&to=2023-06-21&guests=2',\n",
       " 'https://www.hostelworld.com/pwa/hosteldetails.php/Bell-House-Hostel/London/315821?from=2023-06-20&to=2023-06-21&guests=2',\n",
       " 'https://www.hostelworld.com/pwa/hosteldetails.php/St-Christopher-s-Greenwich/London/501?from=2023-06-20&to=2023-06-21&guests=2',\n",
       " 'https://www.hostelworld.com/pwa/hosteldetails.php/YHA-London-Oxford-Street/London/6996?from=2023-06-20&to=2023-06-21&guests=2',\n",
       " 'https://www.hostelworld.com/pwa/hosteldetails.php/Saint-James-Backpackers/London/70909?from=2023-06-20&to=2023-06-21&guests=2',\n",
       " 'https://www.hostelworld.com/pwa/hosteldetails.php/The-Backpackshack/London/63112?from=2023-06-20&to=2023-06-21&guests=2',\n",
       " 'https://www.hostelworld.com/pwa/hosteldetails.php/Selina-Camden/London/310274?from=2023-06-20&to=2023-06-21&guests=2',\n",
       " 'https://www.hostelworld.com/pwa/hosteldetails.php/Kensal-Green-Backpackers/London/4483?from=2023-06-20&to=2023-06-21&guests=2',\n",
       " 'https://www.hostelworld.com/pwa/hosteldetails.php/PubLove-The-Crown-Battersea/London/60336?from=2023-06-20&to=2023-06-21&guests=2',\n",
       " 'https://www.hostelworld.com/pwa/hosteldetails.php/Book-a-Bed-Hostels/London/14746?from=2023-06-20&to=2023-06-21&guests=2',\n",
       " 'https://www.hostelworld.com/pwa/hosteldetails.php/PubLove-The-White-Ferry-Victoria/London/39761?from=2023-06-20&to=2023-06-21&guests=2',\n",
       " 'https://www.hostelworld.com/pwa/hosteldetails.php/Hostelle-London/London/316723?from=2023-06-20&to=2023-06-21&guests=2',\n",
       " 'https://www.hostelworld.com/pwa/hosteldetails.php/Hootananny-Hostel/London/24068?from=2023-06-20&to=2023-06-21&guests=2',\n",
       " 'https://www.hostelworld.com/pwa/hosteldetails.php/PubLove-The-Rose-Crown/London/297123?from=2023-06-20&to=2023-06-21&guests=2',\n",
       " 'https://www.hostelworld.com/pwa/hosteldetails.php/Elmwood-Hotel/London/34338?from=2023-06-20&to=2023-06-21&guests=2',\n",
       " 'https://www.hostelworld.com/pwa/hosteldetails.php/Tony-s-House-Hotel/London/8503?from=2023-06-20&to=2023-06-21&guests=2',\n",
       " 'https://www.hostelworld.com/pwa/hosteldetails.php/PubLove-The-Exmouth-Arms-Euston/London/93796?from=2023-06-20&to=2023-06-21&guests=2',\n",
       " 'https://www.hostelworld.com/pwa/hosteldetails.php/City-Hotel-Carlton/London/27551?from=2023-06-20&to=2023-06-21&guests=2']"
      ]
     },
     "execution_count": 191,
     "metadata": {},
     "output_type": "execute_result"
    }
   ],
   "source": [
    "urls"
   ]
  },
  {
   "cell_type": "code",
   "execution_count": 170,
   "id": "6ed597a8",
   "metadata": {},
   "outputs": [],
   "source": [
    "for i in urls:\n",
    "\n",
    "    driver.get(i)\n",
    "\n",
    "    time.sleep(5)\n",
    "\n",
    "    try:\n",
    "        describe= driver.find_elements(By.XPATH,\"//div[@class='content collapse-content']\")\n",
    "        for i in describe:\n",
    "            description.append(i.text)\n",
    "    except NoSuchElementException:\n",
    "        description.append('-')"
   ]
  },
  {
   "cell_type": "code",
   "execution_count": 193,
   "id": "34bbb1d4",
   "metadata": {},
   "outputs": [
    {
     "data": {
      "text/plain": [
       "30"
      ]
     },
     "execution_count": 193,
     "metadata": {},
     "output_type": "execute_result"
    }
   ],
   "source": [
    " description= description[0:30]\n",
    "len( description)"
   ]
  },
  {
   "cell_type": "markdown",
   "id": "b551ecd1",
   "metadata": {},
   "source": [
    "hostel_name = []\n",
    "distance = []\n",
    "pvt_prices = []\n",
    "dorms_price = []\n",
    "rating = []\n",
    "reviews = []\n",
    "over_all = []\n",
    "facilities = []\n",
    "description = []"
   ]
  },
  {
   "cell_type": "code",
   "execution_count": 194,
   "id": "69e1ead0",
   "metadata": {},
   "outputs": [
    {
     "data": {
      "text/html": [
       "<div>\n",
       "<style scoped>\n",
       "    .dataframe tbody tr th:only-of-type {\n",
       "        vertical-align: middle;\n",
       "    }\n",
       "\n",
       "    .dataframe tbody tr th {\n",
       "        vertical-align: top;\n",
       "    }\n",
       "\n",
       "    .dataframe thead th {\n",
       "        text-align: right;\n",
       "    }\n",
       "</style>\n",
       "<table border=\"1\" class=\"dataframe\">\n",
       "  <thead>\n",
       "    <tr style=\"text-align: right;\">\n",
       "      <th></th>\n",
       "      <th>hostel_name</th>\n",
       "      <th>distance</th>\n",
       "      <th>dorms_price</th>\n",
       "      <th>pvt_prices</th>\n",
       "      <th>rating</th>\n",
       "      <th>reviews</th>\n",
       "      <th>over_all</th>\n",
       "      <th>facilities</th>\n",
       "      <th>description</th>\n",
       "    </tr>\n",
       "  </thead>\n",
       "  <tbody>\n",
       "    <tr>\n",
       "      <th>0</th>\n",
       "      <td>St Christopher's Village</td>\n",
       "      <td>1.8km from city centre</td>\n",
       "      <td>Dorms From\\nRs3955.54 Rs3560</td>\n",
       "      <td>No Privates Available</td>\n",
       "      <td>9.4</td>\n",
       "      <td>12155 Total Reviews</td>\n",
       "      <td>Very Good</td>\n",
       "      <td>Free WiFi, Follows Covid-19 sanitation guidance</td>\n",
       "      <td>St Christopher's Inn at The Village in London ...</td>\n",
       "    </tr>\n",
       "    <tr>\n",
       "      <th>1</th>\n",
       "      <td>Urbany Hostel London</td>\n",
       "      <td>5.4km from city centre</td>\n",
       "      <td>Dorms From\\nRs8329</td>\n",
       "      <td>Privates From\\nRs16809</td>\n",
       "      <td>7.5</td>\n",
       "      <td>780 Total Reviews</td>\n",
       "      <td>Very Good</td>\n",
       "      <td>Free WiFi, Follows Covid-19 sanitation guidance</td>\n",
       "      <td>One of my first hostels i’ve stayed in and an ...</td>\n",
       "    </tr>\n",
       "    <tr>\n",
       "      <th>2</th>\n",
       "      <td>Generator London</td>\n",
       "      <td>3km from city centre</td>\n",
       "      <td>Dorms From\\nRs3320</td>\n",
       "      <td>No Privates Available</td>\n",
       "      <td>8.3</td>\n",
       "      <td>7500 Total Reviews</td>\n",
       "      <td>Superb</td>\n",
       "      <td>Free WiFi, Follows Covid-19 sanitation guidance</td>\n",
       "      <td>Most comfy bedding I have been in. Very friend...</td>\n",
       "    </tr>\n",
       "    <tr>\n",
       "      <th>3</th>\n",
       "      <td>NX London Hostel</td>\n",
       "      <td>6.1km from city centre</td>\n",
       "      <td>Dorms From\\nRs2596</td>\n",
       "      <td>No Privates Available</td>\n",
       "      <td>7.5</td>\n",
       "      <td>1885 Total Reviews</td>\n",
       "      <td>Very Good</td>\n",
       "      <td>Free WiFi, Follows Covid-19 sanitation guidance</td>\n",
       "      <td>I stayed in a 14 bed female only dorm and had ...</td>\n",
       "    </tr>\n",
       "    <tr>\n",
       "      <th>4</th>\n",
       "      <td>Safestay London Elephant &amp; Castle</td>\n",
       "      <td>1.7km from city centre</td>\n",
       "      <td>Dorms From\\nRs2594</td>\n",
       "      <td>Privates From\\nRs19458</td>\n",
       "      <td>7.6</td>\n",
       "      <td>4957 Total Reviews</td>\n",
       "      <td>Fabulous</td>\n",
       "      <td>Free WiFi, Follows Covid-19 sanitation guidance</td>\n",
       "      <td>Place was decent - organizes a pretty good pub...</td>\n",
       "    </tr>\n",
       "    <tr>\n",
       "      <th>5</th>\n",
       "      <td>Phoenix Hostel</td>\n",
       "      <td>4.2km from city centre</td>\n",
       "      <td>Dorms From\\nRs2377.64 Rs2259</td>\n",
       "      <td>No Privates Available</td>\n",
       "      <td>8.3</td>\n",
       "      <td>4126 Total Reviews</td>\n",
       "      <td>Very Good</td>\n",
       "      <td>Free WiFi, Follows Covid-19 sanitation guidance</td>\n",
       "      <td>Welcome to Urbany Hostel London, our first int...</td>\n",
       "    </tr>\n",
       "    <tr>\n",
       "      <th>6</th>\n",
       "      <td>Clink261</td>\n",
       "      <td>3.2km from city centre</td>\n",
       "      <td>Dorms From\\nRs5494</td>\n",
       "      <td>No Privates Available</td>\n",
       "      <td>7.1</td>\n",
       "      <td>267 Total Reviews</td>\n",
       "      <td>Very Good</td>\n",
       "      <td>Free WiFi, Follows Covid-19 sanitation guidance</td>\n",
       "      <td>I had a great experience. I would like to shou...</td>\n",
       "    </tr>\n",
       "    <tr>\n",
       "      <th>7</th>\n",
       "      <td>Safestay London Kensington Holland Park</td>\n",
       "      <td>5.8km from city centre</td>\n",
       "      <td>Dorms From\\nRs2674</td>\n",
       "      <td>Privates From\\nRs9569</td>\n",
       "      <td>7.9</td>\n",
       "      <td>1528 Total Reviews</td>\n",
       "      <td>Fabulous</td>\n",
       "      <td>Free WiFi, Follows Covid-19 sanitation guidance</td>\n",
       "      <td>Hands down best hostel I’ve ever stayed at! I ...</td>\n",
       "    </tr>\n",
       "    <tr>\n",
       "      <th>8</th>\n",
       "      <td>London Backpackers</td>\n",
       "      <td>11.9km from city centre</td>\n",
       "      <td>No Dorms Available</td>\n",
       "      <td>Privates From\\nRs6384</td>\n",
       "      <td>7.7</td>\n",
       "      <td>4468 Total Reviews</td>\n",
       "      <td>Very Good</td>\n",
       "      <td>Free WiFi, Follows Covid-19 sanitation guidance</td>\n",
       "      <td>The most social, fun, clean and lovely hostel ...</td>\n",
       "    </tr>\n",
       "    <tr>\n",
       "      <th>9</th>\n",
       "      <td>St Christopher's Hammersmith</td>\n",
       "      <td>7.5km from city centre</td>\n",
       "      <td>Dorms From\\nRs1912.96 Rs1722</td>\n",
       "      <td>No Privates Available</td>\n",
       "      <td>7.0</td>\n",
       "      <td>4243 Total Reviews</td>\n",
       "      <td>Very Good</td>\n",
       "      <td>Free WiFi, Follows Covid-19 sanitation guidance</td>\n",
       "      <td>This place was my first experience at a hostel...</td>\n",
       "    </tr>\n",
       "    <tr>\n",
       "      <th>10</th>\n",
       "      <td>St Christopher's Camden</td>\n",
       "      <td>4.3km from city centre</td>\n",
       "      <td>Dorms From\\nRs2391.78 Rs2153</td>\n",
       "      <td>No Privates Available</td>\n",
       "      <td>9.3</td>\n",
       "      <td>4035 Total Reviews</td>\n",
       "      <td>Very Good</td>\n",
       "      <td>Free WiFi, Follows Covid-19 sanitation guidance</td>\n",
       "      <td>Generator London is a design hotel-hostel loca...</td>\n",
       "    </tr>\n",
       "    <tr>\n",
       "      <th>11</th>\n",
       "      <td>International Students House</td>\n",
       "      <td>3.3km from city centre</td>\n",
       "      <td>No Dorms Available</td>\n",
       "      <td>Privates From\\nRs6937</td>\n",
       "      <td>8.0</td>\n",
       "      <td>1035 Total Reviews</td>\n",
       "      <td>Very Good</td>\n",
       "      <td>Free WiFi, Follows Covid-19 sanitation guidance</td>\n",
       "      <td>The overall hostel was good, location was mint...</td>\n",
       "    </tr>\n",
       "    <tr>\n",
       "      <th>12</th>\n",
       "      <td>PubLove @ The Steam Engine, Waterloo</td>\n",
       "      <td>0.5km from city centre</td>\n",
       "      <td>Dorms From\\nRs5255</td>\n",
       "      <td>No Privates Available</td>\n",
       "      <td>7.6</td>\n",
       "      <td>394 Total Reviews</td>\n",
       "      <td>Superb</td>\n",
       "      <td>Free WiFi, Follows Covid-19 sanitation guidance</td>\n",
       "      <td>Welcome to NX London Hostel!\\n\\nPLEASE READ IN...</td>\n",
       "    </tr>\n",
       "    <tr>\n",
       "      <th>13</th>\n",
       "      <td>Bell House Hostel</td>\n",
       "      <td>4.2km from city centre</td>\n",
       "      <td>Dorms From\\nRs2838</td>\n",
       "      <td>No Privates Available</td>\n",
       "      <td>7.5</td>\n",
       "      <td>60 Total Reviews</td>\n",
       "      <td>Fabulous</td>\n",
       "      <td>Free WiFi, Follows Covid-19 sanitation guidance</td>\n",
       "      <td>This Hostel truly is aging like good wine, it ...</td>\n",
       "    </tr>\n",
       "    <tr>\n",
       "      <th>14</th>\n",
       "      <td>St Christopher's Greenwich</td>\n",
       "      <td>7.6km from city centre</td>\n",
       "      <td>Dorms From\\nRs2204.92 Rs1984</td>\n",
       "      <td>No Privates Available</td>\n",
       "      <td>8.8</td>\n",
       "      <td>3350 Total Reviews</td>\n",
       "      <td>Very Good</td>\n",
       "      <td>Free WiFi, Follows Covid-19 sanitation guidance</td>\n",
       "      <td>Stayed here mid-week on my way back to Aberdee...</td>\n",
       "    </tr>\n",
       "    <tr>\n",
       "      <th>15</th>\n",
       "      <td>YHA London Oxford Street</td>\n",
       "      <td>2.1km from city centre</td>\n",
       "      <td>No Dorms Available</td>\n",
       "      <td>Privates From\\nRs14715</td>\n",
       "      <td>7.5</td>\n",
       "      <td>4631 Total Reviews</td>\n",
       "      <td>Very Good</td>\n",
       "      <td>Free WiFi, Follows Covid-19 sanitation guidance</td>\n",
       "      <td>I just keep on extending, if you are an artsy ...</td>\n",
       "    </tr>\n",
       "    <tr>\n",
       "      <th>16</th>\n",
       "      <td>Saint James Backpackers</td>\n",
       "      <td>5.5km from city centre</td>\n",
       "      <td>Dorms From\\nRs4099</td>\n",
       "      <td>No Privates Available</td>\n",
       "      <td>9.1</td>\n",
       "      <td>1884 Total Reviews</td>\n",
       "      <td>Fabulous</td>\n",
       "      <td>Free WiFi, Follows Covid-19 sanitation guidance</td>\n",
       "      <td>When I left they were busy laying down mosquit...</td>\n",
       "    </tr>\n",
       "    <tr>\n",
       "      <th>17</th>\n",
       "      <td>The Backpackshack</td>\n",
       "      <td>10.9km from city centre</td>\n",
       "      <td>No Dorms Available</td>\n",
       "      <td>Privates From\\nRs9460</td>\n",
       "      <td>8.9</td>\n",
       "      <td>764 Total Reviews</td>\n",
       "      <td>Very Good</td>\n",
       "      <td>Free WiFi, Follows Covid-19 sanitation guidance</td>\n",
       "      <td>Safestay at Elephant &amp; Castle is ideal if you ...</td>\n",
       "    </tr>\n",
       "    <tr>\n",
       "      <th>18</th>\n",
       "      <td>Selina Camden</td>\n",
       "      <td>5.5km from city centre</td>\n",
       "      <td>Dorms From\\nRs11225</td>\n",
       "      <td>Privates From\\nRs28253</td>\n",
       "      <td>5.0</td>\n",
       "      <td>50 Total Reviews</td>\n",
       "      <td>Superb</td>\n",
       "      <td>Free WiFi, Follows Covid-19 sanitation guidance</td>\n",
       "      <td>Overall a very good experience. The hostel was...</td>\n",
       "    </tr>\n",
       "    <tr>\n",
       "      <th>19</th>\n",
       "      <td>Kensal Green Backpackers</td>\n",
       "      <td>8.2km from city centre</td>\n",
       "      <td>Dorms From\\nRs1892</td>\n",
       "      <td>Privates From\\nRs9261</td>\n",
       "      <td>Rating\\n3710 Total Reviews</td>\n",
       "      <td>3710 Total Reviews</td>\n",
       "      <td>Fabulous</td>\n",
       "      <td>Free WiFi, Follows Covid-19 sanitation guidance</td>\n",
       "      <td>The Phoenix Bar &amp; Hostel, housed in a homely E...</td>\n",
       "    </tr>\n",
       "    <tr>\n",
       "      <th>20</th>\n",
       "      <td>PubLove @ The Crown, Battersea</td>\n",
       "      <td>4.7km from city centre</td>\n",
       "      <td>Dorms From\\nRs3469</td>\n",
       "      <td>Privates From\\nRs11982</td>\n",
       "      <td>7.5</td>\n",
       "      <td>301 Total Reviews</td>\n",
       "      <td>Very Good</td>\n",
       "      <td>Free WiFi, Follows Covid-19 sanitation guidance</td>\n",
       "      <td>Great vibe! the staff are warm and welcoming. ...</td>\n",
       "    </tr>\n",
       "    <tr>\n",
       "      <th>21</th>\n",
       "      <td>Book a Bed Hostels</td>\n",
       "      <td>6.9km from city centre</td>\n",
       "      <td>Dorms From\\nRs2199</td>\n",
       "      <td>Privates From\\nRs6306</td>\n",
       "      <td>7.4</td>\n",
       "      <td>1255 Total Reviews</td>\n",
       "      <td>Very Good</td>\n",
       "      <td>Free WiFi, Follows Covid-19 sanitation guidance</td>\n",
       "      <td>Welcome to Clink261!\\n\\nClink261 is a comforta...</td>\n",
       "    </tr>\n",
       "    <tr>\n",
       "      <th>22</th>\n",
       "      <td>PubLove @ The White Ferry, Victoria</td>\n",
       "      <td>2.4km from city centre</td>\n",
       "      <td>Dorms From\\nRs4730</td>\n",
       "      <td>No Privates Available</td>\n",
       "      <td>7.3</td>\n",
       "      <td>338 Total Reviews</td>\n",
       "      <td>Very Good</td>\n",
       "      <td>Free WiFi, Follows Covid-19 sanitation guidance</td>\n",
       "      <td>I stayed here for a week, both in the pods roo...</td>\n",
       "    </tr>\n",
       "    <tr>\n",
       "      <th>23</th>\n",
       "      <td>Hostelle London</td>\n",
       "      <td>5.1km from city centre</td>\n",
       "      <td>Dorms From\\nRs6516.67 Rs5539</td>\n",
       "      <td>No Privates Available</td>\n",
       "      <td>8.7</td>\n",
       "      <td>11 Total Reviews</td>\n",
       "      <td>Fabulous</td>\n",
       "      <td>Free WiFi, Follows Covid-19 sanitation guidance</td>\n",
       "      <td>Located very close to King´s Cross station and...</td>\n",
       "    </tr>\n",
       "    <tr>\n",
       "      <th>24</th>\n",
       "      <td>Hootananny Hostel</td>\n",
       "      <td>5km from city centre</td>\n",
       "      <td>Dorms From\\nRs2796</td>\n",
       "      <td>No Privates Available</td>\n",
       "      <td>7.6</td>\n",
       "      <td>1511 Total Reviews</td>\n",
       "      <td>Very Good</td>\n",
       "      <td>Free WiFi, Follows Covid-19 sanitation guidance</td>\n",
       "      <td>Nice clean hostel. Not very social, but they d...</td>\n",
       "    </tr>\n",
       "    <tr>\n",
       "      <th>25</th>\n",
       "      <td>PubLove @ The Rose &amp; Crown</td>\n",
       "      <td>1.6km from city centre</td>\n",
       "      <td>Dorms From\\nRs6412</td>\n",
       "      <td>No Privates Available</td>\n",
       "      <td>7.5</td>\n",
       "      <td>189 Total Reviews</td>\n",
       "      <td>Very Good</td>\n",
       "      <td>Free WiFi, Follows Covid-19 sanitation guidance</td>\n",
       "      <td>Great location super close to Kings Cross. Nic...</td>\n",
       "    </tr>\n",
       "    <tr>\n",
       "      <th>26</th>\n",
       "      <td>Elmwood Hotel</td>\n",
       "      <td>Hotel - 3.2km from city centre</td>\n",
       "      <td>No Dorms Available</td>\n",
       "      <td>Privates From\\nRs15766</td>\n",
       "      <td>7.7</td>\n",
       "      <td>128 Total Reviews</td>\n",
       "      <td>Very Good</td>\n",
       "      <td>Free WiFi, Follows Covid-19 sanitation guidance</td>\n",
       "      <td>Safestay Holland Park\\n\\nSafestay Holland Park...</td>\n",
       "    </tr>\n",
       "    <tr>\n",
       "      <th>27</th>\n",
       "      <td>Tony's House Hotel</td>\n",
       "      <td>Hotel - 4.3km from city centre</td>\n",
       "      <td>No Dorms Available</td>\n",
       "      <td>Privates From\\nRs24070</td>\n",
       "      <td>8.2</td>\n",
       "      <td>422 Total Reviews</td>\n",
       "      <td>Fabulous</td>\n",
       "      <td>Free WiFi, Follows Covid-19 sanitation guidance</td>\n",
       "      <td>As a solo female traveller this place felt nic...</td>\n",
       "    </tr>\n",
       "    <tr>\n",
       "      <th>28</th>\n",
       "      <td>PubLove @ The Exmouth Arms, Euston</td>\n",
       "      <td>3.4km from city centre</td>\n",
       "      <td>Dorms From\\nRs4099</td>\n",
       "      <td>No Privates Available</td>\n",
       "      <td>6.7</td>\n",
       "      <td>1078 Total Reviews</td>\n",
       "      <td>Good</td>\n",
       "      <td>Free WiFi, Follows Covid-19 sanitation guidance</td>\n",
       "      <td>Lovely location, the young London man working ...</td>\n",
       "    </tr>\n",
       "    <tr>\n",
       "      <th>29</th>\n",
       "      <td>City Hotel Carlton</td>\n",
       "      <td>Hotel - 1.8km from city centre</td>\n",
       "      <td>No Dorms Available</td>\n",
       "      <td>Privates From\\nRs18919</td>\n",
       "      <td>7.3</td>\n",
       "      <td>49 Total Reviews</td>\n",
       "      <td>Very Good</td>\n",
       "      <td>Free WiFi, Follows Covid-19 sanitation guidance</td>\n",
       "      <td>IMPORTANT NOTICE: \\n\\nThis hostel is for 18 - ...</td>\n",
       "    </tr>\n",
       "  </tbody>\n",
       "</table>\n",
       "</div>"
      ],
      "text/plain": [
       "                                hostel_name                        distance   \n",
       "0                  St Christopher's Village          1.8km from city centre  \\\n",
       "1                      Urbany Hostel London          5.4km from city centre   \n",
       "2                          Generator London            3km from city centre   \n",
       "3                          NX London Hostel          6.1km from city centre   \n",
       "4         Safestay London Elephant & Castle          1.7km from city centre   \n",
       "5                            Phoenix Hostel          4.2km from city centre   \n",
       "6                                  Clink261          3.2km from city centre   \n",
       "7   Safestay London Kensington Holland Park          5.8km from city centre   \n",
       "8                        London Backpackers         11.9km from city centre   \n",
       "9              St Christopher's Hammersmith          7.5km from city centre   \n",
       "10                  St Christopher's Camden          4.3km from city centre   \n",
       "11             International Students House          3.3km from city centre   \n",
       "12     PubLove @ The Steam Engine, Waterloo          0.5km from city centre   \n",
       "13                        Bell House Hostel          4.2km from city centre   \n",
       "14               St Christopher's Greenwich          7.6km from city centre   \n",
       "15                 YHA London Oxford Street          2.1km from city centre   \n",
       "16                  Saint James Backpackers          5.5km from city centre   \n",
       "17                        The Backpackshack         10.9km from city centre   \n",
       "18                            Selina Camden          5.5km from city centre   \n",
       "19                 Kensal Green Backpackers          8.2km from city centre   \n",
       "20           PubLove @ The Crown, Battersea          4.7km from city centre   \n",
       "21                       Book a Bed Hostels          6.9km from city centre   \n",
       "22      PubLove @ The White Ferry, Victoria          2.4km from city centre   \n",
       "23                          Hostelle London          5.1km from city centre   \n",
       "24                        Hootananny Hostel            5km from city centre   \n",
       "25               PubLove @ The Rose & Crown          1.6km from city centre   \n",
       "26                            Elmwood Hotel  Hotel - 3.2km from city centre   \n",
       "27                       Tony's House Hotel  Hotel - 4.3km from city centre   \n",
       "28       PubLove @ The Exmouth Arms, Euston          3.4km from city centre   \n",
       "29                       City Hotel Carlton  Hotel - 1.8km from city centre   \n",
       "\n",
       "                     dorms_price              pvt_prices   \n",
       "0   Dorms From\\nRs3955.54 Rs3560   No Privates Available  \\\n",
       "1             Dorms From\\nRs8329  Privates From\\nRs16809   \n",
       "2             Dorms From\\nRs3320   No Privates Available   \n",
       "3             Dorms From\\nRs2596   No Privates Available   \n",
       "4             Dorms From\\nRs2594  Privates From\\nRs19458   \n",
       "5   Dorms From\\nRs2377.64 Rs2259   No Privates Available   \n",
       "6             Dorms From\\nRs5494   No Privates Available   \n",
       "7             Dorms From\\nRs2674   Privates From\\nRs9569   \n",
       "8             No Dorms Available   Privates From\\nRs6384   \n",
       "9   Dorms From\\nRs1912.96 Rs1722   No Privates Available   \n",
       "10  Dorms From\\nRs2391.78 Rs2153   No Privates Available   \n",
       "11            No Dorms Available   Privates From\\nRs6937   \n",
       "12            Dorms From\\nRs5255   No Privates Available   \n",
       "13            Dorms From\\nRs2838   No Privates Available   \n",
       "14  Dorms From\\nRs2204.92 Rs1984   No Privates Available   \n",
       "15            No Dorms Available  Privates From\\nRs14715   \n",
       "16            Dorms From\\nRs4099   No Privates Available   \n",
       "17            No Dorms Available   Privates From\\nRs9460   \n",
       "18           Dorms From\\nRs11225  Privates From\\nRs28253   \n",
       "19            Dorms From\\nRs1892   Privates From\\nRs9261   \n",
       "20            Dorms From\\nRs3469  Privates From\\nRs11982   \n",
       "21            Dorms From\\nRs2199   Privates From\\nRs6306   \n",
       "22            Dorms From\\nRs4730   No Privates Available   \n",
       "23  Dorms From\\nRs6516.67 Rs5539   No Privates Available   \n",
       "24            Dorms From\\nRs2796   No Privates Available   \n",
       "25            Dorms From\\nRs6412   No Privates Available   \n",
       "26            No Dorms Available  Privates From\\nRs15766   \n",
       "27            No Dorms Available  Privates From\\nRs24070   \n",
       "28            Dorms From\\nRs4099   No Privates Available   \n",
       "29            No Dorms Available  Privates From\\nRs18919   \n",
       "\n",
       "                        rating              reviews   over_all   \n",
       "0                          9.4  12155 Total Reviews  Very Good  \\\n",
       "1                          7.5    780 Total Reviews  Very Good   \n",
       "2                          8.3   7500 Total Reviews     Superb   \n",
       "3                          7.5   1885 Total Reviews  Very Good   \n",
       "4                          7.6   4957 Total Reviews   Fabulous   \n",
       "5                          8.3   4126 Total Reviews  Very Good   \n",
       "6                          7.1    267 Total Reviews  Very Good   \n",
       "7                          7.9   1528 Total Reviews   Fabulous   \n",
       "8                          7.7   4468 Total Reviews  Very Good   \n",
       "9                          7.0   4243 Total Reviews  Very Good   \n",
       "10                         9.3   4035 Total Reviews  Very Good   \n",
       "11                         8.0   1035 Total Reviews  Very Good   \n",
       "12                         7.6    394 Total Reviews     Superb   \n",
       "13                         7.5     60 Total Reviews   Fabulous   \n",
       "14                         8.8   3350 Total Reviews  Very Good   \n",
       "15                         7.5   4631 Total Reviews  Very Good   \n",
       "16                         9.1   1884 Total Reviews   Fabulous   \n",
       "17                         8.9    764 Total Reviews  Very Good   \n",
       "18                         5.0     50 Total Reviews     Superb   \n",
       "19  Rating\\n3710 Total Reviews   3710 Total Reviews   Fabulous   \n",
       "20                         7.5    301 Total Reviews  Very Good   \n",
       "21                         7.4   1255 Total Reviews  Very Good   \n",
       "22                         7.3    338 Total Reviews  Very Good   \n",
       "23                         8.7     11 Total Reviews   Fabulous   \n",
       "24                         7.6   1511 Total Reviews  Very Good   \n",
       "25                         7.5    189 Total Reviews  Very Good   \n",
       "26                         7.7    128 Total Reviews  Very Good   \n",
       "27                         8.2    422 Total Reviews   Fabulous   \n",
       "28                         6.7   1078 Total Reviews       Good   \n",
       "29                         7.3     49 Total Reviews  Very Good   \n",
       "\n",
       "                                         facilities   \n",
       "0   Free WiFi, Follows Covid-19 sanitation guidance  \\\n",
       "1   Free WiFi, Follows Covid-19 sanitation guidance   \n",
       "2   Free WiFi, Follows Covid-19 sanitation guidance   \n",
       "3   Free WiFi, Follows Covid-19 sanitation guidance   \n",
       "4   Free WiFi, Follows Covid-19 sanitation guidance   \n",
       "5   Free WiFi, Follows Covid-19 sanitation guidance   \n",
       "6   Free WiFi, Follows Covid-19 sanitation guidance   \n",
       "7   Free WiFi, Follows Covid-19 sanitation guidance   \n",
       "8   Free WiFi, Follows Covid-19 sanitation guidance   \n",
       "9   Free WiFi, Follows Covid-19 sanitation guidance   \n",
       "10  Free WiFi, Follows Covid-19 sanitation guidance   \n",
       "11  Free WiFi, Follows Covid-19 sanitation guidance   \n",
       "12  Free WiFi, Follows Covid-19 sanitation guidance   \n",
       "13  Free WiFi, Follows Covid-19 sanitation guidance   \n",
       "14  Free WiFi, Follows Covid-19 sanitation guidance   \n",
       "15  Free WiFi, Follows Covid-19 sanitation guidance   \n",
       "16  Free WiFi, Follows Covid-19 sanitation guidance   \n",
       "17  Free WiFi, Follows Covid-19 sanitation guidance   \n",
       "18  Free WiFi, Follows Covid-19 sanitation guidance   \n",
       "19  Free WiFi, Follows Covid-19 sanitation guidance   \n",
       "20  Free WiFi, Follows Covid-19 sanitation guidance   \n",
       "21  Free WiFi, Follows Covid-19 sanitation guidance   \n",
       "22  Free WiFi, Follows Covid-19 sanitation guidance   \n",
       "23  Free WiFi, Follows Covid-19 sanitation guidance   \n",
       "24  Free WiFi, Follows Covid-19 sanitation guidance   \n",
       "25  Free WiFi, Follows Covid-19 sanitation guidance   \n",
       "26  Free WiFi, Follows Covid-19 sanitation guidance   \n",
       "27  Free WiFi, Follows Covid-19 sanitation guidance   \n",
       "28  Free WiFi, Follows Covid-19 sanitation guidance   \n",
       "29  Free WiFi, Follows Covid-19 sanitation guidance   \n",
       "\n",
       "                                          description  \n",
       "0   St Christopher's Inn at The Village in London ...  \n",
       "1   One of my first hostels i’ve stayed in and an ...  \n",
       "2   Most comfy bedding I have been in. Very friend...  \n",
       "3   I stayed in a 14 bed female only dorm and had ...  \n",
       "4   Place was decent - organizes a pretty good pub...  \n",
       "5   Welcome to Urbany Hostel London, our first int...  \n",
       "6   I had a great experience. I would like to shou...  \n",
       "7   Hands down best hostel I’ve ever stayed at! I ...  \n",
       "8   The most social, fun, clean and lovely hostel ...  \n",
       "9   This place was my first experience at a hostel...  \n",
       "10  Generator London is a design hotel-hostel loca...  \n",
       "11  The overall hostel was good, location was mint...  \n",
       "12  Welcome to NX London Hostel!\\n\\nPLEASE READ IN...  \n",
       "13  This Hostel truly is aging like good wine, it ...  \n",
       "14  Stayed here mid-week on my way back to Aberdee...  \n",
       "15  I just keep on extending, if you are an artsy ...  \n",
       "16  When I left they were busy laying down mosquit...  \n",
       "17  Safestay at Elephant & Castle is ideal if you ...  \n",
       "18  Overall a very good experience. The hostel was...  \n",
       "19  The Phoenix Bar & Hostel, housed in a homely E...  \n",
       "20  Great vibe! the staff are warm and welcoming. ...  \n",
       "21  Welcome to Clink261!\\n\\nClink261 is a comforta...  \n",
       "22  I stayed here for a week, both in the pods roo...  \n",
       "23  Located very close to King´s Cross station and...  \n",
       "24  Nice clean hostel. Not very social, but they d...  \n",
       "25  Great location super close to Kings Cross. Nic...  \n",
       "26  Safestay Holland Park\\n\\nSafestay Holland Park...  \n",
       "27  As a solo female traveller this place felt nic...  \n",
       "28  Lovely location, the young London man working ...  \n",
       "29  IMPORTANT NOTICE: \\n\\nThis hostel is for 18 - ...  "
      ]
     },
     "execution_count": 194,
     "metadata": {},
     "output_type": "execute_result"
    }
   ],
   "source": [
    "#Lets make DataFrame\n",
    "from numpy.ma import mrecords\n",
    "import pandas as pd\n",
    "df = pd.DataFrame({\"hostel_name\":hostel_name,\"distance\":distance,\"dorms_price\":dorms_price,\"pvt_prices\":pvt_prices,\"rating\":rating,\"reviews\":reviews,\"over_all\":over_all,\"facilities\":facilities,\"description\":description})\n",
    "df"
   ]
  },
  {
   "cell_type": "code",
   "execution_count": null,
   "id": "8aff1d2a",
   "metadata": {},
   "outputs": [],
   "source": []
  }
 ],
 "metadata": {
  "kernelspec": {
   "display_name": "Python 3 (ipykernel)",
   "language": "python",
   "name": "python3"
  },
  "language_info": {
   "codemirror_mode": {
    "name": "ipython",
    "version": 3
   },
   "file_extension": ".py",
   "mimetype": "text/x-python",
   "name": "python",
   "nbconvert_exporter": "python",
   "pygments_lexer": "ipython3",
   "version": "3.9.12"
  }
 },
 "nbformat": 4,
 "nbformat_minor": 5
}
