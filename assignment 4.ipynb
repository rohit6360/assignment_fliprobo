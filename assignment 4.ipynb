{
 "cells": [
  {
   "cell_type": "code",
   "execution_count": 2,
   "id": "0f7ce8a6",
   "metadata": {},
   "outputs": [
    {
     "name": "stdout",
     "output_type": "stream",
     "text": [
      "Requirement already satisfied: selenium in c:\\users\\rohit\\anaconda3\\lib\\site-packages (4.9.1)\n",
      "Requirement already satisfied: certifi>=2021.10.8 in c:\\users\\rohit\\anaconda3\\lib\\site-packages (from selenium) (2022.6.15)\n",
      "Requirement already satisfied: urllib3[socks]<3,>=1.26 in c:\\users\\rohit\\anaconda3\\lib\\site-packages (from selenium) (1.26.11)\n",
      "Requirement already satisfied: trio~=0.17 in c:\\users\\rohit\\anaconda3\\lib\\site-packages (from selenium) (0.22.0)\n",
      "Requirement already satisfied: trio-websocket~=0.9 in c:\\users\\rohit\\anaconda3\\lib\\site-packages (from selenium) (0.10.2)\n",
      "Requirement already satisfied: exceptiongroup>=1.0.0rc9 in c:\\users\\rohit\\anaconda3\\lib\\site-packages (from trio~=0.17->selenium) (1.1.1)\n",
      "Requirement already satisfied: attrs>=19.2.0 in c:\\users\\rohit\\anaconda3\\lib\\site-packages (from trio~=0.17->selenium) (21.4.0)\n",
      "Requirement already satisfied: async-generator>=1.9 in c:\\users\\rohit\\anaconda3\\lib\\site-packages (from trio~=0.17->selenium) (1.10)\n",
      "Requirement already satisfied: cffi>=1.14 in c:\\users\\rohit\\anaconda3\\lib\\site-packages (from trio~=0.17->selenium) (1.15.1)\n",
      "Requirement already satisfied: sortedcontainers in c:\\users\\rohit\\anaconda3\\lib\\site-packages (from trio~=0.17->selenium) (2.4.0)\n",
      "Requirement already satisfied: sniffio in c:\\users\\rohit\\anaconda3\\lib\\site-packages (from trio~=0.17->selenium) (1.2.0)\n",
      "Requirement already satisfied: outcome in c:\\users\\rohit\\anaconda3\\lib\\site-packages (from trio~=0.17->selenium) (1.2.0)\n",
      "Requirement already satisfied: idna in c:\\users\\rohit\\anaconda3\\lib\\site-packages (from trio~=0.17->selenium) (3.3)\n",
      "Requirement already satisfied: wsproto>=0.14 in c:\\users\\rohit\\anaconda3\\lib\\site-packages (from trio-websocket~=0.9->selenium) (1.2.0)\n",
      "Requirement already satisfied: PySocks!=1.5.7,<2.0,>=1.5.6 in c:\\users\\rohit\\anaconda3\\lib\\site-packages (from urllib3[socks]<3,>=1.26->selenium) (1.7.1)\n",
      "Requirement already satisfied: pycparser in c:\\users\\rohit\\anaconda3\\lib\\site-packages (from cffi>=1.14->trio~=0.17->selenium) (2.21)\n",
      "Requirement already satisfied: h11<1,>=0.9.0 in c:\\users\\rohit\\anaconda3\\lib\\site-packages (from wsproto>=0.14->trio-websocket~=0.9->selenium) (0.14.0)\n"
     ]
    }
   ],
   "source": [
    "!pip install selenium"
   ]
  },
  {
   "cell_type": "code",
   "execution_count": 3,
   "id": "fdbf1f5e",
   "metadata": {},
   "outputs": [],
   "source": [
    "#Lets import all the required libraries \n",
    "import selenium # Libraries that is used to work  with selenium\n",
    "from selenium import webdriver # importing web driver module from selenium to open automated edge window\n",
    "import pandas as pd # to create dataframe\n",
    "from selenium.webdriver.common.by import By#importing inbuild class BY\n",
    "import warnings #to ignore any sort warnings\n",
    "warnings.filterwarnings('ignore')\n",
    "import time# used to stop search engine for few seconds"
   ]
  },
  {
   "cell_type": "markdown",
   "id": "86babfd4",
   "metadata": {},
   "source": [
    "Question 1"
   ]
  },
  {
   "cell_type": "code",
   "execution_count": 3,
   "id": "e75602f8",
   "metadata": {},
   "outputs": [],
   "source": [
    "# connect to webdriver\n",
    "driver = webdriver.Chrome(r'chromedriver.exe')"
   ]
  },
  {
   "cell_type": "code",
   "execution_count": 4,
   "id": "dba7156d",
   "metadata": {},
   "outputs": [],
   "source": [
    "url=\"https://en.wikipedia.org/wiki/List_of_most-viewed_YouTube_videos\" # Here i am assigning the link in url name variable \n",
    "driver.get(url)\n"
   ]
  },
  {
   "cell_type": "code",
   "execution_count": 5,
   "id": "e0d434c9",
   "metadata": {},
   "outputs": [],
   "source": [
    "import re\n",
    "from selenium.common.exceptions import NoSuchElementException, StaleElementReferenceException\n",
    "from selenium.webdriver.support.ui import WebDriverWait"
   ]
  },
  {
   "cell_type": "code",
   "execution_count": 6,
   "id": "93892bea",
   "metadata": {},
   "outputs": [],
   "source": [
    "Rank=[]"
   ]
  },
  {
   "cell_type": "code",
   "execution_count": 7,
   "id": "964277ea",
   "metadata": {},
   "outputs": [],
   "source": [
    "try:\n",
    "    for i in driver.find_elements(By.XPATH,'//table[@class=\"wikitable sortable jquery-tablesorter\"]//tbody//tr//td[1]')[:30]:\n",
    "        Rank.append(i.text)\n",
    "except NoSuchElementException:\n",
    "    Rank.append('-')"
   ]
  },
  {
   "cell_type": "code",
   "execution_count": 8,
   "id": "f2da2e06",
   "metadata": {},
   "outputs": [],
   "source": [
    "Name=[]"
   ]
  },
  {
   "cell_type": "code",
   "execution_count": 9,
   "id": "ccb9bcc6",
   "metadata": {},
   "outputs": [],
   "source": [
    "try:\n",
    "    for i in driver.find_elements(By.XPATH,'//table[@class=\"wikitable sortable jquery-tablesorter\"]//tbody//tr//td[2]')[:30]:\n",
    "        Name.append(i.text)\n",
    "except NoSuchElementException:\n",
    "    Name.append('-')"
   ]
  },
  {
   "cell_type": "code",
   "execution_count": 10,
   "id": "ae72e8c8",
   "metadata": {},
   "outputs": [],
   "source": [
    "Artist=[]"
   ]
  },
  {
   "cell_type": "code",
   "execution_count": 11,
   "id": "8631afa8",
   "metadata": {},
   "outputs": [],
   "source": [
    "try:\n",
    "    for i in driver.find_elements(By.XPATH,'//table[@class=\"wikitable sortable jquery-tablesorter\"]//tbody//tr//td[3]')[:30]:\n",
    "        Artist.append(i.text)\n",
    "except NoSuchElementException:\n",
    "    Artist.append('-')"
   ]
  },
  {
   "cell_type": "code",
   "execution_count": 12,
   "id": "a39b3fc7",
   "metadata": {},
   "outputs": [],
   "source": [
    "Upload_Date=[]"
   ]
  },
  {
   "cell_type": "code",
   "execution_count": 13,
   "id": "98a27dd1",
   "metadata": {},
   "outputs": [],
   "source": [
    "try:\n",
    "    for i in driver.find_elements(By.XPATH,'//table[@class=\"wikitable sortable jquery-tablesorter\"]//tbody//tr//td[5]')[:30]:\n",
    "        Upload_Date.append(i.text)\n",
    "except NoSuchElementException:\n",
    "    Upload_Date.append('-')"
   ]
  },
  {
   "cell_type": "code",
   "execution_count": 14,
   "id": "85230bd7",
   "metadata": {},
   "outputs": [],
   "source": [
    "Views=[]"
   ]
  },
  {
   "cell_type": "code",
   "execution_count": 15,
   "id": "bad4b0e3",
   "metadata": {},
   "outputs": [],
   "source": [
    "try:\n",
    "    for i in driver.find_elements(By.XPATH,'//table[@class=\"wikitable sortable jquery-tablesorter\"]//tbody//tr//td[4]')[:30]:\n",
    "        Views.append(i.text)\n",
    "except NoSuchElementException:\n",
    "    Views.append('-')"
   ]
  },
  {
   "cell_type": "code",
   "execution_count": 16,
   "id": "5993f1f1",
   "metadata": {},
   "outputs": [],
   "source": [
    "import pandas as pd"
   ]
  },
  {
   "cell_type": "code",
   "execution_count": 17,
   "id": "e9c175e5",
   "metadata": {},
   "outputs": [
    {
     "data": {
      "text/html": [
       "<div>\n",
       "<style scoped>\n",
       "    .dataframe tbody tr th:only-of-type {\n",
       "        vertical-align: middle;\n",
       "    }\n",
       "\n",
       "    .dataframe tbody tr th {\n",
       "        vertical-align: top;\n",
       "    }\n",
       "\n",
       "    .dataframe thead th {\n",
       "        text-align: right;\n",
       "    }\n",
       "</style>\n",
       "<table border=\"1\" class=\"dataframe\">\n",
       "  <thead>\n",
       "    <tr style=\"text-align: right;\">\n",
       "      <th></th>\n",
       "      <th>Rank</th>\n",
       "      <th>Name</th>\n",
       "      <th>Artist</th>\n",
       "      <th>Upload_Date</th>\n",
       "      <th>Views</th>\n",
       "    </tr>\n",
       "  </thead>\n",
       "  <tbody>\n",
       "    <tr>\n",
       "      <th>0</th>\n",
       "      <td>1.</td>\n",
       "      <td>\"Baby Shark Dance\"[6]</td>\n",
       "      <td>Pinkfong Baby Shark - Kids' Songs &amp; Stories</td>\n",
       "      <td>June 17, 2016</td>\n",
       "      <td>12.85</td>\n",
       "    </tr>\n",
       "    <tr>\n",
       "      <th>1</th>\n",
       "      <td>2.</td>\n",
       "      <td>\"Despacito\"[9]</td>\n",
       "      <td>Luis Fonsi</td>\n",
       "      <td>January 12, 2017</td>\n",
       "      <td>8.16</td>\n",
       "    </tr>\n",
       "    <tr>\n",
       "      <th>2</th>\n",
       "      <td>3.</td>\n",
       "      <td>\"Johny Johny Yes Papa\"[16]</td>\n",
       "      <td>LooLoo Kids</td>\n",
       "      <td>October 8, 2016</td>\n",
       "      <td>6.70</td>\n",
       "    </tr>\n",
       "    <tr>\n",
       "      <th>3</th>\n",
       "      <td>4.</td>\n",
       "      <td>\"Bath Song\"[17]</td>\n",
       "      <td>Cocomelon – Nursery Rhymes</td>\n",
       "      <td>May 2, 2018</td>\n",
       "      <td>6.20</td>\n",
       "    </tr>\n",
       "    <tr>\n",
       "      <th>4</th>\n",
       "      <td>5.</td>\n",
       "      <td>\"Shape of You\"[18]</td>\n",
       "      <td>Ed Sheeran</td>\n",
       "      <td>January 30, 2017</td>\n",
       "      <td>6.00</td>\n",
       "    </tr>\n",
       "    <tr>\n",
       "      <th>5</th>\n",
       "      <td>6.</td>\n",
       "      <td>\"See You Again\"[21]</td>\n",
       "      <td>Wiz Khalifa</td>\n",
       "      <td>April 6, 2015</td>\n",
       "      <td>5.89</td>\n",
       "    </tr>\n",
       "    <tr>\n",
       "      <th>6</th>\n",
       "      <td>7.</td>\n",
       "      <td>\"Phonics Song with Two Words\"[26]</td>\n",
       "      <td>ChuChu TV</td>\n",
       "      <td>March 6, 2014</td>\n",
       "      <td>5.30</td>\n",
       "    </tr>\n",
       "    <tr>\n",
       "      <th>7</th>\n",
       "      <td>8.</td>\n",
       "      <td>\"Wheels on the Bus\"[27]</td>\n",
       "      <td>Cocomelon – Nursery Rhymes</td>\n",
       "      <td>May 24, 2018</td>\n",
       "      <td>5.24</td>\n",
       "    </tr>\n",
       "    <tr>\n",
       "      <th>8</th>\n",
       "      <td>9.</td>\n",
       "      <td>\"Uptown Funk\"[28]</td>\n",
       "      <td>Mark Ronson</td>\n",
       "      <td>November 19, 2014</td>\n",
       "      <td>4.92</td>\n",
       "    </tr>\n",
       "    <tr>\n",
       "      <th>9</th>\n",
       "      <td>10.</td>\n",
       "      <td>\"Learning Colors – Colorful Eggs on a Farm\"[29]</td>\n",
       "      <td>Miroshka TV</td>\n",
       "      <td>February 27, 2018</td>\n",
       "      <td>4.89</td>\n",
       "    </tr>\n",
       "    <tr>\n",
       "      <th>10</th>\n",
       "      <td>11.</td>\n",
       "      <td>\"Gangnam Style\"[30]</td>\n",
       "      <td>Psy</td>\n",
       "      <td>July 15, 2012</td>\n",
       "      <td>4.80</td>\n",
       "    </tr>\n",
       "    <tr>\n",
       "      <th>11</th>\n",
       "      <td>12.</td>\n",
       "      <td>\"Masha and the Bear – Recipe for Disaster\"[35]</td>\n",
       "      <td>Get Movies</td>\n",
       "      <td>January 31, 2012</td>\n",
       "      <td>4.55</td>\n",
       "    </tr>\n",
       "    <tr>\n",
       "      <th>12</th>\n",
       "      <td>13.</td>\n",
       "      <td>\"Dame Tu Cosita\"[36]</td>\n",
       "      <td>El Chombo</td>\n",
       "      <td>April 5, 2018</td>\n",
       "      <td>4.35</td>\n",
       "    </tr>\n",
       "    <tr>\n",
       "      <th>13</th>\n",
       "      <td>14.</td>\n",
       "      <td>\"Axel F\"[37]</td>\n",
       "      <td>Crazy Frog</td>\n",
       "      <td>June 16, 2009</td>\n",
       "      <td>3.91</td>\n",
       "    </tr>\n",
       "    <tr>\n",
       "      <th>14</th>\n",
       "      <td>15.</td>\n",
       "      <td>\"Sugar\"[38]</td>\n",
       "      <td>Maroon 5</td>\n",
       "      <td>January 14, 2015</td>\n",
       "      <td>3.87</td>\n",
       "    </tr>\n",
       "    <tr>\n",
       "      <th>15</th>\n",
       "      <td>16.</td>\n",
       "      <td>\"Roar\"[39]</td>\n",
       "      <td>Katy Perry</td>\n",
       "      <td>September 5, 2013</td>\n",
       "      <td>3.80</td>\n",
       "    </tr>\n",
       "    <tr>\n",
       "      <th>16</th>\n",
       "      <td>17.</td>\n",
       "      <td>\"Counting Stars\"[40]</td>\n",
       "      <td>OneRepublic</td>\n",
       "      <td>May 31, 2013</td>\n",
       "      <td>3.79</td>\n",
       "    </tr>\n",
       "    <tr>\n",
       "      <th>17</th>\n",
       "      <td>18.</td>\n",
       "      <td>\"Sorry\"[41]</td>\n",
       "      <td>Justin Bieber</td>\n",
       "      <td>October 22, 2015</td>\n",
       "      <td>3.66</td>\n",
       "    </tr>\n",
       "    <tr>\n",
       "      <th>18</th>\n",
       "      <td>19.</td>\n",
       "      <td>\"Baa Baa Black Sheep\"[42]</td>\n",
       "      <td>Cocomelon – Nursery Rhymes</td>\n",
       "      <td>June 25, 2018</td>\n",
       "      <td>3.64</td>\n",
       "    </tr>\n",
       "    <tr>\n",
       "      <th>19</th>\n",
       "      <td>20.</td>\n",
       "      <td>\"Thinking Out Loud\"[43]</td>\n",
       "      <td>Ed Sheeran</td>\n",
       "      <td>October 7, 2014</td>\n",
       "      <td>3.60</td>\n",
       "    </tr>\n",
       "    <tr>\n",
       "      <th>20</th>\n",
       "      <td>21.</td>\n",
       "      <td>\"Waka Waka (This Time for Africa)\"[44]</td>\n",
       "      <td>Shakira</td>\n",
       "      <td>June 4, 2010</td>\n",
       "      <td>3.59</td>\n",
       "    </tr>\n",
       "    <tr>\n",
       "      <th>21</th>\n",
       "      <td>22.</td>\n",
       "      <td>\"Dark Horse\"[45]</td>\n",
       "      <td>Katy Perry</td>\n",
       "      <td>February 20, 2014</td>\n",
       "      <td>3.52</td>\n",
       "    </tr>\n",
       "    <tr>\n",
       "      <th>22</th>\n",
       "      <td>23.</td>\n",
       "      <td>\"Lakdi Ki Kathi\"[46]</td>\n",
       "      <td>Jingle Toons</td>\n",
       "      <td>June 14, 2018</td>\n",
       "      <td>3.48</td>\n",
       "    </tr>\n",
       "    <tr>\n",
       "      <th>23</th>\n",
       "      <td>24.</td>\n",
       "      <td>\"Faded\"[47]</td>\n",
       "      <td>Alan Walker</td>\n",
       "      <td>December 3, 2015</td>\n",
       "      <td>3.45</td>\n",
       "    </tr>\n",
       "    <tr>\n",
       "      <th>24</th>\n",
       "      <td>25.</td>\n",
       "      <td>\"Perfect\"[48]</td>\n",
       "      <td>Ed Sheeran</td>\n",
       "      <td>November 9, 2017</td>\n",
       "      <td>3.45</td>\n",
       "    </tr>\n",
       "    <tr>\n",
       "      <th>25</th>\n",
       "      <td>26.</td>\n",
       "      <td>\"Let Her Go\"[49]</td>\n",
       "      <td>Passenger</td>\n",
       "      <td>July 25, 2012</td>\n",
       "      <td>3.44</td>\n",
       "    </tr>\n",
       "    <tr>\n",
       "      <th>26</th>\n",
       "      <td>27.</td>\n",
       "      <td>\"Girls Like You\"[50]</td>\n",
       "      <td>Maroon 5</td>\n",
       "      <td>May 31, 2018</td>\n",
       "      <td>3.42</td>\n",
       "    </tr>\n",
       "    <tr>\n",
       "      <th>27</th>\n",
       "      <td>28.</td>\n",
       "      <td>\"Humpty the train on a fruits ride\"[51]</td>\n",
       "      <td>Kiddiestv Hindi – Nursery Rhymes &amp; Kids Songs</td>\n",
       "      <td>January 26, 2018</td>\n",
       "      <td>3.41</td>\n",
       "    </tr>\n",
       "    <tr>\n",
       "      <th>28</th>\n",
       "      <td>29.</td>\n",
       "      <td>\"Lean On\"[52]</td>\n",
       "      <td>Major Lazer</td>\n",
       "      <td>March 22, 2015</td>\n",
       "      <td>3.38</td>\n",
       "    </tr>\n",
       "    <tr>\n",
       "      <th>29</th>\n",
       "      <td>30.</td>\n",
       "      <td>\"Bailando\"[53]</td>\n",
       "      <td>Enrique Iglesias</td>\n",
       "      <td>April 11, 2014</td>\n",
       "      <td>3.38</td>\n",
       "    </tr>\n",
       "  </tbody>\n",
       "</table>\n",
       "</div>"
      ],
      "text/plain": [
       "   Rank                                             Name   \n",
       "0    1.                            \"Baby Shark Dance\"[6]  \\\n",
       "1    2.                                   \"Despacito\"[9]   \n",
       "2    3.                       \"Johny Johny Yes Papa\"[16]   \n",
       "3    4.                                  \"Bath Song\"[17]   \n",
       "4    5.                               \"Shape of You\"[18]   \n",
       "5    6.                              \"See You Again\"[21]   \n",
       "6    7.                \"Phonics Song with Two Words\"[26]   \n",
       "7    8.                          \"Wheels on the Bus\"[27]   \n",
       "8    9.                                \"Uptown Funk\"[28]   \n",
       "9   10.  \"Learning Colors – Colorful Eggs on a Farm\"[29]   \n",
       "10  11.                              \"Gangnam Style\"[30]   \n",
       "11  12.   \"Masha and the Bear – Recipe for Disaster\"[35]   \n",
       "12  13.                             \"Dame Tu Cosita\"[36]   \n",
       "13  14.                                     \"Axel F\"[37]   \n",
       "14  15.                                      \"Sugar\"[38]   \n",
       "15  16.                                       \"Roar\"[39]   \n",
       "16  17.                             \"Counting Stars\"[40]   \n",
       "17  18.                                      \"Sorry\"[41]   \n",
       "18  19.                        \"Baa Baa Black Sheep\"[42]   \n",
       "19  20.                          \"Thinking Out Loud\"[43]   \n",
       "20  21.           \"Waka Waka (This Time for Africa)\"[44]   \n",
       "21  22.                                 \"Dark Horse\"[45]   \n",
       "22  23.                             \"Lakdi Ki Kathi\"[46]   \n",
       "23  24.                                      \"Faded\"[47]   \n",
       "24  25.                                    \"Perfect\"[48]   \n",
       "25  26.                                 \"Let Her Go\"[49]   \n",
       "26  27.                             \"Girls Like You\"[50]   \n",
       "27  28.          \"Humpty the train on a fruits ride\"[51]   \n",
       "28  29.                                    \"Lean On\"[52]   \n",
       "29  30.                                   \"Bailando\"[53]   \n",
       "\n",
       "                                           Artist        Upload_Date  Views  \n",
       "0     Pinkfong Baby Shark - Kids' Songs & Stories      June 17, 2016  12.85  \n",
       "1                                      Luis Fonsi   January 12, 2017   8.16  \n",
       "2                                     LooLoo Kids    October 8, 2016   6.70  \n",
       "3                      Cocomelon – Nursery Rhymes        May 2, 2018   6.20  \n",
       "4                                      Ed Sheeran   January 30, 2017   6.00  \n",
       "5                                     Wiz Khalifa      April 6, 2015   5.89  \n",
       "6                                       ChuChu TV      March 6, 2014   5.30  \n",
       "7                      Cocomelon – Nursery Rhymes       May 24, 2018   5.24  \n",
       "8                                     Mark Ronson  November 19, 2014   4.92  \n",
       "9                                     Miroshka TV  February 27, 2018   4.89  \n",
       "10                                            Psy      July 15, 2012   4.80  \n",
       "11                                     Get Movies   January 31, 2012   4.55  \n",
       "12                                      El Chombo      April 5, 2018   4.35  \n",
       "13                                     Crazy Frog      June 16, 2009   3.91  \n",
       "14                                       Maroon 5   January 14, 2015   3.87  \n",
       "15                                     Katy Perry  September 5, 2013   3.80  \n",
       "16                                    OneRepublic       May 31, 2013   3.79  \n",
       "17                                  Justin Bieber   October 22, 2015   3.66  \n",
       "18                     Cocomelon – Nursery Rhymes      June 25, 2018   3.64  \n",
       "19                                     Ed Sheeran    October 7, 2014   3.60  \n",
       "20                                        Shakira       June 4, 2010   3.59  \n",
       "21                                     Katy Perry  February 20, 2014   3.52  \n",
       "22                                   Jingle Toons      June 14, 2018   3.48  \n",
       "23                                    Alan Walker   December 3, 2015   3.45  \n",
       "24                                     Ed Sheeran   November 9, 2017   3.45  \n",
       "25                                      Passenger      July 25, 2012   3.44  \n",
       "26                                       Maroon 5       May 31, 2018   3.42  \n",
       "27  Kiddiestv Hindi – Nursery Rhymes & Kids Songs   January 26, 2018   3.41  \n",
       "28                                    Major Lazer     March 22, 2015   3.38  \n",
       "29                               Enrique Iglesias     April 11, 2014   3.38  "
      ]
     },
     "execution_count": 17,
     "metadata": {},
     "output_type": "execute_result"
    }
   ],
   "source": [
    "data=pd.DataFrame({'Rank':Rank,'Name':Name,\"Artist\":Artist,\"Upload_Date\":Upload_Date,\"Views\":Views})\n",
    "data"
   ]
  },
  {
   "cell_type": "code",
   "execution_count": 18,
   "id": "7dccd600",
   "metadata": {},
   "outputs": [],
   "source": [
    "driver.close()"
   ]
  },
  {
   "cell_type": "markdown",
   "id": "da602523",
   "metadata": {},
   "source": [
    "Question 2"
   ]
  },
  {
   "cell_type": "code",
   "execution_count": 40,
   "id": "721406ef",
   "metadata": {},
   "outputs": [],
   "source": [
    "# connect to webdriver\n",
    "driver = webdriver.Chrome(r'chromedriver.exe')"
   ]
  },
  {
   "cell_type": "code",
   "execution_count": 41,
   "id": "0ebce6bb",
   "metadata": {},
   "outputs": [],
   "source": [
    "url=\"https://www.bcci.tv/\" # Here i am assigning the link in url name variable \n",
    "driver.get(url)"
   ]
  },
  {
   "cell_type": "code",
   "execution_count": 42,
   "id": "5c4a0ca4",
   "metadata": {},
   "outputs": [],
   "source": [
    "#Clicking using absolute xpath function\n",
    "search_btn=driver.find_element(By.XPATH,\"/html/body/div[2]/div[1]/div/ul/li[1]/a\")\n",
    "search_btn.click()"
   ]
  },
  {
   "cell_type": "code",
   "execution_count": 43,
   "id": "4422fe4b",
   "metadata": {},
   "outputs": [],
   "source": [
    "Match_title=[]\n",
    "try:\n",
    "    for i in driver.find_elements(By.XPATH,'//span[@ class=\"matchOrderText ng-binding ng-scope\"]'):\n",
    "        Match_title.append(i.text.replace('-',\"\"))\n",
    "except NoSuchElementException:\n",
    "    Match_title.append('-')"
   ]
  },
  {
   "cell_type": "code",
   "execution_count": 44,
   "id": "bc6dcb61",
   "metadata": {},
   "outputs": [],
   "source": [
    "Series=[]\n",
    "try:\n",
    "    for i in driver.find_elements(By.XPATH,'//h5 [@class=\"match-tournament-name ng-binding\"]'):\n",
    "        Series.append(i.text)\n",
    "except NoSuchElementException:\n",
    "    Series.append('-')"
   ]
  },
  {
   "cell_type": "code",
   "execution_count": 45,
   "id": "fccc9532",
   "metadata": {},
   "outputs": [],
   "source": [
    "Place=[]\n",
    "try:\n",
    "    for i in driver.find_elements(By.XPATH,'//span[@class=\"ng-binding ng-scope\"]'):\n",
    "        Place.append(i.text)\n",
    "except NoSuchElementException:\n",
    "    Place.append('-')"
   ]
  },
  {
   "cell_type": "code",
   "execution_count": 46,
   "id": "7390e678",
   "metadata": {},
   "outputs": [],
   "source": [
    "Date=[]\n",
    "try:\n",
    "    for i in driver.find_elements(By.XPATH,'//div [@class=\"match-dates ng-binding\"]'):\n",
    "        Date.append(i.text)\n",
    "except NoSuchElementException:\n",
    "    Date.append('-')"
   ]
  },
  {
   "cell_type": "code",
   "execution_count": 47,
   "id": "e8792399",
   "metadata": {},
   "outputs": [],
   "source": [
    "Time=[]\n",
    "try:\n",
    "    for i in driver.find_elements(By.XPATH,'//div[@ class=\"match-time no-margin ng-binding\"]'):\n",
    "        Time.append(i.text)\n",
    "except NoSuchElementException:\n",
    "    Time.append('-')"
   ]
  },
  {
   "cell_type": "code",
   "execution_count": 48,
   "id": "5dd06481",
   "metadata": {},
   "outputs": [],
   "source": [
    "  from numpy.ma import mrecords\n"
   ]
  },
  {
   "cell_type": "code",
   "execution_count": 50,
   "id": "953a555a",
   "metadata": {},
   "outputs": [
    {
     "data": {
      "text/html": [
       "<div>\n",
       "<style scoped>\n",
       "    .dataframe tbody tr th:only-of-type {\n",
       "        vertical-align: middle;\n",
       "    }\n",
       "\n",
       "    .dataframe tbody tr th {\n",
       "        vertical-align: top;\n",
       "    }\n",
       "\n",
       "    .dataframe thead th {\n",
       "        text-align: right;\n",
       "    }\n",
       "</style>\n",
       "<table border=\"1\" class=\"dataframe\">\n",
       "  <thead>\n",
       "    <tr style=\"text-align: right;\">\n",
       "      <th></th>\n",
       "      <th>Match_title</th>\n",
       "      <th>Series</th>\n",
       "      <th>Place</th>\n",
       "      <th>Date</th>\n",
       "      <th>Time</th>\n",
       "    </tr>\n",
       "  </thead>\n",
       "  <tbody>\n",
       "    <tr>\n",
       "      <th>0</th>\n",
       "      <td>1st T20I</td>\n",
       "      <td>INDIA WOMEN TOUR OF BANGLADESH 2023</td>\n",
       "      <td>Shere Bangla National Stadium, Mirpur,</td>\n",
       "      <td>9 JUL 2023</td>\n",
       "      <td>1:30 PM IST</td>\n",
       "    </tr>\n",
       "    <tr>\n",
       "      <th>1</th>\n",
       "      <td>2nd T20I</td>\n",
       "      <td>INDIA WOMEN TOUR OF BANGLADESH 2023</td>\n",
       "      <td>Shere Bangla National Stadium, Mirpur,</td>\n",
       "      <td>11 JUL 2023</td>\n",
       "      <td>1:30 PM IST</td>\n",
       "    </tr>\n",
       "    <tr>\n",
       "      <th>2</th>\n",
       "      <td>1st Test</td>\n",
       "      <td>INDIA TOUR OF WEST INDIES 2023</td>\n",
       "      <td>Windsor Park,</td>\n",
       "      <td>12 JUL 2023</td>\n",
       "      <td>7:30 PM IST</td>\n",
       "    </tr>\n",
       "    <tr>\n",
       "      <th>3</th>\n",
       "      <td>3rd T20I</td>\n",
       "      <td>INDIA WOMEN TOUR OF BANGLADESH 2023</td>\n",
       "      <td>Shere Bangla National Stadium, Mirpur,</td>\n",
       "      <td>13 JUL 2023</td>\n",
       "      <td>1:30 PM IST</td>\n",
       "    </tr>\n",
       "    <tr>\n",
       "      <th>4</th>\n",
       "      <td>1st ODI</td>\n",
       "      <td>INDIA WOMEN TOUR OF BANGLADESH 2023</td>\n",
       "      <td>Shere Bangla National Stadium, Mirpur,</td>\n",
       "      <td>16 JUL 2023</td>\n",
       "      <td>9:00 AM IST</td>\n",
       "    </tr>\n",
       "    <tr>\n",
       "      <th>5</th>\n",
       "      <td>2nd ODI</td>\n",
       "      <td>INDIA WOMEN TOUR OF BANGLADESH 2023</td>\n",
       "      <td>Shere Bangla National Stadium, Mirpur,</td>\n",
       "      <td>19 JUL 2023</td>\n",
       "      <td>9:00 AM IST</td>\n",
       "    </tr>\n",
       "    <tr>\n",
       "      <th>6</th>\n",
       "      <td>2nd Test</td>\n",
       "      <td>INDIA TOUR OF WEST INDIES 2023</td>\n",
       "      <td>Queen's Park Oval,</td>\n",
       "      <td>20 JUL 2023</td>\n",
       "      <td>7:30 PM IST</td>\n",
       "    </tr>\n",
       "    <tr>\n",
       "      <th>7</th>\n",
       "      <td>3rd ODI</td>\n",
       "      <td>INDIA WOMEN TOUR OF BANGLADESH 2023</td>\n",
       "      <td>Shere Bangla National Stadium, Mirpur,</td>\n",
       "      <td>22 JUL 2023</td>\n",
       "      <td>9:00 AM IST</td>\n",
       "    </tr>\n",
       "  </tbody>\n",
       "</table>\n",
       "</div>"
      ],
      "text/plain": [
       "  Match_title                               Series   \n",
       "0   1st T20I   INDIA WOMEN TOUR OF BANGLADESH 2023  \\\n",
       "1   2nd T20I   INDIA WOMEN TOUR OF BANGLADESH 2023   \n",
       "2   1st Test        INDIA TOUR OF WEST INDIES 2023   \n",
       "3   3rd T20I   INDIA WOMEN TOUR OF BANGLADESH 2023   \n",
       "4    1st ODI   INDIA WOMEN TOUR OF BANGLADESH 2023   \n",
       "5    2nd ODI   INDIA WOMEN TOUR OF BANGLADESH 2023   \n",
       "6   2nd Test        INDIA TOUR OF WEST INDIES 2023   \n",
       "7    3rd ODI   INDIA WOMEN TOUR OF BANGLADESH 2023   \n",
       "\n",
       "                                    Place         Date         Time  \n",
       "0  Shere Bangla National Stadium, Mirpur,   9 JUL 2023  1:30 PM IST  \n",
       "1  Shere Bangla National Stadium, Mirpur,  11 JUL 2023  1:30 PM IST  \n",
       "2                           Windsor Park,  12 JUL 2023  7:30 PM IST  \n",
       "3  Shere Bangla National Stadium, Mirpur,  13 JUL 2023  1:30 PM IST  \n",
       "4  Shere Bangla National Stadium, Mirpur,  16 JUL 2023  9:00 AM IST  \n",
       "5  Shere Bangla National Stadium, Mirpur,  19 JUL 2023  9:00 AM IST  \n",
       "6                      Queen's Park Oval,  20 JUL 2023  7:30 PM IST  \n",
       "7  Shere Bangla National Stadium, Mirpur,  22 JUL 2023  9:00 AM IST  "
      ]
     },
     "execution_count": 50,
     "metadata": {},
     "output_type": "execute_result"
    }
   ],
   "source": [
    "df = pd.DataFrame({\"Match_title\":Match_title,\"Series\":Series,\"Place\":Place,\"Date\":Date,\"Time\":Time})\n",
    "df"
   ]
  },
  {
   "cell_type": "code",
   "execution_count": 51,
   "id": "1e410dab",
   "metadata": {},
   "outputs": [],
   "source": [
    "driver.close()"
   ]
  },
  {
   "cell_type": "markdown",
   "id": "8eb8504b",
   "metadata": {},
   "source": [
    "Question 3"
   ]
  },
  {
   "cell_type": "code",
   "execution_count": 52,
   "id": "51a0e255",
   "metadata": {},
   "outputs": [],
   "source": [
    "# connect to webdriver\n",
    "driver = webdriver.Chrome(r'chromedriver.exe')"
   ]
  },
  {
   "cell_type": "code",
   "execution_count": 53,
   "id": "81a0a687",
   "metadata": {},
   "outputs": [],
   "source": [
    "url=\"http://statisticstimes.com/\" # Here i am assigning the link in url name variable \n",
    "driver.get(url)\n"
   ]
  },
  {
   "cell_type": "code",
   "execution_count": 54,
   "id": "f2d684e0",
   "metadata": {},
   "outputs": [],
   "source": [
    "driver.find_element(By.XPATH,\"/html/body/div[2]/div[1]/div[2]/div[2]/button\").click()\n",
    "driver.find_element(By.XPATH,'//div[@class=\"dropdown-content\"]//a[3]').click()"
   ]
  },
  {
   "cell_type": "code",
   "execution_count": 55,
   "id": "e4cc9bb2",
   "metadata": {},
   "outputs": [],
   "source": [
    "#get the url of page containing GDP of indian states\n",
    "sta_GDP = driver.find_element(By.XPATH,'//ul[@style=\"list-style-type:none;margin-left:20px;\"]/li/a')\n",
    "GDP_url = sta_GDP.get_attribute(\"href\")\n",
    "\n",
    "driver.get(GDP_url)\n",
    "time.sleep(6)"
   ]
  },
  {
   "cell_type": "code",
   "execution_count": 56,
   "id": "b7abbabe",
   "metadata": {},
   "outputs": [],
   "source": [
    "Rank=[]\n",
    "try:\n",
    "    for i in driver.find_elements(By.XPATH,'//div[@id=\"table_id_wrapper\"]//tbody//tr//td[1]'):\n",
    "        Rank.append(i.text)\n",
    "except NoSuchElementException:\n",
    "    Rank.append('-')"
   ]
  },
  {
   "cell_type": "code",
   "execution_count": 57,
   "id": "c5545ace",
   "metadata": {},
   "outputs": [],
   "source": [
    "State=[]\n",
    "try:\n",
    "    for i in driver.find_elements(By.XPATH,'//div[@id=\"table_id_wrapper\"]//tbody//tr//td[2]'):\n",
    "        State.append(i.text)\n",
    "except NoSuchElementException:\n",
    "    State.append('-')"
   ]
  },
  {
   "cell_type": "code",
   "execution_count": 58,
   "id": "4170b43d",
   "metadata": {},
   "outputs": [],
   "source": [
    "GDPs=[]\n",
    "try:\n",
    "    for i in driver.find_elements(By.XPATH,'//div[@id=\"table_id_wrapper\"]//tbody//tr//td[8]'):\n",
    "        GDPs.append(i.text)\n",
    "except NoSuchElementException:\n",
    "    GDPs.append('-')"
   ]
  },
  {
   "cell_type": "code",
   "execution_count": 59,
   "id": "a2cf9f6a",
   "metadata": {},
   "outputs": [],
   "source": [
    "GDP=[]\n",
    "try:\n",
    "    for i in driver.find_elements(By.XPATH,'//div[@id=\"table_id_wrapper\"]//tbody//tr//td[3]'):\n",
    "        GDP.append(i.text)\n",
    "except NoSuchElementException:\n",
    "    GDP.append('-')"
   ]
  },
  {
   "cell_type": "code",
   "execution_count": 60,
   "id": "34ec4ab5",
   "metadata": {},
   "outputs": [],
   "source": [
    "Share=[]\n",
    "try:\n",
    "    for i in driver.find_elements(By.XPATH,'//div[@id=\"table_id_wrapper\"]//tbody//tr//td[5]'):\n",
    "        Share.append(i.text)\n",
    "except NoSuchElementException:\n",
    "    Share.append('-')"
   ]
  },
  {
   "cell_type": "code",
   "execution_count": 61,
   "id": "535246b5",
   "metadata": {},
   "outputs": [],
   "source": [
    "GDPa=[]\n",
    "try:\n",
    "    for i in driver.find_elements(By.XPATH,'//div[@id=\"table_id_wrapper\"]//tbody//tr//td[6]'):\n",
    "        GDPa.append(i.text)\n",
    "except NoSuchElementException:\n",
    "    GDPa.append('-')"
   ]
  },
  {
   "cell_type": "code",
   "execution_count": 62,
   "id": "03f273fa",
   "metadata": {},
   "outputs": [],
   "source": [
    "import pandas as pd"
   ]
  },
  {
   "cell_type": "code",
   "execution_count": 63,
   "id": "fc6deafa",
   "metadata": {},
   "outputs": [
    {
     "data": {
      "text/html": [
       "<div>\n",
       "<style scoped>\n",
       "    .dataframe tbody tr th:only-of-type {\n",
       "        vertical-align: middle;\n",
       "    }\n",
       "\n",
       "    .dataframe tbody tr th {\n",
       "        vertical-align: top;\n",
       "    }\n",
       "\n",
       "    .dataframe thead th {\n",
       "        text-align: right;\n",
       "    }\n",
       "</style>\n",
       "<table border=\"1\" class=\"dataframe\">\n",
       "  <thead>\n",
       "    <tr style=\"text-align: right;\">\n",
       "      <th></th>\n",
       "      <th>Rank</th>\n",
       "      <th>State</th>\n",
       "      <th>GSDP(18-19)- at current prices</th>\n",
       "      <th>GSDP(19-20)- at current prices</th>\n",
       "      <th>Share</th>\n",
       "      <th>GDP($ billion)</th>\n",
       "    </tr>\n",
       "  </thead>\n",
       "  <tbody>\n",
       "    <tr>\n",
       "      <th>0</th>\n",
       "      <td>1</td>\n",
       "      <td>Maharashtra</td>\n",
       "      <td>2,039,074</td>\n",
       "      <td>-</td>\n",
       "      <td>13.94%</td>\n",
       "      <td>399.921</td>\n",
       "    </tr>\n",
       "    <tr>\n",
       "      <th>1</th>\n",
       "      <td>2</td>\n",
       "      <td>Tamil Nadu</td>\n",
       "      <td>1,215,307</td>\n",
       "      <td>1,845,853</td>\n",
       "      <td>8.63%</td>\n",
       "      <td>247.629</td>\n",
       "    </tr>\n",
       "    <tr>\n",
       "      <th>2</th>\n",
       "      <td>3</td>\n",
       "      <td>Uttar Pradesh</td>\n",
       "      <td>1,123,982</td>\n",
       "      <td>1,687,818</td>\n",
       "      <td>8.39%</td>\n",
       "      <td>240.726</td>\n",
       "    </tr>\n",
       "    <tr>\n",
       "      <th>3</th>\n",
       "      <td>4</td>\n",
       "      <td>Gujarat</td>\n",
       "      <td>1,186,379</td>\n",
       "      <td>-</td>\n",
       "      <td>7.96%</td>\n",
       "      <td>228.290</td>\n",
       "    </tr>\n",
       "    <tr>\n",
       "      <th>4</th>\n",
       "      <td>5</td>\n",
       "      <td>Karnataka</td>\n",
       "      <td>1,091,077</td>\n",
       "      <td>1,631,977</td>\n",
       "      <td>7.91%</td>\n",
       "      <td>226.806</td>\n",
       "    </tr>\n",
       "    <tr>\n",
       "      <th>5</th>\n",
       "      <td>6</td>\n",
       "      <td>West Bengal</td>\n",
       "      <td>739,525</td>\n",
       "      <td>1,253,832</td>\n",
       "      <td>5.77%</td>\n",
       "      <td>165.556</td>\n",
       "    </tr>\n",
       "    <tr>\n",
       "      <th>6</th>\n",
       "      <td>7</td>\n",
       "      <td>Rajasthan</td>\n",
       "      <td>677,428</td>\n",
       "      <td>1,020,989</td>\n",
       "      <td>4.99%</td>\n",
       "      <td>143.179</td>\n",
       "    </tr>\n",
       "    <tr>\n",
       "      <th>7</th>\n",
       "      <td>8</td>\n",
       "      <td>Andhra Pradesh</td>\n",
       "      <td>621,301</td>\n",
       "      <td>972,782</td>\n",
       "      <td>4.57%</td>\n",
       "      <td>131.083</td>\n",
       "    </tr>\n",
       "    <tr>\n",
       "      <th>8</th>\n",
       "      <td>9</td>\n",
       "      <td>Telangana</td>\n",
       "      <td>612,828</td>\n",
       "      <td>969,604</td>\n",
       "      <td>4.56%</td>\n",
       "      <td>130.791</td>\n",
       "    </tr>\n",
       "    <tr>\n",
       "      <th>9</th>\n",
       "      <td>10</td>\n",
       "      <td>Madhya Pradesh</td>\n",
       "      <td>522,009</td>\n",
       "      <td>906,672</td>\n",
       "      <td>4.29%</td>\n",
       "      <td>122.977</td>\n",
       "    </tr>\n",
       "    <tr>\n",
       "      <th>10</th>\n",
       "      <td>11</td>\n",
       "      <td>Kerala</td>\n",
       "      <td>559,412</td>\n",
       "      <td>-</td>\n",
       "      <td>4.14%</td>\n",
       "      <td>118.733</td>\n",
       "    </tr>\n",
       "    <tr>\n",
       "      <th>11</th>\n",
       "      <td>12</td>\n",
       "      <td>Delhi</td>\n",
       "      <td>590,569</td>\n",
       "      <td>856,112</td>\n",
       "      <td>4.10%</td>\n",
       "      <td>117.703</td>\n",
       "    </tr>\n",
       "    <tr>\n",
       "      <th>12</th>\n",
       "      <td>13</td>\n",
       "      <td>Haryana</td>\n",
       "      <td>531,085</td>\n",
       "      <td>831,610</td>\n",
       "      <td>3.89%</td>\n",
       "      <td>111.519</td>\n",
       "    </tr>\n",
       "    <tr>\n",
       "      <th>13</th>\n",
       "      <td>14</td>\n",
       "      <td>Bihar</td>\n",
       "      <td>375,651</td>\n",
       "      <td>611,804</td>\n",
       "      <td>2.81%</td>\n",
       "      <td>80.562</td>\n",
       "    </tr>\n",
       "    <tr>\n",
       "      <th>14</th>\n",
       "      <td>15</td>\n",
       "      <td>Punjab</td>\n",
       "      <td>397,669</td>\n",
       "      <td>574,760</td>\n",
       "      <td>2.79%</td>\n",
       "      <td>79.957</td>\n",
       "    </tr>\n",
       "    <tr>\n",
       "      <th>15</th>\n",
       "      <td>16</td>\n",
       "      <td>Odisha</td>\n",
       "      <td>376,877</td>\n",
       "      <td>521,275</td>\n",
       "      <td>2.58%</td>\n",
       "      <td>74.098</td>\n",
       "    </tr>\n",
       "    <tr>\n",
       "      <th>16</th>\n",
       "      <td>17</td>\n",
       "      <td>Assam</td>\n",
       "      <td>234,048</td>\n",
       "      <td>-</td>\n",
       "      <td>1.67%</td>\n",
       "      <td>47.982</td>\n",
       "    </tr>\n",
       "    <tr>\n",
       "      <th>17</th>\n",
       "      <td>18</td>\n",
       "      <td>Chhattisgarh</td>\n",
       "      <td>231,182</td>\n",
       "      <td>329,180</td>\n",
       "      <td>1.61%</td>\n",
       "      <td>46.187</td>\n",
       "    </tr>\n",
       "    <tr>\n",
       "      <th>18</th>\n",
       "      <td>19</td>\n",
       "      <td>Jharkhand</td>\n",
       "      <td>224,986</td>\n",
       "      <td>328,598</td>\n",
       "      <td>1.57%</td>\n",
       "      <td>45.145</td>\n",
       "    </tr>\n",
       "    <tr>\n",
       "      <th>19</th>\n",
       "      <td>20</td>\n",
       "      <td>Uttarakhand</td>\n",
       "      <td>193,273</td>\n",
       "      <td>-</td>\n",
       "      <td>1.30%</td>\n",
       "      <td>37.351</td>\n",
       "    </tr>\n",
       "    <tr>\n",
       "      <th>20</th>\n",
       "      <td>21</td>\n",
       "      <td>Jammu &amp; Kashmir</td>\n",
       "      <td>112,755</td>\n",
       "      <td>-</td>\n",
       "      <td>0.83%</td>\n",
       "      <td>23.690</td>\n",
       "    </tr>\n",
       "    <tr>\n",
       "      <th>21</th>\n",
       "      <td>22</td>\n",
       "      <td>Himachal Pradesh</td>\n",
       "      <td>117,851</td>\n",
       "      <td>165,472</td>\n",
       "      <td>0.81%</td>\n",
       "      <td>23.369</td>\n",
       "    </tr>\n",
       "    <tr>\n",
       "      <th>22</th>\n",
       "      <td>23</td>\n",
       "      <td>Goa</td>\n",
       "      <td>57,787</td>\n",
       "      <td>80,449</td>\n",
       "      <td>0.39%</td>\n",
       "      <td>11.115</td>\n",
       "    </tr>\n",
       "    <tr>\n",
       "      <th>23</th>\n",
       "      <td>24</td>\n",
       "      <td>Tripura</td>\n",
       "      <td>36,963</td>\n",
       "      <td>55,984</td>\n",
       "      <td>0.26%</td>\n",
       "      <td>7.571</td>\n",
       "    </tr>\n",
       "    <tr>\n",
       "      <th>24</th>\n",
       "      <td>25</td>\n",
       "      <td>Chandigarh</td>\n",
       "      <td>31,192</td>\n",
       "      <td>-</td>\n",
       "      <td>0.22%</td>\n",
       "      <td>6.397</td>\n",
       "    </tr>\n",
       "    <tr>\n",
       "      <th>25</th>\n",
       "      <td>26</td>\n",
       "      <td>Puducherry</td>\n",
       "      <td>23,013</td>\n",
       "      <td>38,253</td>\n",
       "      <td>0.18%</td>\n",
       "      <td>5.230</td>\n",
       "    </tr>\n",
       "    <tr>\n",
       "      <th>26</th>\n",
       "      <td>27</td>\n",
       "      <td>Meghalaya</td>\n",
       "      <td>24,682</td>\n",
       "      <td>36,572</td>\n",
       "      <td>0.18%</td>\n",
       "      <td>5.086</td>\n",
       "    </tr>\n",
       "    <tr>\n",
       "      <th>27</th>\n",
       "      <td>28</td>\n",
       "      <td>Sikkim</td>\n",
       "      <td>18,722</td>\n",
       "      <td>32,496</td>\n",
       "      <td>0.15%</td>\n",
       "      <td>4.363</td>\n",
       "    </tr>\n",
       "    <tr>\n",
       "      <th>28</th>\n",
       "      <td>29</td>\n",
       "      <td>Manipur</td>\n",
       "      <td>19,300</td>\n",
       "      <td>31,790</td>\n",
       "      <td>0.15%</td>\n",
       "      <td>4.233</td>\n",
       "    </tr>\n",
       "    <tr>\n",
       "      <th>29</th>\n",
       "      <td>30</td>\n",
       "      <td>Nagaland</td>\n",
       "      <td>17,647</td>\n",
       "      <td>-</td>\n",
       "      <td>0.14%</td>\n",
       "      <td>4.144</td>\n",
       "    </tr>\n",
       "    <tr>\n",
       "      <th>30</th>\n",
       "      <td>31</td>\n",
       "      <td>Arunachal Pradesh</td>\n",
       "      <td>16,676</td>\n",
       "      <td>-</td>\n",
       "      <td>0.13%</td>\n",
       "      <td>3.737</td>\n",
       "    </tr>\n",
       "    <tr>\n",
       "      <th>31</th>\n",
       "      <td>32</td>\n",
       "      <td>Mizoram</td>\n",
       "      <td>16,478</td>\n",
       "      <td>26,503</td>\n",
       "      <td>0.12%</td>\n",
       "      <td>3.385</td>\n",
       "    </tr>\n",
       "    <tr>\n",
       "      <th>32</th>\n",
       "      <td>33</td>\n",
       "      <td>Andaman &amp; Nicobar Islands</td>\n",
       "      <td>-</td>\n",
       "      <td>-</td>\n",
       "      <td>-</td>\n",
       "      <td>-</td>\n",
       "    </tr>\n",
       "  </tbody>\n",
       "</table>\n",
       "</div>"
      ],
      "text/plain": [
       "   Rank                      State GSDP(18-19)- at current prices   \n",
       "0     1                Maharashtra                      2,039,074  \\\n",
       "1     2                 Tamil Nadu                      1,215,307   \n",
       "2     3              Uttar Pradesh                      1,123,982   \n",
       "3     4                    Gujarat                      1,186,379   \n",
       "4     5                  Karnataka                      1,091,077   \n",
       "5     6                West Bengal                        739,525   \n",
       "6     7                  Rajasthan                        677,428   \n",
       "7     8             Andhra Pradesh                        621,301   \n",
       "8     9                  Telangana                        612,828   \n",
       "9    10             Madhya Pradesh                        522,009   \n",
       "10   11                     Kerala                        559,412   \n",
       "11   12                      Delhi                        590,569   \n",
       "12   13                    Haryana                        531,085   \n",
       "13   14                      Bihar                        375,651   \n",
       "14   15                     Punjab                        397,669   \n",
       "15   16                     Odisha                        376,877   \n",
       "16   17                      Assam                        234,048   \n",
       "17   18               Chhattisgarh                        231,182   \n",
       "18   19                  Jharkhand                        224,986   \n",
       "19   20                Uttarakhand                        193,273   \n",
       "20   21            Jammu & Kashmir                        112,755   \n",
       "21   22           Himachal Pradesh                        117,851   \n",
       "22   23                        Goa                         57,787   \n",
       "23   24                    Tripura                         36,963   \n",
       "24   25                 Chandigarh                         31,192   \n",
       "25   26                 Puducherry                         23,013   \n",
       "26   27                  Meghalaya                         24,682   \n",
       "27   28                     Sikkim                         18,722   \n",
       "28   29                    Manipur                         19,300   \n",
       "29   30                   Nagaland                         17,647   \n",
       "30   31          Arunachal Pradesh                         16,676   \n",
       "31   32                    Mizoram                         16,478   \n",
       "32   33  Andaman & Nicobar Islands                              -   \n",
       "\n",
       "   GSDP(19-20)- at current prices   Share GDP($ billion)  \n",
       "0                               -  13.94%        399.921  \n",
       "1                       1,845,853   8.63%        247.629  \n",
       "2                       1,687,818   8.39%        240.726  \n",
       "3                               -   7.96%        228.290  \n",
       "4                       1,631,977   7.91%        226.806  \n",
       "5                       1,253,832   5.77%        165.556  \n",
       "6                       1,020,989   4.99%        143.179  \n",
       "7                         972,782   4.57%        131.083  \n",
       "8                         969,604   4.56%        130.791  \n",
       "9                         906,672   4.29%        122.977  \n",
       "10                              -   4.14%        118.733  \n",
       "11                        856,112   4.10%        117.703  \n",
       "12                        831,610   3.89%        111.519  \n",
       "13                        611,804   2.81%         80.562  \n",
       "14                        574,760   2.79%         79.957  \n",
       "15                        521,275   2.58%         74.098  \n",
       "16                              -   1.67%         47.982  \n",
       "17                        329,180   1.61%         46.187  \n",
       "18                        328,598   1.57%         45.145  \n",
       "19                              -   1.30%         37.351  \n",
       "20                              -   0.83%         23.690  \n",
       "21                        165,472   0.81%         23.369  \n",
       "22                         80,449   0.39%         11.115  \n",
       "23                         55,984   0.26%          7.571  \n",
       "24                              -   0.22%          6.397  \n",
       "25                         38,253   0.18%          5.230  \n",
       "26                         36,572   0.18%          5.086  \n",
       "27                         32,496   0.15%          4.363  \n",
       "28                         31,790   0.15%          4.233  \n",
       "29                              -   0.14%          4.144  \n",
       "30                              -   0.13%          3.737  \n",
       "31                         26,503   0.12%          3.385  \n",
       "32                              -       -              -  "
      ]
     },
     "execution_count": 63,
     "metadata": {},
     "output_type": "execute_result"
    }
   ],
   "source": [
    "df1 =pd.DataFrame({'Rank':Rank,\"State\":State,\"GSDP(18-19)- at current prices\":GDPs,\"GSDP(19-20)- at current prices\":GDP,\"Share\":Share,\"GDP($ billion)\":GDPa})\n",
    "df1\n"
   ]
  },
  {
   "cell_type": "code",
   "execution_count": 64,
   "id": "916f7153",
   "metadata": {},
   "outputs": [],
   "source": [
    "driver.close()"
   ]
  },
  {
   "cell_type": "markdown",
   "id": "87e118a1",
   "metadata": {},
   "source": [
    "question 4"
   ]
  },
  {
   "cell_type": "code",
   "execution_count": 69,
   "id": "ea2246db",
   "metadata": {},
   "outputs": [],
   "source": [
    "# connect to webdriver\n",
    "driver = webdriver.Chrome(r'chromedriver.exe')"
   ]
  },
  {
   "cell_type": "code",
   "execution_count": 70,
   "id": "2e85d5ad",
   "metadata": {},
   "outputs": [],
   "source": [
    "url=\" https://github.com/\" # Here i am assigning the link in url name variable \n",
    "driver.get(url)\n"
   ]
  },
  {
   "cell_type": "code",
   "execution_count": 76,
   "id": "76ed6928",
   "metadata": {},
   "outputs": [],
   "source": [
    "driver.find_element(By.XPATH,\"/html/body/div[1]/div[1]/header/div/div[2]/div/nav/ul/li[3]\").click()"
   ]
  },
  {
   "cell_type": "code",
   "execution_count": 78,
   "id": "9ceeef92",
   "metadata": {},
   "outputs": [],
   "source": [
    "driver.find_element(By.XPATH,\"/html/body/div[1]/div[4]/main/div[1]/nav/div/a[3]\").click()"
   ]
  },
  {
   "cell_type": "code",
   "execution_count": 97,
   "id": "3195ce83",
   "metadata": {},
   "outputs": [],
   "source": [
    "Repository_title=[]\n",
    "try:\n",
    "    for i in driver.find_elements(By.XPATH,'//span[@class=\"text-normal\"]'):\n",
    "        Repository_title.append(i.text)\n",
    "except NoSuchElementException:\n",
    "    Repository_title.append('-')"
   ]
  },
  {
   "cell_type": "code",
   "execution_count": 98,
   "id": "b6a8c847",
   "metadata": {},
   "outputs": [],
   "source": [
    "Repository__title=Repository_title[0:20]"
   ]
  },
  {
   "cell_type": "code",
   "execution_count": 99,
   "id": "5e7e5bb5",
   "metadata": {},
   "outputs": [
    {
     "data": {
      "text/plain": [
       "20"
      ]
     },
     "execution_count": 99,
     "metadata": {},
     "output_type": "execute_result"
    }
   ],
   "source": [
    "len(Repository__title)"
   ]
  },
  {
   "cell_type": "code",
   "execution_count": 84,
   "id": "199a49f1",
   "metadata": {},
   "outputs": [],
   "source": [
    "Repository_description=[]\n",
    "try:\n",
    "    for i in driver.find_elements(By.XPATH,'//p[@ class=\"col-9 color-fg-muted my-1 pr-4\"]'):\n",
    "        Repository_description.append(i.text)\n",
    "except NoSuchElementException:\n",
    "    Repository_description.append('-')"
   ]
  },
  {
   "cell_type": "code",
   "execution_count": 100,
   "id": "6026490d",
   "metadata": {},
   "outputs": [],
   "source": [
    "Repository__description=Repository_description[0:20]"
   ]
  },
  {
   "cell_type": "code",
   "execution_count": 87,
   "id": "459e3076",
   "metadata": {},
   "outputs": [],
   "source": [
    "Contributors_count=[]\n",
    "try:\n",
    "    for i in driver.find_elements(By.XPATH,\"//a[@class='Link--muted d-inline-block mr-3'][1]\"):\n",
    "        Contributors_count.append(i.text)\n",
    "except NoSuchElementException:\n",
    "    Contributors_count.append('-')"
   ]
  },
  {
   "cell_type": "code",
   "execution_count": 101,
   "id": "fcd5ff10",
   "metadata": {},
   "outputs": [],
   "source": [
    "Contributors__count=Contributors_count[0:20]"
   ]
  },
  {
   "cell_type": "code",
   "execution_count": 92,
   "id": "425d077e",
   "metadata": {},
   "outputs": [],
   "source": [
    "Language_used=[]\n",
    "try:\n",
    "    for i in driver.find_elements(By.XPATH,\"//span[@class='d-inline-block ml-0 mr-3']\"):\n",
    "        Language_used.append(i.text)\n",
    "except NoSuchElementException:\n",
    "    Language_used.append('-')\n",
    "    time.sleep(5)"
   ]
  },
  {
   "cell_type": "code",
   "execution_count": 93,
   "id": "40630bd5",
   "metadata": {},
   "outputs": [
    {
     "data": {
      "text/plain": [
       "20"
      ]
     },
     "execution_count": 93,
     "metadata": {},
     "output_type": "execute_result"
    }
   ],
   "source": [
    "len(Language_used)"
   ]
  },
  {
   "cell_type": "code",
   "execution_count": 94,
   "id": "5218d25f",
   "metadata": {},
   "outputs": [],
   "source": [
    "import pandas as pd"
   ]
  },
  {
   "cell_type": "code",
   "execution_count": 102,
   "id": "2ae990f1",
   "metadata": {},
   "outputs": [
    {
     "data": {
      "text/html": [
       "<div>\n",
       "<style scoped>\n",
       "    .dataframe tbody tr th:only-of-type {\n",
       "        vertical-align: middle;\n",
       "    }\n",
       "\n",
       "    .dataframe tbody tr th {\n",
       "        vertical-align: top;\n",
       "    }\n",
       "\n",
       "    .dataframe thead th {\n",
       "        text-align: right;\n",
       "    }\n",
       "</style>\n",
       "<table border=\"1\" class=\"dataframe\">\n",
       "  <thead>\n",
       "    <tr style=\"text-align: right;\">\n",
       "      <th></th>\n",
       "      <th>Repository_title</th>\n",
       "      <th>Repository_description</th>\n",
       "      <th>Contributors_count</th>\n",
       "      <th>Language_used</th>\n",
       "    </tr>\n",
       "  </thead>\n",
       "  <tbody>\n",
       "    <tr>\n",
       "      <th>0</th>\n",
       "      <td>PowerShell /</td>\n",
       "      <td>PowerShell for every system!</td>\n",
       "      <td>39,280</td>\n",
       "      <td>C#</td>\n",
       "    </tr>\n",
       "    <tr>\n",
       "      <th>1</th>\n",
       "      <td>WeMakeDevs /</td>\n",
       "      <td>There can be more than Notion and Miro. AFFiNE...</td>\n",
       "      <td>598</td>\n",
       "      <td>TypeScript</td>\n",
       "    </tr>\n",
       "    <tr>\n",
       "      <th>2</th>\n",
       "      <td>toeverything /</td>\n",
       "      <td>An open-source C++ library developed and used ...</td>\n",
       "      <td>18,023</td>\n",
       "      <td>C++</td>\n",
       "    </tr>\n",
       "    <tr>\n",
       "      <th>3</th>\n",
       "      <td>facebook /</td>\n",
       "      <td>This is the official code for Faster Segment A...</td>\n",
       "      <td>25,525</td>\n",
       "      <td>Jupyter Notebook</td>\n",
       "    </tr>\n",
       "    <tr>\n",
       "      <th>4</th>\n",
       "      <td>ChaoningZhang /</td>\n",
       "      <td>Remove backgrounds from images directly in the...</td>\n",
       "      <td>2,259</td>\n",
       "      <td>TypeScript</td>\n",
       "    </tr>\n",
       "    <tr>\n",
       "      <th>5</th>\n",
       "      <td>imgly /</td>\n",
       "      <td>Curated list of project-based tutorials</td>\n",
       "      <td>1,781</td>\n",
       "      <td>HTML</td>\n",
       "    </tr>\n",
       "    <tr>\n",
       "      <th>6</th>\n",
       "      <td>practical-tutorials /</td>\n",
       "      <td>中国大模型</td>\n",
       "      <td>108,559</td>\n",
       "      <td>JavaScript</td>\n",
       "    </tr>\n",
       "    <tr>\n",
       "      <th>7</th>\n",
       "      <td>wgwang /</td>\n",
       "      <td>All you need for End-to-end Autonomous Driving</td>\n",
       "      <td>738</td>\n",
       "      <td>Python</td>\n",
       "    </tr>\n",
       "    <tr>\n",
       "      <th>8</th>\n",
       "      <td>OpenDriveLab /</td>\n",
       "      <td>A list of SaaS, PaaS and IaaS offerings that h...</td>\n",
       "      <td>339</td>\n",
       "      <td>Go</td>\n",
       "    </tr>\n",
       "    <tr>\n",
       "      <th>9</th>\n",
       "      <td>ripienaar /</td>\n",
       "      <td>🥷 Superagent - Build, deploy, and manage LLM-p...</td>\n",
       "      <td>71,111</td>\n",
       "      <td>Jupyter Notebook</td>\n",
       "    </tr>\n",
       "    <tr>\n",
       "      <th>10</th>\n",
       "      <td>homanp /</td>\n",
       "      <td>Fine-tuning ChatGLM-6B with PEFT | 基于 PEFT 的高效...</td>\n",
       "      <td>1,291</td>\n",
       "      <td>Python</td>\n",
       "    </tr>\n",
       "    <tr>\n",
       "      <th>11</th>\n",
       "      <td>hiyouga /</td>\n",
       "      <td>📚 Freely available programming books</td>\n",
       "      <td>1,748</td>\n",
       "      <td>TypeScript</td>\n",
       "    </tr>\n",
       "    <tr>\n",
       "      <th>12</th>\n",
       "      <td>EbookFoundation /</td>\n",
       "      <td>🧑‍🏫 59 Implementations/tutorials of deep learn...</td>\n",
       "      <td>285,239</td>\n",
       "      <td>C#</td>\n",
       "    </tr>\n",
       "    <tr>\n",
       "      <th>13</th>\n",
       "      <td>teslamotors /</td>\n",
       "      <td>🤗 Transformers: State-of-the-art Machine Learn...</td>\n",
       "      <td>339</td>\n",
       "      <td>Rust</td>\n",
       "    </tr>\n",
       "    <tr>\n",
       "      <th>14</th>\n",
       "      <td>labmlai /</td>\n",
       "      <td>🧠 Dump all your files into your private Genera...</td>\n",
       "      <td>26,430</td>\n",
       "      <td>Python</td>\n",
       "    </tr>\n",
       "    <tr>\n",
       "      <th>15</th>\n",
       "      <td>huggingface /</td>\n",
       "      <td>Cross-platform .NET sample microservices and c...</td>\n",
       "      <td>105,807</td>\n",
       "      <td>Python</td>\n",
       "    </tr>\n",
       "    <tr>\n",
       "      <th>16</th>\n",
       "      <td>StanGirard /</td>\n",
       "      <td>Create book from markdown files. Like Gitbook ...</td>\n",
       "      <td>9,432</td>\n",
       "      <td>Rust</td>\n",
       "    </tr>\n",
       "    <tr>\n",
       "      <th>17</th>\n",
       "      <td>dotnet-architecture /</td>\n",
       "      <td>🆓免费的 ChatGPT 镜像网站列表，持续更新。List of free ChatGPT ...</td>\n",
       "      <td>23,698</td>\n",
       "      <td>Python</td>\n",
       "    </tr>\n",
       "    <tr>\n",
       "      <th>18</th>\n",
       "      <td>rust-lang /</td>\n",
       "      <td>Ansible for DevOps examples.</td>\n",
       "      <td>14,017</td>\n",
       "      <td>Python</td>\n",
       "    </tr>\n",
       "    <tr>\n",
       "      <th>19</th>\n",
       "      <td>LiLittleCat /</td>\n",
       "      <td>《构筑大语言模型应用：应用开发与架构设计》一本关于 LLM 在真实世界应用的开源电子书，介绍...</td>\n",
       "      <td>6,944</td>\n",
       "      <td>Go</td>\n",
       "    </tr>\n",
       "  </tbody>\n",
       "</table>\n",
       "</div>"
      ],
      "text/plain": [
       "         Repository_title                             Repository_description   \n",
       "0            PowerShell /                       PowerShell for every system!  \\\n",
       "1            WeMakeDevs /  There can be more than Notion and Miro. AFFiNE...   \n",
       "2          toeverything /  An open-source C++ library developed and used ...   \n",
       "3              facebook /  This is the official code for Faster Segment A...   \n",
       "4         ChaoningZhang /  Remove backgrounds from images directly in the...   \n",
       "5                 imgly /            Curated list of project-based tutorials   \n",
       "6   practical-tutorials /                                              中国大模型   \n",
       "7                wgwang /     All you need for End-to-end Autonomous Driving   \n",
       "8          OpenDriveLab /  A list of SaaS, PaaS and IaaS offerings that h...   \n",
       "9             ripienaar /  🥷 Superagent - Build, deploy, and manage LLM-p...   \n",
       "10               homanp /  Fine-tuning ChatGLM-6B with PEFT | 基于 PEFT 的高效...   \n",
       "11              hiyouga /               📚 Freely available programming books   \n",
       "12      EbookFoundation /  🧑‍🏫 59 Implementations/tutorials of deep learn...   \n",
       "13          teslamotors /  🤗 Transformers: State-of-the-art Machine Learn...   \n",
       "14              labmlai /  🧠 Dump all your files into your private Genera...   \n",
       "15          huggingface /  Cross-platform .NET sample microservices and c...   \n",
       "16           StanGirard /  Create book from markdown files. Like Gitbook ...   \n",
       "17  dotnet-architecture /  🆓免费的 ChatGPT 镜像网站列表，持续更新。List of free ChatGPT ...   \n",
       "18            rust-lang /                       Ansible for DevOps examples.   \n",
       "19          LiLittleCat /  《构筑大语言模型应用：应用开发与架构设计》一本关于 LLM 在真实世界应用的开源电子书，介绍...   \n",
       "\n",
       "   Contributors_count     Language_used  \n",
       "0              39,280                C#  \n",
       "1                 598        TypeScript  \n",
       "2              18,023               C++  \n",
       "3              25,525  Jupyter Notebook  \n",
       "4               2,259        TypeScript  \n",
       "5               1,781              HTML  \n",
       "6             108,559        JavaScript  \n",
       "7                 738            Python  \n",
       "8                 339                Go  \n",
       "9              71,111  Jupyter Notebook  \n",
       "10              1,291            Python  \n",
       "11              1,748        TypeScript  \n",
       "12            285,239                C#  \n",
       "13                339              Rust  \n",
       "14             26,430            Python  \n",
       "15            105,807            Python  \n",
       "16              9,432              Rust  \n",
       "17             23,698            Python  \n",
       "18             14,017            Python  \n",
       "19              6,944                Go  "
      ]
     },
     "execution_count": 102,
     "metadata": {},
     "output_type": "execute_result"
    }
   ],
   "source": [
    "data=pd.DataFrame({\"Repository_title\":Repository__title,\"Repository_description\":Repository__description,\"Contributors_count\":Contributors__count,\"Language_used\":Language_used})\n",
    "data"
   ]
  },
  {
   "cell_type": "code",
   "execution_count": 103,
   "id": "3c8ebd35",
   "metadata": {},
   "outputs": [],
   "source": [
    "driver.close()"
   ]
  },
  {
   "cell_type": "markdown",
   "id": "b87fdc73",
   "metadata": {},
   "source": [
    "question 5"
   ]
  },
  {
   "cell_type": "code",
   "execution_count": 47,
   "id": "e41223c0",
   "metadata": {},
   "outputs": [],
   "source": [
    "# connect to webdriver\n",
    "driver = webdriver.Chrome(r'chromedriver.exe')"
   ]
  },
  {
   "cell_type": "code",
   "execution_count": 48,
   "id": "2d326ad8",
   "metadata": {},
   "outputs": [],
   "source": [
    "url=\"https:/www.billboard.com/\" # Here i am assigning the link in url name variable \n",
    "driver.get(url)"
   ]
  },
  {
   "cell_type": "code",
   "execution_count": 50,
   "id": "1ab911d6",
   "metadata": {},
   "outputs": [],
   "source": [
    "driver.find_element(By.XPATH,\"/html/body/div[3]/div[9]/div/div/div/ul/li[1]/h3/a\").click()"
   ]
  },
  {
   "cell_type": "code",
   "execution_count": 51,
   "id": "70b6eb2c",
   "metadata": {},
   "outputs": [],
   "source": [
    "driver.find_element(By.XPATH,\"/html/body/div[3]/main/div[2]/div[1]/div[1]/div/div/div[3]/a\").click()"
   ]
  },
  {
   "cell_type": "code",
   "execution_count": 52,
   "id": "e73f0251",
   "metadata": {},
   "outputs": [],
   "source": [
    "Song_name=[]\n",
    "try:\n",
    "    for i in driver.find_elements(By.XPATH,'//li[@class=\"lrv-u-width-100p\"]/ul/li/h3'):\n",
    "        Song_name.append(i.text)\n",
    "except NoSuchElementException:\n",
    "    Song_name.append('-')\n",
    "    time.sleep(5)"
   ]
  },
  {
   "cell_type": "code",
   "execution_count": 53,
   "id": "57658c97",
   "metadata": {},
   "outputs": [
    {
     "data": {
      "text/plain": [
       "100"
      ]
     },
     "execution_count": 53,
     "metadata": {},
     "output_type": "execute_result"
    }
   ],
   "source": [
    "len(Song_name)"
   ]
  },
  {
   "cell_type": "code",
   "execution_count": 54,
   "id": "dc955164",
   "metadata": {},
   "outputs": [],
   "source": [
    "Artist_name=[]\n",
    "try:\n",
    "    for i in driver.find_elements(By.XPATH,'//li[@class=\"lrv-u-width-100p\"]/ul/li/span'):\n",
    "        Artist_name.append(i.text)\n",
    "except NoSuchElementException:\n",
    "    Artist_name.append('-')\n",
    "    time.sleep(5)"
   ]
  },
  {
   "cell_type": "code",
   "execution_count": 55,
   "id": "fa321813",
   "metadata": {},
   "outputs": [],
   "source": [
    "Artist_name = Artist_name[0:-1:4]"
   ]
  },
  {
   "cell_type": "code",
   "execution_count": 56,
   "id": "a03c70e2",
   "metadata": {},
   "outputs": [
    {
     "data": {
      "text/plain": [
       "100"
      ]
     },
     "execution_count": 56,
     "metadata": {},
     "output_type": "execute_result"
    }
   ],
   "source": [
    "len(Artist_name)"
   ]
  },
  {
   "cell_type": "code",
   "execution_count": 57,
   "id": "71b827ce",
   "metadata": {},
   "outputs": [],
   "source": [
    "Peak_rank=[]\n",
    "try:\n",
    "    for i in driver.find_elements(By.XPATH,'//span[@class=\"c-label  a-font-primary-bold-l u-font-size-32@tablet u-letter-spacing-0080@tablet\"]'):\n",
    "        Peak_rank.append(i.text)\n",
    "except NoSuchElementException:\n",
    "    Peak_rank.append('-')\n",
    "    time.sleep(5)  "
   ]
  },
  {
   "cell_type": "code",
   "execution_count": 58,
   "id": "d8c4c5d8",
   "metadata": {},
   "outputs": [
    {
     "data": {
      "text/plain": [
       "100"
      ]
     },
     "execution_count": 58,
     "metadata": {},
     "output_type": "execute_result"
    }
   ],
   "source": [
    "len(Peak_rank)"
   ]
  },
  {
   "cell_type": "code",
   "execution_count": 59,
   "id": "5b531184",
   "metadata": {},
   "outputs": [],
   "source": [
    "Last_week_rank=[]\n",
    "try:\n",
    "    for i in driver.find_elements(By.XPATH,'//li[@class=\"o-chart-results-list__item // a-chart-color u-width-72 u-width-55@mobile-max u-width-55@tablet-only lrv-u-flex lrv-u-flex-shrink-0 lrv-u-align-items-center lrv-u-justify-content-center lrv-u-border-b-1 u-border-b-0@mobile-max lrv-u-border-color-grey-light u-background-color-white-064@mobile-max u-hidden@mobile-max\"]/span'):\n",
    "        Last_week_rank.append(i.text)\n",
    "except NoSuchElementException:\n",
    "    Last_week_rank.append('-')\n",
    "    time.sleep(5)\n",
    " "
   ]
  },
  {
   "cell_type": "code",
   "execution_count": 60,
   "id": "2227f4ce",
   "metadata": {},
   "outputs": [
    {
     "data": {
      "text/plain": [
       "100"
      ]
     },
     "execution_count": 60,
     "metadata": {},
     "output_type": "execute_result"
    }
   ],
   "source": [
    "Last_week_rank=Last_week_rank[0:-1:2]\n",
    "len(Last_week_rank)"
   ]
  },
  {
   "cell_type": "code",
   "execution_count": 61,
   "id": "b317c659",
   "metadata": {},
   "outputs": [],
   "source": [
    "Weeks_on_board=[]\n",
    "try:\n",
    "    for i in driver.find_elements(By.XPATH,'//li[@class=\"o-chart-results-list__item // a-chart-color u-width-72 u-width-55@mobile-max u-width-55@tablet-only lrv-u-flex lrv-u-flex-shrink-0 lrv-u-align-items-center lrv-u-justify-content-center lrv-u-border-b-1 u-border-b-0@mobile-max lrv-u-border-color-grey-light u-background-color-white-064@mobile-max u-hidden@mobile-max\"]/span'):\n",
    "        Weeks_on_board.append(i.text)\n",
    "except NoSuchElementException:\n",
    "    Weeks_on_board.append('-')\n",
    "    time.sleep(5)"
   ]
  },
  {
   "cell_type": "code",
   "execution_count": 62,
   "id": "228b7894",
   "metadata": {},
   "outputs": [
    {
     "data": {
      "text/plain": [
       "100"
      ]
     },
     "execution_count": 62,
     "metadata": {},
     "output_type": "execute_result"
    }
   ],
   "source": [
    "Weeks_on_board=Weeks_on_board[1:200:2]\n",
    "len(Weeks_on_board)"
   ]
  },
  {
   "cell_type": "code",
   "execution_count": 63,
   "id": "b1c26d12",
   "metadata": {},
   "outputs": [
    {
     "data": {
      "text/html": [
       "<div>\n",
       "<style scoped>\n",
       "    .dataframe tbody tr th:only-of-type {\n",
       "        vertical-align: middle;\n",
       "    }\n",
       "\n",
       "    .dataframe tbody tr th {\n",
       "        vertical-align: top;\n",
       "    }\n",
       "\n",
       "    .dataframe thead th {\n",
       "        text-align: right;\n",
       "    }\n",
       "</style>\n",
       "<table border=\"1\" class=\"dataframe\">\n",
       "  <thead>\n",
       "    <tr style=\"text-align: right;\">\n",
       "      <th></th>\n",
       "      <th>Song_name</th>\n",
       "      <th>Artist_name</th>\n",
       "      <th>Peak_rank</th>\n",
       "      <th>Last_week_rank</th>\n",
       "      <th>Weeks_on_board</th>\n",
       "    </tr>\n",
       "  </thead>\n",
       "  <tbody>\n",
       "    <tr>\n",
       "      <th>0</th>\n",
       "      <td>Last Night</td>\n",
       "      <td>Morgan Wallen</td>\n",
       "      <td>1</td>\n",
       "      <td>1</td>\n",
       "      <td>22</td>\n",
       "    </tr>\n",
       "    <tr>\n",
       "      <th>1</th>\n",
       "      <td>Fast Car</td>\n",
       "      <td>Luke Combs</td>\n",
       "      <td>2</td>\n",
       "      <td>2</td>\n",
       "      <td>14</td>\n",
       "    </tr>\n",
       "    <tr>\n",
       "      <th>2</th>\n",
       "      <td>Calm Down</td>\n",
       "      <td>Rema &amp; Selena Gomez</td>\n",
       "      <td>3</td>\n",
       "      <td>3</td>\n",
       "      <td>43</td>\n",
       "    </tr>\n",
       "    <tr>\n",
       "      <th>3</th>\n",
       "      <td>Flowers</td>\n",
       "      <td>Miley Cyrus</td>\n",
       "      <td>4</td>\n",
       "      <td>4</td>\n",
       "      <td>24</td>\n",
       "    </tr>\n",
       "    <tr>\n",
       "      <th>4</th>\n",
       "      <td>All My Life</td>\n",
       "      <td>Lil Durk Featuring J. Cole</td>\n",
       "      <td>5</td>\n",
       "      <td>5</td>\n",
       "      <td>7</td>\n",
       "    </tr>\n",
       "    <tr>\n",
       "      <th>...</th>\n",
       "      <td>...</td>\n",
       "      <td>...</td>\n",
       "      <td>...</td>\n",
       "      <td>...</td>\n",
       "      <td>...</td>\n",
       "    </tr>\n",
       "    <tr>\n",
       "      <th>95</th>\n",
       "      <td>Jaded</td>\n",
       "      <td>Miley Cyrus</td>\n",
       "      <td>96</td>\n",
       "      <td>87</td>\n",
       "      <td>7</td>\n",
       "    </tr>\n",
       "    <tr>\n",
       "      <th>96</th>\n",
       "      <td>Abracadabra</td>\n",
       "      <td>Young Thug Featuring Travis Scott</td>\n",
       "      <td>97</td>\n",
       "      <td>-</td>\n",
       "      <td>1</td>\n",
       "    </tr>\n",
       "    <tr>\n",
       "      <th>97</th>\n",
       "      <td>Truck Bed</td>\n",
       "      <td>HARDY</td>\n",
       "      <td>98</td>\n",
       "      <td>89</td>\n",
       "      <td>3</td>\n",
       "    </tr>\n",
       "    <tr>\n",
       "      <th>98</th>\n",
       "      <td>Save Me</td>\n",
       "      <td>Jelly Roll With Lainey Wilson</td>\n",
       "      <td>99</td>\n",
       "      <td>85</td>\n",
       "      <td>4</td>\n",
       "    </tr>\n",
       "    <tr>\n",
       "      <th>99</th>\n",
       "      <td>Gucci Grocery Bag</td>\n",
       "      <td>Young Thug</td>\n",
       "      <td>100</td>\n",
       "      <td>-</td>\n",
       "      <td>1</td>\n",
       "    </tr>\n",
       "  </tbody>\n",
       "</table>\n",
       "<p>100 rows × 5 columns</p>\n",
       "</div>"
      ],
      "text/plain": [
       "            Song_name                        Artist_name Peak_rank   \n",
       "0          Last Night                      Morgan Wallen         1  \\\n",
       "1            Fast Car                         Luke Combs         2   \n",
       "2           Calm Down                Rema & Selena Gomez         3   \n",
       "3             Flowers                        Miley Cyrus         4   \n",
       "4         All My Life         Lil Durk Featuring J. Cole         5   \n",
       "..                ...                                ...       ...   \n",
       "95              Jaded                        Miley Cyrus        96   \n",
       "96        Abracadabra  Young Thug Featuring Travis Scott        97   \n",
       "97          Truck Bed                              HARDY        98   \n",
       "98            Save Me      Jelly Roll With Lainey Wilson        99   \n",
       "99  Gucci Grocery Bag                         Young Thug       100   \n",
       "\n",
       "   Last_week_rank Weeks_on_board  \n",
       "0               1             22  \n",
       "1               2             14  \n",
       "2               3             43  \n",
       "3               4             24  \n",
       "4               5              7  \n",
       "..            ...            ...  \n",
       "95             87              7  \n",
       "96              -              1  \n",
       "97             89              3  \n",
       "98             85              4  \n",
       "99              -              1  \n",
       "\n",
       "[100 rows x 5 columns]"
      ]
     },
     "execution_count": 63,
     "metadata": {},
     "output_type": "execute_result"
    }
   ],
   "source": [
    "#Lets Make Dataframe\n",
    "import pandas as pd\n",
    "data=pd.DataFrame({\"Song_name\":Song_name,\"Artist_name\":Artist_name,\"Peak_rank\":Peak_rank,\"Last_week_rank\":Last_week_rank,\"Weeks_on_board\":Weeks_on_board})\n",
    "data"
   ]
  },
  {
   "cell_type": "code",
   "execution_count": 64,
   "id": "a725e3ec",
   "metadata": {},
   "outputs": [],
   "source": [
    "driver.close()"
   ]
  },
  {
   "cell_type": "markdown",
   "id": "cabba040",
   "metadata": {},
   "source": [
    "question 6"
   ]
  },
  {
   "cell_type": "code",
   "execution_count": 146,
   "id": "44cfb348",
   "metadata": {},
   "outputs": [],
   "source": [
    "# connect to webdriver\n",
    "driver = webdriver.Chrome(r'chromedriver.exe')"
   ]
  },
  {
   "cell_type": "code",
   "execution_count": 152,
   "id": "664cdb9f",
   "metadata": {},
   "outputs": [],
   "source": [
    "url=\"https://www.theguardian.com/news/datablog/2012/aug/09/best-selling-books-all-time-fifty-shades-grey-compare \" # Here i am assigning the link in url name variable \n",
    "driver.get(url)\n"
   ]
  },
  {
   "cell_type": "code",
   "execution_count": 153,
   "id": "f7bb6cfb",
   "metadata": {},
   "outputs": [],
   "source": [
    "Book_name=[]\n",
    "try:\n",
    "    for i in driver.find_elements(By.XPATH,'//table[@class=\"in-article sortable\"]//tbody//tr//td[2]'):\n",
    "        Book_name.append(i.text)\n",
    "except NoSuchElementException:\n",
    "    Book_name.append('-')\n",
    "    time.sleep(5)"
   ]
  },
  {
   "cell_type": "code",
   "execution_count": 154,
   "id": "f7fd3501",
   "metadata": {},
   "outputs": [
    {
     "data": {
      "text/plain": [
       "100"
      ]
     },
     "execution_count": 154,
     "metadata": {},
     "output_type": "execute_result"
    }
   ],
   "source": [
    "len(Book_name)"
   ]
  },
  {
   "cell_type": "code",
   "execution_count": 155,
   "id": "412ed77c",
   "metadata": {},
   "outputs": [],
   "source": [
    "Author_name=[]\n",
    "try:\n",
    "    for i in driver.find_elements(By.XPATH,'//table[@class=\"in-article sortable\"]//tbody//tr//td[3]'):\n",
    "        Author_name.append(i.text)\n",
    "except NoSuchElementException:\n",
    "    Author_name.append('-')\n",
    "    time.sleep(5)"
   ]
  },
  {
   "cell_type": "code",
   "execution_count": 156,
   "id": "e908001a",
   "metadata": {},
   "outputs": [
    {
     "data": {
      "text/plain": [
       "100"
      ]
     },
     "execution_count": 156,
     "metadata": {},
     "output_type": "execute_result"
    }
   ],
   "source": [
    "len(Author_name)"
   ]
  },
  {
   "cell_type": "code",
   "execution_count": 157,
   "id": "99ba95ae",
   "metadata": {},
   "outputs": [],
   "source": [
    "Volumes_sold=[]\n",
    "try:\n",
    "    for i in driver.find_elements(By.XPATH,'//table[@class=\"in-article sortable\"]//tbody//tr//td[4]'):\n",
    "        Volumes_sold.append(i.text)\n",
    "except NoSuchElementException:\n",
    "    Volumes_sold.append('-')\n",
    "    time.sleep(5)"
   ]
  },
  {
   "cell_type": "code",
   "execution_count": 158,
   "id": "8738f20d",
   "metadata": {},
   "outputs": [
    {
     "data": {
      "text/plain": [
       "100"
      ]
     },
     "execution_count": 158,
     "metadata": {},
     "output_type": "execute_result"
    }
   ],
   "source": [
    "len(Volumes_sold)"
   ]
  },
  {
   "cell_type": "code",
   "execution_count": 159,
   "id": "843c9abe",
   "metadata": {},
   "outputs": [],
   "source": [
    "Publisher=[]\n",
    "try:\n",
    "    for i in driver.find_elements(By.XPATH,'//table[@class=\"in-article sortable\"]//tbody//tr//td[5]'):\n",
    "        Publisher.append(i.text)\n",
    "except NoSuchElementException:\n",
    "    Publisher.append('-')\n",
    "    time.sleep(5)"
   ]
  },
  {
   "cell_type": "code",
   "execution_count": 160,
   "id": "bb0fd4de",
   "metadata": {},
   "outputs": [
    {
     "data": {
      "text/plain": [
       "100"
      ]
     },
     "execution_count": 160,
     "metadata": {},
     "output_type": "execute_result"
    }
   ],
   "source": [
    "len(Publisher)"
   ]
  },
  {
   "cell_type": "code",
   "execution_count": 161,
   "id": "6dba9bb8",
   "metadata": {},
   "outputs": [],
   "source": [
    "Genre=[]\n",
    "try:\n",
    "    for i in driver.find_elements(By.XPATH,'//table[@class=\"in-article sortable\"]//tbody//tr//td[6]'):\n",
    "        Genre.append(i.text)\n",
    "except NoSuchElementException:\n",
    "    Genre.append('-')\n",
    "    time.sleep(5)"
   ]
  },
  {
   "cell_type": "code",
   "execution_count": 162,
   "id": "fbb4432e",
   "metadata": {},
   "outputs": [
    {
     "data": {
      "text/html": [
       "<div>\n",
       "<style scoped>\n",
       "    .dataframe tbody tr th:only-of-type {\n",
       "        vertical-align: middle;\n",
       "    }\n",
       "\n",
       "    .dataframe tbody tr th {\n",
       "        vertical-align: top;\n",
       "    }\n",
       "\n",
       "    .dataframe thead th {\n",
       "        text-align: right;\n",
       "    }\n",
       "</style>\n",
       "<table border=\"1\" class=\"dataframe\">\n",
       "  <thead>\n",
       "    <tr style=\"text-align: right;\">\n",
       "      <th></th>\n",
       "      <th>Book_name</th>\n",
       "      <th>Author_name</th>\n",
       "      <th>Volumes_sold</th>\n",
       "      <th>Publisher</th>\n",
       "      <th>Genre</th>\n",
       "    </tr>\n",
       "  </thead>\n",
       "  <tbody>\n",
       "    <tr>\n",
       "      <th>0</th>\n",
       "      <td>Da Vinci Code,The</td>\n",
       "      <td>Brown, Dan</td>\n",
       "      <td>5,094,805</td>\n",
       "      <td>Transworld</td>\n",
       "      <td>Crime, Thriller &amp; Adventure</td>\n",
       "    </tr>\n",
       "    <tr>\n",
       "      <th>1</th>\n",
       "      <td>Harry Potter and the Deathly Hallows</td>\n",
       "      <td>Rowling, J.K.</td>\n",
       "      <td>4,475,152</td>\n",
       "      <td>Bloomsbury</td>\n",
       "      <td>Children's Fiction</td>\n",
       "    </tr>\n",
       "    <tr>\n",
       "      <th>2</th>\n",
       "      <td>Harry Potter and the Philosopher's Stone</td>\n",
       "      <td>Rowling, J.K.</td>\n",
       "      <td>4,200,654</td>\n",
       "      <td>Bloomsbury</td>\n",
       "      <td>Children's Fiction</td>\n",
       "    </tr>\n",
       "    <tr>\n",
       "      <th>3</th>\n",
       "      <td>Harry Potter and the Order of the Phoenix</td>\n",
       "      <td>Rowling, J.K.</td>\n",
       "      <td>4,179,479</td>\n",
       "      <td>Bloomsbury</td>\n",
       "      <td>Children's Fiction</td>\n",
       "    </tr>\n",
       "    <tr>\n",
       "      <th>4</th>\n",
       "      <td>Fifty Shades of Grey</td>\n",
       "      <td>James, E. L.</td>\n",
       "      <td>3,758,936</td>\n",
       "      <td>Random House</td>\n",
       "      <td>Romance &amp; Sagas</td>\n",
       "    </tr>\n",
       "    <tr>\n",
       "      <th>...</th>\n",
       "      <td>...</td>\n",
       "      <td>...</td>\n",
       "      <td>...</td>\n",
       "      <td>...</td>\n",
       "      <td>...</td>\n",
       "    </tr>\n",
       "    <tr>\n",
       "      <th>95</th>\n",
       "      <td>Ghost,The</td>\n",
       "      <td>Harris, Robert</td>\n",
       "      <td>807,311</td>\n",
       "      <td>Random House</td>\n",
       "      <td>General &amp; Literary Fiction</td>\n",
       "    </tr>\n",
       "    <tr>\n",
       "      <th>96</th>\n",
       "      <td>Happy Days with the Naked Chef</td>\n",
       "      <td>Oliver, Jamie</td>\n",
       "      <td>794,201</td>\n",
       "      <td>Penguin</td>\n",
       "      <td>Food &amp; Drink: General</td>\n",
       "    </tr>\n",
       "    <tr>\n",
       "      <th>97</th>\n",
       "      <td>Hunger Games,The:Hunger Games Trilogy</td>\n",
       "      <td>Collins, Suzanne</td>\n",
       "      <td>792,187</td>\n",
       "      <td>Scholastic Ltd.</td>\n",
       "      <td>Young Adult Fiction</td>\n",
       "    </tr>\n",
       "    <tr>\n",
       "      <th>98</th>\n",
       "      <td>Lost Boy,The:A Foster Child's Search for the L...</td>\n",
       "      <td>Pelzer, Dave</td>\n",
       "      <td>791,507</td>\n",
       "      <td>Orion</td>\n",
       "      <td>Biography: General</td>\n",
       "    </tr>\n",
       "    <tr>\n",
       "      <th>99</th>\n",
       "      <td>Jamie's Ministry of Food:Anyone Can Learn to C...</td>\n",
       "      <td>Oliver, Jamie</td>\n",
       "      <td>791,095</td>\n",
       "      <td>Penguin</td>\n",
       "      <td>Food &amp; Drink: General</td>\n",
       "    </tr>\n",
       "  </tbody>\n",
       "</table>\n",
       "<p>100 rows × 5 columns</p>\n",
       "</div>"
      ],
      "text/plain": [
       "                                            Book_name       Author_name   \n",
       "0                                   Da Vinci Code,The        Brown, Dan  \\\n",
       "1                Harry Potter and the Deathly Hallows     Rowling, J.K.   \n",
       "2            Harry Potter and the Philosopher's Stone     Rowling, J.K.   \n",
       "3           Harry Potter and the Order of the Phoenix     Rowling, J.K.   \n",
       "4                                Fifty Shades of Grey      James, E. L.   \n",
       "..                                                ...               ...   \n",
       "95                                          Ghost,The    Harris, Robert   \n",
       "96                     Happy Days with the Naked Chef     Oliver, Jamie   \n",
       "97              Hunger Games,The:Hunger Games Trilogy  Collins, Suzanne   \n",
       "98  Lost Boy,The:A Foster Child's Search for the L...      Pelzer, Dave   \n",
       "99  Jamie's Ministry of Food:Anyone Can Learn to C...     Oliver, Jamie   \n",
       "\n",
       "   Volumes_sold        Publisher                        Genre  \n",
       "0     5,094,805       Transworld  Crime, Thriller & Adventure  \n",
       "1     4,475,152       Bloomsbury           Children's Fiction  \n",
       "2     4,200,654       Bloomsbury           Children's Fiction  \n",
       "3     4,179,479       Bloomsbury           Children's Fiction  \n",
       "4     3,758,936     Random House              Romance & Sagas  \n",
       "..          ...              ...                          ...  \n",
       "95      807,311     Random House   General & Literary Fiction  \n",
       "96      794,201          Penguin        Food & Drink: General  \n",
       "97      792,187  Scholastic Ltd.          Young Adult Fiction  \n",
       "98      791,507            Orion           Biography: General  \n",
       "99      791,095          Penguin        Food & Drink: General  \n",
       "\n",
       "[100 rows x 5 columns]"
      ]
     },
     "execution_count": 162,
     "metadata": {},
     "output_type": "execute_result"
    }
   ],
   "source": [
    "#Lets make dataframe\n",
    "import pandas as pd\n",
    "data=pd.DataFrame({'Book_name':Book_name,\"Author_name\":Author_name,\"Volumes_sold\":Volumes_sold,\"Publisher\":Publisher,\"Genre\":Genre})\n",
    "data\n"
   ]
  },
  {
   "cell_type": "code",
   "execution_count": 163,
   "id": "32e5ad61",
   "metadata": {},
   "outputs": [],
   "source": [
    "driver.close()"
   ]
  },
  {
   "cell_type": "markdown",
   "id": "f82eae76",
   "metadata": {},
   "source": [
    "question 7"
   ]
  },
  {
   "cell_type": "code",
   "execution_count": 65,
   "id": "36660925",
   "metadata": {},
   "outputs": [],
   "source": [
    "# connect to webdriver\n",
    "driver = webdriver.Chrome(r'chromedriver.exe')"
   ]
  },
  {
   "cell_type": "code",
   "execution_count": 30,
   "id": "c21a1e8d",
   "metadata": {},
   "outputs": [],
   "source": [
    "url=\"https://www.imdb.com/list/ls095964455/\" # Here i am assigning the link in url name variable \n",
    "driver.get(url)"
   ]
  },
  {
   "cell_type": "code",
   "execution_count": 31,
   "id": "979c0d7f",
   "metadata": {},
   "outputs": [],
   "source": [
    "Name=[]\n",
    "try:\n",
    "    for i in driver.find_elements(By.XPATH,\"//h3 [@class='lister-item-header']//a\"):\n",
    "        Name.append(i.text)\n",
    "except NoSuchElementException:\n",
    "    Name.append('-')\n",
    "    time.sleep(5)\n",
    "  "
   ]
  },
  {
   "cell_type": "code",
   "execution_count": 32,
   "id": "d7773070",
   "metadata": {},
   "outputs": [
    {
     "data": {
      "text/plain": [
       "100"
      ]
     },
     "execution_count": 32,
     "metadata": {},
     "output_type": "execute_result"
    }
   ],
   "source": [
    "len(Name)"
   ]
  },
  {
   "cell_type": "code",
   "execution_count": 33,
   "id": "716a0329",
   "metadata": {},
   "outputs": [],
   "source": [
    "Year_span=[]\n",
    "try:\n",
    "    for i in driver.find_elements(By.XPATH,'//span[@ class=\"lister-item-year text-muted unbold\"]'):\n",
    "        Year_span.append(i.text)\n",
    "except NoSuchElementException:\n",
    "    Year_span.append('-')\n",
    "    time.sleep(5)"
   ]
  },
  {
   "cell_type": "code",
   "execution_count": 34,
   "id": "5f33832f",
   "metadata": {},
   "outputs": [
    {
     "data": {
      "text/plain": [
       "100"
      ]
     },
     "execution_count": 34,
     "metadata": {},
     "output_type": "execute_result"
    }
   ],
   "source": [
    "len(Year_span)"
   ]
  },
  {
   "cell_type": "code",
   "execution_count": 35,
   "id": "3c14ed83",
   "metadata": {},
   "outputs": [],
   "source": [
    "Genre=[]\n",
    "try:\n",
    "    for i in driver.find_elements(By.XPATH,'//span[@class=\"genre\"]'):\n",
    "        Genre.append(i.text)\n",
    "except NoSuchElementException:\n",
    "    Genre.append('-')\n",
    "    time.sleep(5)"
   ]
  },
  {
   "cell_type": "code",
   "execution_count": 36,
   "id": "a9e8fa1d",
   "metadata": {},
   "outputs": [
    {
     "data": {
      "text/plain": [
       "100"
      ]
     },
     "execution_count": 36,
     "metadata": {},
     "output_type": "execute_result"
    }
   ],
   "source": [
    "len(Genre)"
   ]
  },
  {
   "cell_type": "code",
   "execution_count": 37,
   "id": "7ca58959",
   "metadata": {},
   "outputs": [],
   "source": [
    "Run_time=[]\n",
    "try:\n",
    "    for i in driver.find_elements(By.XPATH,'//span[@class=\"runtime\"]'):\n",
    "        Run_time.append(i.text)\n",
    "except NoSuchElementException:\n",
    "    Run_time.append('-')\n",
    "    time.sleep(5)"
   ]
  },
  {
   "cell_type": "code",
   "execution_count": 38,
   "id": "4de31ea6",
   "metadata": {},
   "outputs": [
    {
     "data": {
      "text/plain": [
       "100"
      ]
     },
     "execution_count": 38,
     "metadata": {},
     "output_type": "execute_result"
    }
   ],
   "source": [
    "len(Run_time)"
   ]
  },
  {
   "cell_type": "code",
   "execution_count": 39,
   "id": "9aadb295",
   "metadata": {},
   "outputs": [],
   "source": [
    "Ratings=[]\n",
    "try:\n",
    "    for i in driver.find_elements(By.XPATH,'//div[@class=\"ipl-rating-star small\"]//span[2]'):\n",
    "        Ratings.append(i.text)\n",
    "except NoSuchElementException:\n",
    "    Ratings.append('-')\n",
    "    time.sleep(5)"
   ]
  },
  {
   "cell_type": "code",
   "execution_count": 40,
   "id": "63bb54cf",
   "metadata": {},
   "outputs": [
    {
     "data": {
      "text/plain": [
       "100"
      ]
     },
     "execution_count": 40,
     "metadata": {},
     "output_type": "execute_result"
    }
   ],
   "source": [
    "len(Ratings)"
   ]
  },
  {
   "cell_type": "code",
   "execution_count": 41,
   "id": "5686061d",
   "metadata": {},
   "outputs": [],
   "source": [
    "Vote=[]\n",
    "try:\n",
    "    for i in driver.find_elements(By.XPATH,'//span[@name=\"nv\"]'):\n",
    "        Vote.append(i.text)\n",
    "except NoSuchElementException:\n",
    "    Vote.append('-')\n",
    "    time.sleep(5)"
   ]
  },
  {
   "cell_type": "code",
   "execution_count": 42,
   "id": "0721083b",
   "metadata": {},
   "outputs": [
    {
     "data": {
      "text/plain": [
       "100"
      ]
     },
     "execution_count": 42,
     "metadata": {},
     "output_type": "execute_result"
    }
   ],
   "source": [
    "len(Vote)"
   ]
  },
  {
   "cell_type": "code",
   "execution_count": 43,
   "id": "ed0465b8",
   "metadata": {},
   "outputs": [
    {
     "data": {
      "text/html": [
       "<div>\n",
       "<style scoped>\n",
       "    .dataframe tbody tr th:only-of-type {\n",
       "        vertical-align: middle;\n",
       "    }\n",
       "\n",
       "    .dataframe tbody tr th {\n",
       "        vertical-align: top;\n",
       "    }\n",
       "\n",
       "    .dataframe thead th {\n",
       "        text-align: right;\n",
       "    }\n",
       "</style>\n",
       "<table border=\"1\" class=\"dataframe\">\n",
       "  <thead>\n",
       "    <tr style=\"text-align: right;\">\n",
       "      <th></th>\n",
       "      <th>Name</th>\n",
       "      <th>Year_span</th>\n",
       "      <th>Genre</th>\n",
       "      <th>Run_time</th>\n",
       "      <th>Ratings</th>\n",
       "      <th>Vote</th>\n",
       "    </tr>\n",
       "  </thead>\n",
       "  <tbody>\n",
       "    <tr>\n",
       "      <th>0</th>\n",
       "      <td>Game of Thrones</td>\n",
       "      <td>(2011–2019)</td>\n",
       "      <td>Action, Adventure, Drama</td>\n",
       "      <td>57 min</td>\n",
       "      <td>9.2</td>\n",
       "      <td>2,176,882</td>\n",
       "    </tr>\n",
       "    <tr>\n",
       "      <th>1</th>\n",
       "      <td>Stranger Things</td>\n",
       "      <td>(2016–2024)</td>\n",
       "      <td>Drama, Fantasy, Horror</td>\n",
       "      <td>51 min</td>\n",
       "      <td>8.7</td>\n",
       "      <td>1,254,081</td>\n",
       "    </tr>\n",
       "    <tr>\n",
       "      <th>2</th>\n",
       "      <td>The Walking Dead</td>\n",
       "      <td>(2010–2022)</td>\n",
       "      <td>Drama, Horror, Thriller</td>\n",
       "      <td>44 min</td>\n",
       "      <td>8.1</td>\n",
       "      <td>1,033,832</td>\n",
       "    </tr>\n",
       "    <tr>\n",
       "      <th>3</th>\n",
       "      <td>13 Reasons Why</td>\n",
       "      <td>(2017–2020)</td>\n",
       "      <td>Drama, Mystery, Thriller</td>\n",
       "      <td>60 min</td>\n",
       "      <td>7.5</td>\n",
       "      <td>303,954</td>\n",
       "    </tr>\n",
       "    <tr>\n",
       "      <th>4</th>\n",
       "      <td>The 100</td>\n",
       "      <td>(2014–2020)</td>\n",
       "      <td>Drama, Mystery, Sci-Fi</td>\n",
       "      <td>43 min</td>\n",
       "      <td>7.6</td>\n",
       "      <td>263,111</td>\n",
       "    </tr>\n",
       "    <tr>\n",
       "      <th>...</th>\n",
       "      <td>...</td>\n",
       "      <td>...</td>\n",
       "      <td>...</td>\n",
       "      <td>...</td>\n",
       "      <td>...</td>\n",
       "      <td>...</td>\n",
       "    </tr>\n",
       "    <tr>\n",
       "      <th>95</th>\n",
       "      <td>Reign</td>\n",
       "      <td>(2013–2017)</td>\n",
       "      <td>Drama</td>\n",
       "      <td>42 min</td>\n",
       "      <td>7.4</td>\n",
       "      <td>52,030</td>\n",
       "    </tr>\n",
       "    <tr>\n",
       "      <th>96</th>\n",
       "      <td>A Series of Unfortunate Events</td>\n",
       "      <td>(2017–2019)</td>\n",
       "      <td>Adventure, Comedy, Drama</td>\n",
       "      <td>50 min</td>\n",
       "      <td>7.8</td>\n",
       "      <td>64,052</td>\n",
       "    </tr>\n",
       "    <tr>\n",
       "      <th>97</th>\n",
       "      <td>Criminal Minds</td>\n",
       "      <td>(2005– )</td>\n",
       "      <td>Crime, Drama, Mystery</td>\n",
       "      <td>42 min</td>\n",
       "      <td>8.1</td>\n",
       "      <td>208,809</td>\n",
       "    </tr>\n",
       "    <tr>\n",
       "      <th>98</th>\n",
       "      <td>Scream: The TV Series</td>\n",
       "      <td>(2015–2019)</td>\n",
       "      <td>Comedy, Crime, Drama</td>\n",
       "      <td>45 min</td>\n",
       "      <td>7</td>\n",
       "      <td>43,436</td>\n",
       "    </tr>\n",
       "    <tr>\n",
       "      <th>99</th>\n",
       "      <td>The Haunting of Hill House</td>\n",
       "      <td>(2018)</td>\n",
       "      <td>Drama, Horror, Mystery</td>\n",
       "      <td>572 min</td>\n",
       "      <td>8.6</td>\n",
       "      <td>260,839</td>\n",
       "    </tr>\n",
       "  </tbody>\n",
       "</table>\n",
       "<p>100 rows × 6 columns</p>\n",
       "</div>"
      ],
      "text/plain": [
       "                              Name    Year_span                     Genre   \n",
       "0                  Game of Thrones  (2011–2019)  Action, Adventure, Drama  \\\n",
       "1                  Stranger Things  (2016–2024)    Drama, Fantasy, Horror   \n",
       "2                 The Walking Dead  (2010–2022)   Drama, Horror, Thriller   \n",
       "3                   13 Reasons Why  (2017–2020)  Drama, Mystery, Thriller   \n",
       "4                          The 100  (2014–2020)    Drama, Mystery, Sci-Fi   \n",
       "..                             ...          ...                       ...   \n",
       "95                           Reign  (2013–2017)                     Drama   \n",
       "96  A Series of Unfortunate Events  (2017–2019)  Adventure, Comedy, Drama   \n",
       "97                  Criminal Minds     (2005– )     Crime, Drama, Mystery   \n",
       "98           Scream: The TV Series  (2015–2019)      Comedy, Crime, Drama   \n",
       "99      The Haunting of Hill House       (2018)    Drama, Horror, Mystery   \n",
       "\n",
       "   Run_time Ratings       Vote  \n",
       "0    57 min     9.2  2,176,882  \n",
       "1    51 min     8.7  1,254,081  \n",
       "2    44 min     8.1  1,033,832  \n",
       "3    60 min     7.5    303,954  \n",
       "4    43 min     7.6    263,111  \n",
       "..      ...     ...        ...  \n",
       "95   42 min     7.4     52,030  \n",
       "96   50 min     7.8     64,052  \n",
       "97   42 min     8.1    208,809  \n",
       "98   45 min       7     43,436  \n",
       "99  572 min     8.6    260,839  \n",
       "\n",
       "[100 rows x 6 columns]"
      ]
     },
     "execution_count": 43,
     "metadata": {},
     "output_type": "execute_result"
    }
   ],
   "source": [
    "#Lets make datafram\n",
    "import pandas as pd\n",
    "data=pd.DataFrame({\"Name\":Name,\"Year_span\":Year_span,\"Genre\":Genre,\"Run_time\":Run_time,\"Ratings\":Ratings,\"Vote\":Vote})\n",
    "data"
   ]
  },
  {
   "cell_type": "code",
   "execution_count": 66,
   "id": "449557ae",
   "metadata": {},
   "outputs": [],
   "source": [
    "driver.close()"
   ]
  },
  {
   "cell_type": "code",
   "execution_count": 100,
   "id": "e0fbf64f",
   "metadata": {},
   "outputs": [],
   "source": [
    "#question no 8 --- not able to solve"
   ]
  },
  {
   "cell_type": "markdown",
   "id": "8c08d27b",
   "metadata": {},
   "source": [
    "question 9"
   ]
  },
  {
   "cell_type": "code",
   "execution_count": 67,
   "id": "07cf7639",
   "metadata": {},
   "outputs": [],
   "source": [
    "# connect to webdriver\n",
    "driver = webdriver.Chrome(r'chromedriver.exe')"
   ]
  },
  {
   "cell_type": "code",
   "execution_count": 73,
   "id": "250e0ded",
   "metadata": {},
   "outputs": [],
   "source": [
    "url=\"https://www.naukri.com/hr-recruiters-consultants\"\n",
    "driver.get(url)"
   ]
  },
  {
   "cell_type": "code",
   "execution_count": 74,
   "id": "eecdda17",
   "metadata": {},
   "outputs": [
    {
     "name": "stdout",
     "output_type": "stream",
     "text": [
      "Search What You WantData Science\n"
     ]
    },
    {
     "data": {
      "text/plain": [
       "'Data Science'"
      ]
     },
     "execution_count": 74,
     "metadata": {},
     "output_type": "execute_result"
    }
   ],
   "source": [
    "user_input=input(\"Search What You Want\")\n",
    "user_input"
   ]
  },
  {
   "cell_type": "code",
   "execution_count": 77,
   "id": "41c4acb4",
   "metadata": {},
   "outputs": [],
   "source": [
    "search_job=driver.find_element(By.XPATH,\"//input [@class= 'suggestor-input ']\")\n",
    "search_job.send_keys(user_input)"
   ]
  },
  {
   "cell_type": "code",
   "execution_count": 79,
   "id": "d02dc5b9",
   "metadata": {},
   "outputs": [],
   "source": [
    "driver.find_element(By.XPATH,\"/html/body/div[1]/div[3]/div[2]/div[1]/div/button/span[2]\").click()"
   ]
  },
  {
   "cell_type": "code",
   "execution_count": 84,
   "id": "100a919b",
   "metadata": {},
   "outputs": [],
   "source": [
    "Designation=[]\n",
    "try:\n",
    "    for i in driver.find_elements(By.XPATH,'//a [@class=\"title ellipsis\" ]'):\n",
    "        Designation.append(i.text)\n",
    "except NoSuchElementException:\n",
    "    Designation.append('-')\n",
    "    time.sleep(5)"
   ]
  },
  {
   "cell_type": "code",
   "execution_count": 85,
   "id": "120d88f9",
   "metadata": {},
   "outputs": [
    {
     "data": {
      "text/plain": [
       "20"
      ]
     },
     "execution_count": 85,
     "metadata": {},
     "output_type": "execute_result"
    }
   ],
   "source": [
    "len(Designation)"
   ]
  },
  {
   "cell_type": "code",
   "execution_count": 86,
   "id": "b6cc5af1",
   "metadata": {},
   "outputs": [],
   "source": [
    "Company=[]\n",
    "try:\n",
    "    for i in driver.find_elements(By.XPATH,'//a[@ class=\"subTitle ellipsis fleft\" ]'):\n",
    "        Company.append(i.text)\n",
    "except NoSuchElementException:\n",
    "    Company.append('-')\n",
    "    time.sleep(5)"
   ]
  },
  {
   "cell_type": "code",
   "execution_count": 87,
   "id": "b96a346d",
   "metadata": {},
   "outputs": [
    {
     "data": {
      "text/plain": [
       "20"
      ]
     },
     "execution_count": 87,
     "metadata": {},
     "output_type": "execute_result"
    }
   ],
   "source": [
    "len(Company)"
   ]
  },
  {
   "cell_type": "code",
   "execution_count": 90,
   "id": "7cb6d5a9",
   "metadata": {},
   "outputs": [],
   "source": [
    "Skill=[]\n",
    "try:\n",
    "    for i in driver.find_elements(By.XPATH,'//ul [@class=\"tags has-description\"]'):\n",
    "        Skill.append(i.text)\n",
    "except NoSuchElementException:\n",
    "    Skill.append('-')\n",
    "    time.sleep(5)"
   ]
  },
  {
   "cell_type": "code",
   "execution_count": 92,
   "id": "66afd72c",
   "metadata": {},
   "outputs": [
    {
     "data": {
      "text/plain": [
       "20"
      ]
     },
     "execution_count": 92,
     "metadata": {},
     "output_type": "execute_result"
    }
   ],
   "source": [
    "len(Skill)"
   ]
  },
  {
   "cell_type": "code",
   "execution_count": 93,
   "id": "63f1d941",
   "metadata": {},
   "outputs": [],
   "source": [
    "Location=[]\n",
    "try:\n",
    "    for i in driver.find_elements(By.XPATH,'//span[@class=\"ellipsis fleft locWdth\"]'):\n",
    "        Location.append(i.text)\n",
    "except :\n",
    "    Location.append('Nan')\n",
    "    time.sleep(5) "
   ]
  },
  {
   "cell_type": "code",
   "execution_count": 94,
   "id": "ea5e488a",
   "metadata": {},
   "outputs": [
    {
     "data": {
      "text/plain": [
       "20"
      ]
     },
     "execution_count": 94,
     "metadata": {},
     "output_type": "execute_result"
    }
   ],
   "source": [
    "len(Location)"
   ]
  },
  {
   "cell_type": "code",
   "execution_count": 97,
   "id": "3af02189",
   "metadata": {},
   "outputs": [],
   "source": [
    "#name was not available on webpage so scrapped experience in its place"
   ]
  },
  {
   "cell_type": "code",
   "execution_count": 95,
   "id": "84d40b0f",
   "metadata": {},
   "outputs": [],
   "source": [
    "Exp =[]\n",
    "try:\n",
    "    for i in driver.find_elements(By.XPATH,'//span[@class=\"ellipsis fleft expwdth\"]'):\n",
    "        Exp.append(i.text)\n",
    "except NoSuchElementException:\n",
    "    Exp.append('-')\n",
    "    time.sleep(5)"
   ]
  },
  {
   "cell_type": "code",
   "execution_count": 96,
   "id": "dde96648",
   "metadata": {},
   "outputs": [
    {
     "data": {
      "text/plain": [
       "20"
      ]
     },
     "execution_count": 96,
     "metadata": {},
     "output_type": "execute_result"
    }
   ],
   "source": [
    "len(Exp)"
   ]
  },
  {
   "cell_type": "code",
   "execution_count": 98,
   "id": "066272fa",
   "metadata": {},
   "outputs": [
    {
     "data": {
      "text/html": [
       "<div>\n",
       "<style scoped>\n",
       "    .dataframe tbody tr th:only-of-type {\n",
       "        vertical-align: middle;\n",
       "    }\n",
       "\n",
       "    .dataframe tbody tr th {\n",
       "        vertical-align: top;\n",
       "    }\n",
       "\n",
       "    .dataframe thead th {\n",
       "        text-align: right;\n",
       "    }\n",
       "</style>\n",
       "<table border=\"1\" class=\"dataframe\">\n",
       "  <thead>\n",
       "    <tr style=\"text-align: right;\">\n",
       "      <th></th>\n",
       "      <th>Company</th>\n",
       "      <th>Designation</th>\n",
       "      <th>Skill</th>\n",
       "      <th>Location</th>\n",
       "      <th>Exprience</th>\n",
       "    </tr>\n",
       "  </thead>\n",
       "  <tbody>\n",
       "    <tr>\n",
       "      <th>0</th>\n",
       "      <td>Credgenics</td>\n",
       "      <td>Director - Data Science</td>\n",
       "      <td>Data Engineering\\ndata science\\nData Analytics...</td>\n",
       "      <td>Noida, Uttar Pradesh</td>\n",
       "      <td>8-13 Yrs</td>\n",
       "    </tr>\n",
       "    <tr>\n",
       "      <th>1</th>\n",
       "      <td>Blue Yonder</td>\n",
       "      <td>Sr. Product Manager (Data Science, AI/ML)</td>\n",
       "      <td>SR\\nMarketing\\nData Science\\nAnalytical\\nManag...</td>\n",
       "      <td>Bangalore/Bengaluru</td>\n",
       "      <td>5-9 Yrs</td>\n",
       "    </tr>\n",
       "    <tr>\n",
       "      <th>2</th>\n",
       "      <td>Blue Yonder</td>\n",
       "      <td>Sr Product Manager (Data Science/AI/ML)</td>\n",
       "      <td>Data Science\\nproduct manager\\nMachine\\nScienc...</td>\n",
       "      <td>Remote</td>\n",
       "      <td>10-15 Yrs</td>\n",
       "    </tr>\n",
       "    <tr>\n",
       "      <th>3</th>\n",
       "      <td>Transunion</td>\n",
       "      <td>Sr Analyst - Data Science and Analytics</td>\n",
       "      <td>Analytics\\nFinance\\nBusiness intelligence\\nQua...</td>\n",
       "      <td>Pune, Chennai</td>\n",
       "      <td>5-8 Yrs</td>\n",
       "    </tr>\n",
       "    <tr>\n",
       "      <th>4</th>\n",
       "      <td>Arbeit Associates</td>\n",
       "      <td>Data Science Engineer</td>\n",
       "      <td>SQL\\nPython\\nData Science\\nData analytics\\nTab...</td>\n",
       "      <td>Hybrid - Gurgaon/ Gurugram, Haryana, Bangalore...</td>\n",
       "      <td>3-7 Yrs</td>\n",
       "    </tr>\n",
       "    <tr>\n",
       "      <th>5</th>\n",
       "      <td>AVE-Promagne Business Solutions</td>\n",
       "      <td>L&amp;D Trainer - Python &amp; Data Science/Data Analy...</td>\n",
       "      <td>Python\\nMachine\\nScience\\nDevelopment\\nMachine...</td>\n",
       "      <td>Kolkata, Mumbai, Hyderabad/Secunderabad, Pune,...</td>\n",
       "      <td>9-14 Yrs</td>\n",
       "    </tr>\n",
       "    <tr>\n",
       "      <th>6</th>\n",
       "      <td>Mondelez</td>\n",
       "      <td>Manager Data Science</td>\n",
       "      <td>SAP\\nScience\\nRecognition\\nDesign patterns\\nDa...</td>\n",
       "      <td>Mumbai</td>\n",
       "      <td>6-11 Yrs</td>\n",
       "    </tr>\n",
       "    <tr>\n",
       "      <th>7</th>\n",
       "      <td>Dimensions HRD Consultants</td>\n",
       "      <td>Lead - Data Science - Financial Services</td>\n",
       "      <td>Data Science\\nFinancial services\\nScience\\nDat...</td>\n",
       "      <td>Gurgaon/Gurugram</td>\n",
       "      <td>6-8 Yrs</td>\n",
       "    </tr>\n",
       "    <tr>\n",
       "      <th>8</th>\n",
       "      <td>Dimensions HRD Consultants</td>\n",
       "      <td>Head - Data Science &amp; Analytics - Bank</td>\n",
       "      <td>Data Analytics\\nData Science\\nScience\\nData mo...</td>\n",
       "      <td>Gurgaon/Gurugram</td>\n",
       "      <td>12-16 Yrs</td>\n",
       "    </tr>\n",
       "    <tr>\n",
       "      <th>9</th>\n",
       "      <td>Raytheon Technologies</td>\n",
       "      <td>Engineer II- Data Science &amp; Analytics</td>\n",
       "      <td>Data Science\\nstatistical modeling\\nmachine le...</td>\n",
       "      <td>Hybrid - Bangalore/ Bengaluru, Karnataka(Yelah...</td>\n",
       "      <td>4-8 Yrs</td>\n",
       "    </tr>\n",
       "    <tr>\n",
       "      <th>10</th>\n",
       "      <td>Axtria India</td>\n",
       "      <td>Manager/Senior Manager - Data Science</td>\n",
       "      <td>Data Science\\nNatural language processing\\nDat...</td>\n",
       "      <td>Noida, Hyderabad/Secunderabad, Pune, Gurgaon/G...</td>\n",
       "      <td>8-12 Yrs</td>\n",
       "    </tr>\n",
       "    <tr>\n",
       "      <th>11</th>\n",
       "      <td>DUN BRADSTREET INFORMATION SERVICES INDIA PRIV...</td>\n",
       "      <td>Senior Analyst, Data Science</td>\n",
       "      <td>Analysis\\nAnalytical\\nData Science\\nData analy...</td>\n",
       "      <td>Hyderabad/Secunderabad</td>\n",
       "      <td>5-8 Yrs</td>\n",
       "    </tr>\n",
       "    <tr>\n",
       "      <th>12</th>\n",
       "      <td>Tredence</td>\n",
       "      <td>Data Science Manager (NLP) / EMBIZ</td>\n",
       "      <td>Consulting\\nLanguages\\nManagement\\nAnalytical\\...</td>\n",
       "      <td>Kolkata, Mumbai, New Delhi, Hyderabad/Secunder...</td>\n",
       "      <td>5-8 Yrs</td>\n",
       "    </tr>\n",
       "    <tr>\n",
       "      <th>13</th>\n",
       "      <td>Freestone Infotech Private Limited</td>\n",
       "      <td>AI/ML Developer - Python Programming and Data ...</td>\n",
       "      <td>python\\ndata science\\nTensorflow\\nFramework\\nD...</td>\n",
       "      <td>Mumbai (All Areas)</td>\n",
       "      <td>3-5 Yrs</td>\n",
       "    </tr>\n",
       "    <tr>\n",
       "      <th>14</th>\n",
       "      <td>Ajanta Pharma</td>\n",
       "      <td>Sr Programmer - Python / Data Science Developer</td>\n",
       "      <td>Data Modeling\\nPython\\nStatistics\\nData Scienc...</td>\n",
       "      <td>Mumbai, Maharashtra, Mumbai Suburban, Maharashtra</td>\n",
       "      <td>3-7 Yrs</td>\n",
       "    </tr>\n",
       "    <tr>\n",
       "      <th>15</th>\n",
       "      <td>Accenture</td>\n",
       "      <td>Data Science Analytics Sr Analyst - Data Science</td>\n",
       "      <td>Data Science\\nCloud\\nInsights\\nSR\\nBusiness In...</td>\n",
       "      <td>Mumbai</td>\n",
       "      <td>5-8 Yrs</td>\n",
       "    </tr>\n",
       "    <tr>\n",
       "      <th>16</th>\n",
       "      <td>Mondelez</td>\n",
       "      <td>Manager Data Science</td>\n",
       "      <td>Pattern recognition\\nSAP\\nData Science\\nAnalyt...</td>\n",
       "      <td>Mumbai</td>\n",
       "      <td>4-8 Yrs</td>\n",
       "    </tr>\n",
       "    <tr>\n",
       "      <th>17</th>\n",
       "      <td>Teradata</td>\n",
       "      <td>Global Practice Lead - Data Science</td>\n",
       "      <td>Data Science\\nWarehouse\\nAnalytics\\nData\\nGlob...</td>\n",
       "      <td>Hybrid - Hyderabad/ Secunderabad, Telangana, P...</td>\n",
       "      <td>12-22 Yrs</td>\n",
       "    </tr>\n",
       "    <tr>\n",
       "      <th>18</th>\n",
       "      <td>Bizongo</td>\n",
       "      <td>Data Science Engineer</td>\n",
       "      <td>Vision\\nAnalytics\\nDeep Learning\\nNetworking\\n...</td>\n",
       "      <td>Bangalore/Bengaluru</td>\n",
       "      <td>2-4 Yrs</td>\n",
       "    </tr>\n",
       "    <tr>\n",
       "      <th>19</th>\n",
       "      <td>Bajaj Electricals</td>\n",
       "      <td>Demand Planning &amp; Data Science Manager</td>\n",
       "      <td>demand planning\\nAnalytics\\nData\\nPlanning\\nSc...</td>\n",
       "      <td>Mumbai (All Areas)</td>\n",
       "      <td>5-10 Yrs</td>\n",
       "    </tr>\n",
       "  </tbody>\n",
       "</table>\n",
       "</div>"
      ],
      "text/plain": [
       "                                              Company   \n",
       "0                                          Credgenics  \\\n",
       "1                                         Blue Yonder   \n",
       "2                                         Blue Yonder   \n",
       "3                                          Transunion   \n",
       "4                                   Arbeit Associates   \n",
       "5                     AVE-Promagne Business Solutions   \n",
       "6                                            Mondelez   \n",
       "7                          Dimensions HRD Consultants   \n",
       "8                          Dimensions HRD Consultants   \n",
       "9                               Raytheon Technologies   \n",
       "10                                       Axtria India   \n",
       "11  DUN BRADSTREET INFORMATION SERVICES INDIA PRIV...   \n",
       "12                                           Tredence   \n",
       "13                 Freestone Infotech Private Limited   \n",
       "14                                      Ajanta Pharma   \n",
       "15                                          Accenture   \n",
       "16                                           Mondelez   \n",
       "17                                           Teradata   \n",
       "18                                            Bizongo   \n",
       "19                                  Bajaj Electricals   \n",
       "\n",
       "                                          Designation   \n",
       "0                             Director - Data Science  \\\n",
       "1           Sr. Product Manager (Data Science, AI/ML)   \n",
       "2             Sr Product Manager (Data Science/AI/ML)   \n",
       "3             Sr Analyst - Data Science and Analytics   \n",
       "4                               Data Science Engineer   \n",
       "5   L&D Trainer - Python & Data Science/Data Analy...   \n",
       "6                                Manager Data Science   \n",
       "7            Lead - Data Science - Financial Services   \n",
       "8              Head - Data Science & Analytics - Bank   \n",
       "9               Engineer II- Data Science & Analytics   \n",
       "10              Manager/Senior Manager - Data Science   \n",
       "11                       Senior Analyst, Data Science   \n",
       "12                 Data Science Manager (NLP) / EMBIZ   \n",
       "13  AI/ML Developer - Python Programming and Data ...   \n",
       "14    Sr Programmer - Python / Data Science Developer   \n",
       "15   Data Science Analytics Sr Analyst - Data Science   \n",
       "16                               Manager Data Science   \n",
       "17                Global Practice Lead - Data Science   \n",
       "18                              Data Science Engineer   \n",
       "19             Demand Planning & Data Science Manager   \n",
       "\n",
       "                                                Skill   \n",
       "0   Data Engineering\\ndata science\\nData Analytics...  \\\n",
       "1   SR\\nMarketing\\nData Science\\nAnalytical\\nManag...   \n",
       "2   Data Science\\nproduct manager\\nMachine\\nScienc...   \n",
       "3   Analytics\\nFinance\\nBusiness intelligence\\nQua...   \n",
       "4   SQL\\nPython\\nData Science\\nData analytics\\nTab...   \n",
       "5   Python\\nMachine\\nScience\\nDevelopment\\nMachine...   \n",
       "6   SAP\\nScience\\nRecognition\\nDesign patterns\\nDa...   \n",
       "7   Data Science\\nFinancial services\\nScience\\nDat...   \n",
       "8   Data Analytics\\nData Science\\nScience\\nData mo...   \n",
       "9   Data Science\\nstatistical modeling\\nmachine le...   \n",
       "10  Data Science\\nNatural language processing\\nDat...   \n",
       "11  Analysis\\nAnalytical\\nData Science\\nData analy...   \n",
       "12  Consulting\\nLanguages\\nManagement\\nAnalytical\\...   \n",
       "13  python\\ndata science\\nTensorflow\\nFramework\\nD...   \n",
       "14  Data Modeling\\nPython\\nStatistics\\nData Scienc...   \n",
       "15  Data Science\\nCloud\\nInsights\\nSR\\nBusiness In...   \n",
       "16  Pattern recognition\\nSAP\\nData Science\\nAnalyt...   \n",
       "17  Data Science\\nWarehouse\\nAnalytics\\nData\\nGlob...   \n",
       "18  Vision\\nAnalytics\\nDeep Learning\\nNetworking\\n...   \n",
       "19  demand planning\\nAnalytics\\nData\\nPlanning\\nSc...   \n",
       "\n",
       "                                             Location  Exprience  \n",
       "0                                Noida, Uttar Pradesh   8-13 Yrs  \n",
       "1                                 Bangalore/Bengaluru    5-9 Yrs  \n",
       "2                                              Remote  10-15 Yrs  \n",
       "3                                       Pune, Chennai    5-8 Yrs  \n",
       "4   Hybrid - Gurgaon/ Gurugram, Haryana, Bangalore...    3-7 Yrs  \n",
       "5   Kolkata, Mumbai, Hyderabad/Secunderabad, Pune,...   9-14 Yrs  \n",
       "6                                              Mumbai   6-11 Yrs  \n",
       "7                                    Gurgaon/Gurugram    6-8 Yrs  \n",
       "8                                    Gurgaon/Gurugram  12-16 Yrs  \n",
       "9   Hybrid - Bangalore/ Bengaluru, Karnataka(Yelah...    4-8 Yrs  \n",
       "10  Noida, Hyderabad/Secunderabad, Pune, Gurgaon/G...   8-12 Yrs  \n",
       "11                             Hyderabad/Secunderabad    5-8 Yrs  \n",
       "12  Kolkata, Mumbai, New Delhi, Hyderabad/Secunder...    5-8 Yrs  \n",
       "13                                 Mumbai (All Areas)    3-5 Yrs  \n",
       "14  Mumbai, Maharashtra, Mumbai Suburban, Maharashtra    3-7 Yrs  \n",
       "15                                             Mumbai    5-8 Yrs  \n",
       "16                                             Mumbai    4-8 Yrs  \n",
       "17  Hybrid - Hyderabad/ Secunderabad, Telangana, P...  12-22 Yrs  \n",
       "18                                Bangalore/Bengaluru    2-4 Yrs  \n",
       "19                                 Mumbai (All Areas)   5-10 Yrs  "
      ]
     },
     "execution_count": 98,
     "metadata": {},
     "output_type": "execute_result"
    }
   ],
   "source": [
    "import pandas as pd\n",
    "data=pd.DataFrame({\"Company\":Company,\"Designation\":Designation,\"Skill\":Skill,\"Location\":Location,\"Exprience\":Exp})\n",
    "data"
   ]
  },
  {
   "cell_type": "code",
   "execution_count": 99,
   "id": "a5839b03",
   "metadata": {},
   "outputs": [],
   "source": [
    "driver.close()"
   ]
  },
  {
   "cell_type": "code",
   "execution_count": null,
   "id": "449b521b",
   "metadata": {},
   "outputs": [],
   "source": []
  }
 ],
 "metadata": {
  "kernelspec": {
   "display_name": "Python 3 (ipykernel)",
   "language": "python",
   "name": "python3"
  },
  "language_info": {
   "codemirror_mode": {
    "name": "ipython",
    "version": 3
   },
   "file_extension": ".py",
   "mimetype": "text/x-python",
   "name": "python",
   "nbconvert_exporter": "python",
   "pygments_lexer": "ipython3",
   "version": "3.9.12"
  }
 },
 "nbformat": 4,
 "nbformat_minor": 5
}
